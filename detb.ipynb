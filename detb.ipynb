{
 "cells": [
  {
   "cell_type": "code",
   "execution_count": 1,
   "id": "31c589d3",
   "metadata": {},
   "outputs": [],
   "source": [
    "#import ipdb;ipdb.set_trace()"
   ]
  },
  {
   "cell_type": "markdown",
   "id": "ff1a4c21",
   "metadata": {},
   "source": [
    "python -m torch.distributed.launch --nproc_per_node=1 --nnodes=1 byol_main.py"
   ]
  },
  {
   "cell_type": "code",
   "execution_count": 7,
   "id": "957683e5",
   "metadata": {},
   "outputs": [],
   "source": []
  },
  {
   "cell_type": "code",
   "execution_count": 1,
   "id": "984d58bf",
   "metadata": {},
   "outputs": [
    {
     "name": "stdout",
     "output_type": "stream",
     "text": [
      "tensor(6.0717) tensor(2.5080) tensor(3.5637)\n"
     ]
    }
   ],
   "source": [
    "import torch\n",
    "import tensorflow as tf\n",
    "target1 = torch.load('./rand/target1.pt').cpu().detach()\n",
    "target2 = torch.load('./rand/target2.pt').cpu().detach()\n",
    "pred1 = torch.load('./rand/pred1.pt').cpu().detach()\n",
    "pred2 = torch.load('./rand/pred2.pt').cpu().detach()\n",
    "tind1 = torch.load('./rand/tind1.pt').cpu().detach()\n",
    "tind2 = torch.load('./rand/tind2.pt').cpu().detach()\n",
    "pind1 = torch.load('./rand/pind1.pt').cpu().detach()\n",
    "pind2 = torch.load('./rand/pind2.pt').cpu().detach()\n",
    "\n",
    "num_rois =16\n",
    "batch_size=128\n",
    "temperature=0.1\n",
    "max_val=1e9\n",
    "infinity_proxy =1e9\n",
    "import numpy as np\n",
    "import torch\n",
    "from torch import nn\n",
    "\n",
    "def make_same_obj(ind_0, ind_1):\n",
    "    b = ind_0.shape[0]\n",
    "    same_obj = torch.eq(ind_0.reshape([b, num_rois, 1]),\n",
    "                         ind_1.reshape([b, 1, num_rois]))\n",
    "    return same_obj.float().unsqueeze(2)\n",
    "\n",
    "def manual_cross_entropy(labels, logits, weight):\n",
    "    ce = - weight * torch.sum(labels * torch.nn.functional.log_softmax(logits,dim = 1), dim=-1)\n",
    "    return torch.mean(ce)\n",
    "\n",
    "same_obj_aa = make_same_obj(pind1, tind1)\n",
    "same_obj_ab = make_same_obj(pind1, tind2)\n",
    "same_obj_ba = make_same_obj(pind2, tind1)\n",
    "same_obj_bb = make_same_obj(pind2, tind2)\n",
    "\n",
    "#pred1 = torch.nn.functional.normalize(pred1,dim=-1)\n",
    "#pred2 = torch.nn.functional.normalize(pred2,dim=-1)\n",
    "#target1 = torch.nn.functional.normalize(target1,dim=-1)\n",
    "#target2 = torch.nn.functional.normalize(target2,dim=-1)\n",
    "\n",
    "labels_local = torch.nn.functional.one_hot(torch.tensor(np.arange(batch_size))\n",
    "                                           ,batch_size).unsqueeze(1).unsqueeze(3)\n",
    "\n",
    "logits_aa = torch.einsum(\"abk,uvk->abuv\", pred1, target1) / temperature\n",
    "logits_bb = torch.einsum(\"abk,uvk->abuv\", pred2, target2) / temperature\n",
    "logits_ab = torch.einsum(\"abk,uvk->abuv\", pred1, target2) / temperature\n",
    "logits_ba = torch.einsum(\"abk,uvk->abuv\", pred2, target1) / temperature\n",
    "\n",
    "labels_aa = labels_local * same_obj_aa\n",
    "labels_ab = labels_local * same_obj_ab\n",
    "labels_ba = labels_local * same_obj_ba\n",
    "labels_bb = labels_local * same_obj_bb\n",
    "\n",
    "logits_aa = logits_aa - max_val * labels_local * same_obj_aa\n",
    "logits_bb = logits_bb - max_val * labels_local * same_obj_bb\n",
    "labels_aa = 0. * labels_aa\n",
    "labels_bb = 0. * labels_bb\n",
    "\n",
    "labels_abaa = torch.cat([labels_ab, labels_aa], axis=2)\n",
    "labels_babb = torch.cat([labels_ba, labels_bb], axis=2)\n",
    "\n",
    "labels_0 = torch.reshape(labels_abaa, [batch_size, num_rois, -1])\n",
    "labels_1 = torch.reshape(labels_babb, [batch_size, num_rois, -1])\n",
    "\n",
    "num_positives_0 = torch.sum(labels_0, axis=-1, keepdims=True)\n",
    "num_positives_1 = torch.sum(labels_1, axis=-1, keepdims=True)\n",
    "\n",
    "labels_0 = labels_0 / torch.max(num_positives_0, torch.ones(num_positives_0.shape))\n",
    "labels_1 = labels_1 / torch.max(num_positives_1, torch.ones(num_positives_1.shape))\n",
    "\n",
    "obj_area_0 = torch.sum(make_same_obj(pind1, pind1), axis=[2, 3])\n",
    "obj_area_1 = torch.sum(make_same_obj(pind2, pind2), axis=[2, 3])\n",
    "\n",
    "weights_0 = torch.greater(num_positives_0[..., 0], 1e-3).float()\n",
    "weights_0 = weights_0 / obj_area_0\n",
    "weights_1 = torch.greater(num_positives_1[..., 0], 1e-3).float()\n",
    "weights_1 = weights_1 / obj_area_1\n",
    "\n",
    "logits_abaa = torch.cat([logits_ab, logits_aa], axis=2)\n",
    "logits_babb = torch.cat([logits_ba, logits_bb], axis=2)\n",
    "\n",
    "logits_abaa = torch.reshape(logits_abaa, [batch_size, num_rois, -1])\n",
    "logits_babb = torch.reshape(logits_babb, [batch_size, num_rois, -1])\n",
    "\n",
    "loss_a = manual_cross_entropy(labels_0, logits_abaa, weights_0)\n",
    "loss_b = manual_cross_entropy(labels_1, logits_babb, weights_1)\n",
    "loss = loss_a + loss_b\n",
    "print(loss,loss_a,loss_b)"
   ]
  },
  {
   "cell_type": "code",
   "execution_count": 2,
   "id": "829331f8",
   "metadata": {},
   "outputs": [
    {
     "data": {
      "text/plain": [
       "tensor(-9.1422e+12)"
      ]
     },
     "execution_count": 2,
     "metadata": {},
     "output_type": "execute_result"
    }
   ],
   "source": [
    "(torch.sum(labels_0) + torch.sum(logits_abaa) + torch.sum(weights_0) )"
   ]
  },
  {
   "cell_type": "code",
   "execution_count": 3,
   "id": "a48aad12",
   "metadata": {
    "scrolled": true
   },
   "outputs": [
    {
     "data": {
      "text/plain": [
       "tensor(1453.)"
      ]
     },
     "execution_count": 3,
     "metadata": {},
     "output_type": "execute_result"
    }
   ],
   "source": [
    "torch.sum(labels_0)"
   ]
  },
  {
   "cell_type": "code",
   "execution_count": 4,
   "id": "cf34a106",
   "metadata": {},
   "outputs": [
    {
     "data": {
      "text/plain": [
       "tensor(-9.1422e+12)"
      ]
     },
     "execution_count": 4,
     "metadata": {},
     "output_type": "execute_result"
    }
   ],
   "source": [
    "torch.sum(logits_abaa)"
   ]
  },
  {
   "cell_type": "code",
   "execution_count": 5,
   "id": "2b06fde1",
   "metadata": {},
   "outputs": [
    {
     "data": {
      "text/plain": [
       "tensor(388.)"
      ]
     },
     "execution_count": 5,
     "metadata": {},
     "output_type": "execute_result"
    }
   ],
   "source": [
    "torch.sum(weights_0)"
   ]
  },
  {
   "cell_type": "code",
   "execution_count": 6,
   "id": "6dae72f5",
   "metadata": {
    "scrolled": true
   },
   "outputs": [
    {
     "name": "stdout",
     "output_type": "stream",
     "text": [
      "24.543629 10.272728 14.270901\n"
     ]
    }
   ],
   "source": [
    "target1 = torch.load('./rand/target1.pt').cpu().detach()\n",
    "target2 = torch.load('./rand/target2.pt').cpu().detach()\n",
    "pred1 = torch.load('./rand/pred1.pt').cpu().detach()\n",
    "pred2 = torch.load('./rand/pred2.pt').cpu().detach()\n",
    "tind1 = torch.load('./rand/tind1.pt').cpu().detach()\n",
    "tind2 = torch.load('./rand/tind2.pt').cpu().detach()\n",
    "pind1 = torch.load('./rand/pind1.pt').cpu().detach()\n",
    "pind2 = torch.load('./rand/pind2.pt').cpu().detach()\n",
    "target1 = target1.numpy()\n",
    "target2 = target2.numpy()\n",
    "pred1 = pred1.numpy()\n",
    "pred2 = pred2.numpy()\n",
    "tind1 = tind1.numpy()\n",
    "tind2 = tind2.numpy()\n",
    "pind1 = pind1.numpy()\n",
    "pind2 = pind2.numpy()\n",
    "\n",
    "def manual_cross_entropy(labels, logits, weight):\n",
    "  ce = - weight * np.sum(labels * tf.nn.log_softmax(logits), axis=-1)\n",
    "  return np.mean(ce)\n",
    "\n",
    "def make_same_obj(ind_0, ind_1):\n",
    "    same_obj = np.equal(ind_0.reshape([batch_size, num_rois, 1]),\n",
    "                     ind_1.reshape([batch_size, 1, num_rois]))\n",
    "    return np.expand_dims(same_obj.astype(\"float32\"), axis=2)\n",
    "\n",
    "same_obj_aa = make_same_obj(pind1, tind1)\n",
    "same_obj_ab = make_same_obj(pind1, tind2)\n",
    "same_obj_ba = make_same_obj(pind2, tind1)\n",
    "same_obj_bb = make_same_obj(pind2, tind2)\n",
    "\n",
    "# L2 normalize the tensors to use for the cosine-similarity\n",
    "#pred1 = helpers.l2_normalize(pred1, axis=-1)\n",
    "#pred2 = helpers.l2_normalize(pred2, axis=-1)\n",
    "#target1 = helpers.l2_normalize(target1, axis=-1)\n",
    "#target2 = helpers.l2_normalize(target2, axis=-1)\n",
    "\n",
    "target1_large = target1\n",
    "target2_large = target2\n",
    "\n",
    "labels_local = np.expand_dims(np.expand_dims(tf.one_hot(np.arange(batch_size),batch_size), axis=2), axis=1)\n",
    "\n",
    "# Do our matmuls and mask out appropriately.\n",
    "logits_aa = np.einsum(\"abk,uvk->abuv\", pred1, target1_large) / temperature\n",
    "logits_bb = np.einsum(\"abk,uvk->abuv\", pred2, target2_large) / temperature\n",
    "logits_ab = np.einsum(\"abk,uvk->abuv\", pred1, target2_large) / temperature\n",
    "logits_ba = np.einsum(\"abk,uvk->abuv\", pred2, target1_large) / temperature\n",
    "\n",
    "labels_aa = labels_local * same_obj_aa\n",
    "labels_ab = labels_local * same_obj_ab\n",
    "labels_ba = labels_local * same_obj_ba\n",
    "labels_bb = labels_local * same_obj_bb\n",
    "\n",
    "logits_aa = logits_aa - infinity_proxy * labels_local * same_obj_aa\n",
    "logits_bb = logits_bb - infinity_proxy * labels_local * same_obj_bb\n",
    "labels_aa = 0. * labels_aa\n",
    "labels_bb = 0. * labels_bb\n",
    "\n",
    "labels_abaa = np.concatenate([labels_ab, labels_aa], axis=2)\n",
    "labels_babb = np.concatenate([labels_ba, labels_bb], axis=2)\n",
    "\n",
    "labels_0 = np.reshape(labels_abaa, [batch_size, num_rois, -1])\n",
    "labels_1 = np.reshape(labels_babb, [batch_size, num_rois, -1])\n",
    "\n",
    "num_positives_0 = np.sum(labels_0, axis=-1, keepdims=True)\n",
    "num_positives_1 = np.sum(labels_1, axis=-1, keepdims=True)\n",
    "\n",
    "labels_0 = labels_0 / np.maximum(num_positives_0, 1)\n",
    "labels_1 = labels_1 / np.maximum(num_positives_1, 1)\n",
    "\n",
    "obj_area_0 = tf.math.reduce_sum(make_same_obj(pind1, pind1),axis=[2, 3])\n",
    "obj_area_1 = tf.math.reduce_sum(make_same_obj(pind2, pind2),axis=[2, 3])\n",
    "\n",
    "weights_0 = np.greater(num_positives_0[..., 0], 1e-3).astype(\"float32\")\n",
    "weights_0 = weights_0 / obj_area_0\n",
    "weights_1 = np.greater(num_positives_1[..., 0], 1e-3).astype(\"float32\")\n",
    "weights_1 = weights_1 / obj_area_1\n",
    "\n",
    "logits_abaa = np.concatenate([logits_ab, logits_aa], axis=2)\n",
    "logits_babb = np.concatenate([logits_ba, logits_bb], axis=2)\n",
    "\n",
    "logits_abaa = np.reshape(logits_abaa, [batch_size, num_rois, -1])\n",
    "logits_babb = np.reshape(logits_babb, [batch_size, num_rois, -1])\n",
    "\n",
    "loss_a = manual_cross_entropy(labels_0, logits_abaa, weights_0)\n",
    "loss_b = manual_cross_entropy(labels_1, logits_babb, weights_1)\n",
    "loss = loss_a + loss_b\n",
    "print(loss,loss_a,loss_b)"
   ]
  },
  {
   "cell_type": "code",
   "execution_count": 7,
   "id": "1a251383",
   "metadata": {},
   "outputs": [
    {
     "name": "stdout",
     "output_type": "stream",
     "text": [
      "-9142186000000.0\n"
     ]
    }
   ],
   "source": [
    "print(np.sum(logits_abaa) + np.sum(weights_0))"
   ]
  },
  {
   "cell_type": "code",
   "execution_count": 8,
   "id": "adc8f02a",
   "metadata": {},
   "outputs": [
    {
     "data": {
      "text/plain": [
       "1453.0"
      ]
     },
     "execution_count": 8,
     "metadata": {},
     "output_type": "execute_result"
    }
   ],
   "source": [
    "np.sum(labels_0)"
   ]
  },
  {
   "cell_type": "code",
   "execution_count": 9,
   "id": "d6e78887",
   "metadata": {},
   "outputs": [
    {
     "data": {
      "text/plain": [
       "-9142186000000.0"
      ]
     },
     "execution_count": 9,
     "metadata": {},
     "output_type": "execute_result"
    }
   ],
   "source": [
    "np.sum(logits_abaa)"
   ]
  },
  {
   "cell_type": "code",
   "execution_count": 10,
   "id": "63a9b5de",
   "metadata": {},
   "outputs": [
    {
     "data": {
      "text/plain": [
       "388.0"
      ]
     },
     "execution_count": 10,
     "metadata": {},
     "output_type": "execute_result"
    }
   ],
   "source": [
    "np.sum(weights_0)"
   ]
  },
  {
   "cell_type": "code",
   "execution_count": 11,
   "id": "bc49f2d0",
   "metadata": {},
   "outputs": [
    {
     "data": {
      "text/plain": [
       "1841"
      ]
     },
     "execution_count": 11,
     "metadata": {},
     "output_type": "execute_result"
    }
   ],
   "source": [
    "1453+388"
   ]
  },
  {
   "cell_type": "code",
   "execution_count": 14,
   "id": "76079e90",
   "metadata": {},
   "outputs": [
    {
     "data": {
      "text/plain": [
       "-9142185998159"
      ]
     },
     "execution_count": 14,
     "metadata": {},
     "output_type": "execute_result"
    }
   ],
   "source": [
    "1841-9142186000000"
   ]
  },
  {
   "cell_type": "code",
   "execution_count": 18,
   "id": "70d099cc",
   "metadata": {},
   "outputs": [],
   "source": [
    "a = np.sum(weights_0)\n",
    "b = np.sum(logits_abaa) "
   ]
  },
  {
   "cell_type": "code",
   "execution_count": 28,
   "id": "3cddc312",
   "metadata": {},
   "outputs": [
    {
     "data": {
      "text/plain": [
       "388.0"
      ]
     },
     "execution_count": 28,
     "metadata": {},
     "output_type": "execute_result"
    }
   ],
   "source": [
    "a"
   ]
  },
  {
   "cell_type": "code",
   "execution_count": 27,
   "id": "a9de3865",
   "metadata": {},
   "outputs": [
    {
     "data": {
      "text/plain": [
       "-9142186014927.0"
      ]
     },
     "execution_count": 27,
     "metadata": {},
     "output_type": "execute_result"
    }
   ],
   "source": [
    "b+1841"
   ]
  },
  {
   "cell_type": "code",
   "execution_count": 29,
   "id": "e7bb11ff",
   "metadata": {},
   "outputs": [
    {
     "data": {
      "text/plain": [
       "True"
      ]
     },
     "execution_count": 29,
     "metadata": {},
     "output_type": "execute_result"
    }
   ],
   "source": [
    "-9142186000000.0 > -9142186014927.0"
   ]
  },
  {
   "cell_type": "code",
   "execution_count": null,
   "id": "e395a512",
   "metadata": {},
   "outputs": [],
   "source": []
  }
 ],
 "metadata": {
  "kernelspec": {
   "display_name": "Python 3",
   "language": "python",
   "name": "python3"
  },
  "language_info": {
   "codemirror_mode": {
    "name": "ipython",
    "version": 3
   },
   "file_extension": ".py",
   "mimetype": "text/x-python",
   "name": "python",
   "nbconvert_exporter": "python",
   "pygments_lexer": "ipython3",
   "version": "3.6.9"
  }
 },
 "nbformat": 4,
 "nbformat_minor": 5
}
