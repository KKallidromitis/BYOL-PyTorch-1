{
 "cells": [
  {
   "cell_type": "code",
   "execution_count": 1,
   "id": "31c589d3",
   "metadata": {},
   "outputs": [],
   "source": [
    "#import ipdb;ipdb.set_trace()"
   ]
  },
  {
   "cell_type": "markdown",
   "id": "ff1a4c21",
   "metadata": {},
   "source": [
    "python -m torch.distributed.launch --nproc_per_node=1 --nnodes=1 byol_main.py"
   ]
  },
  {
   "cell_type": "code",
   "execution_count": null,
   "id": "2729213f",
   "metadata": {},
   "outputs": [],
   "source": []
  }
 ],
 "metadata": {
  "kernelspec": {
   "display_name": "Python 3",
   "language": "python",
   "name": "python3"
  },
  "language_info": {
   "codemirror_mode": {
    "name": "ipython",
    "version": 3
   },
   "file_extension": ".py",
   "mimetype": "text/x-python",
   "name": "python",
   "nbconvert_exporter": "python",
   "pygments_lexer": "ipython3",
   "version": "3.6.9"
  }
 },
 "nbformat": 4,
 "nbformat_minor": 5
}
