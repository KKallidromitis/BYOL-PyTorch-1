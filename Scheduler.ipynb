{
 "cells": [
  {
   "cell_type": "code",
   "execution_count": 204,
   "id": "13b805bd",
   "metadata": {},
   "outputs": [],
   "source": [
    "import numpy as np\n",
    "class Scheduler:\n",
    "    'abstract class, interface for scheduler'\n",
    "    \n",
    "    def __init__(self,*args,**kwargs):\n",
    "        pass\n",
    "\n",
    "\n",
    "    def get_k(self,epoch):\n",
    "        raise NotImplementedError\n",
    "\n",
    "    def get_num_segments(self,epoch):\n",
    "        k = self.get_k(epoch)\n",
    "        k = int(k)\n",
    "        if k > 64:\n",
    "            return 9999\n",
    "        elif k < 1:\n",
    "            return 1\n",
    "        else:\n",
    "            return k\n",
    "\n",
    "\n",
    "class PiecewiseScheduler(Scheduler):\n",
    "    \n",
    "    def __init__(self,epochs,values):\n",
    "        '''\n",
    "        epoch: int[] \n",
    "        values: int[]\n",
    "        Use k = values[i] from epochs[i]\n",
    "        '''\n",
    "        self.config = list(zip(epochs,values))\n",
    "\n",
    "\n",
    "    def get_k(self,epoch):\n",
    "        _,k = self.config[0]\n",
    "        for e,v in self.config:\n",
    "            if e <= epoch:\n",
    "                k = v\n",
    "        return k\n",
    "\n",
    "\n",
    "class LinearScheduler(Scheduler):\n",
    "    \n",
    "    def __init__(self,epochs,values):\n",
    "        '''\n",
    "        epoch: int[] \n",
    "        values: int[]\n",
    "        Use k = values[i] until epochs[i]\n",
    "        '''\n",
    "        self.config = list(zip(epochs,values))\n",
    "        self.epochs = epochs\n",
    "        self.values = values\n",
    "        self.start = self.epochs[0]\n",
    "        self.end = self.epochs[-1]\n",
    "        assert len(epochs)>=2, 'need to have more than two points for linear function'\n",
    "        self.start_slope = self.get_slope(0,1)\n",
    "        self.end_slope = self.get_slope(-2,-1)\n",
    "\n",
    "    def get_slope(self,start,end):\n",
    "        return  (self.values[end] -self.values[start] )/ (self.epochs[end] - self.epochs[start])\n",
    "\n",
    "    def get_k(self,epoch):\n",
    "        start,end = self.epochs[0],self.epochs[-1]\n",
    "        if epoch <= start:\n",
    "            return self.values[0]- self.start_slope * (start - epoch)\n",
    "        if epoch >= end:\n",
    "            return self.values[-1] + self.end_slope * (epoch - end)\n",
    "        start_idx = 0\n",
    "        end_idx = 1\n",
    "        while epoch > self.epochs[end_idx]:\n",
    "            start_idx += 1\n",
    "            end_idx += 1\n",
    "        a,b = self.epochs[start_idx],self.epochs[end_idx]\n",
    "        slope = self.get_slope(start_idx,end_idx)\n",
    "        return  self.values[start_idx] + slope * (epoch - self.epochs[start_idx])\n",
    "\n",
    "        \n",
    "class ConstantScheduler(Scheduler):\n",
    "    def __init__(self,epochs,values):\n",
    "        self.value = values[0]\n",
    "\n",
    "    def get_k(self,epoch):\n",
    "        return self.value\n",
    "\n",
    "\n",
    "class CosineScheduler(Scheduler):\n",
    "    def __init__(self,epochs,values):\n",
    "        '''\n",
    "        epoch: int[] \n",
    "        values: int[]\n",
    "        '''\n",
    "        self.config = list(zip(epochs,values))\n",
    "        assert len(epochs) == len(values) and len(values) == 2\n",
    "        self.start_val,self.end_val = values\n",
    "        self.start,self.end = epochs\n",
    "        assert self.end  > self.start\n",
    "        if self.end_val > self.start_val:\n",
    "            self.sign = 1\n",
    "            self.max = self.end_val\n",
    "            self.min = self.start_val\n",
    "        else:\n",
    "            self.sign = -1\n",
    "            self.max = self.start_val\n",
    "            self.min = self.end_val\n",
    "\n",
    "    def get_k(self,epoch):\n",
    "        if epoch <= self.start:\n",
    "            return self.start_val\n",
    "        if epoch >= self.end:\n",
    "            return self.end_val\n",
    "        #print(\"CC\")\n",
    "        pi_2 =  np.pi / 2\n",
    "        x = (epoch - self.start) / (self.end - self.start) * pi_2\n",
    "        if self.sign == 1:\n",
    "            x = pi_2 - x\n",
    "        k = np.cos(x) * (self.max- self.min) + self.min\n",
    "        \n",
    "        return k\n",
    "\n",
    "SCHEDULERS = {\n",
    "    'constant':ConstantScheduler,\n",
    "    'piecewise':PiecewiseScheduler,\n",
    "    'linear':LinearScheduler,\n",
    "    'cosine':CosineScheduler\n",
    "}\n",
    "\n",
    "def build_Scheduler(config):\n",
    "    #cluster_config = config['clustering']['scheduler']\n",
    "    cluster_config = config\n",
    "    scheduler_type = cluster_config['type']\n",
    "    assert scheduler_type in SCHEDULERS, \"INVALID SCHEDULE TYPE\"\n",
    "    scheduler_class = SCHEDULERS[scheduler_type]\n",
    "    epochs = cluster_config['epochs']\n",
    "    values = cluster_config['values']\n",
    "    return scheduler_class(epochs,values)"
   ]
  },
  {
   "cell_type": "code",
   "execution_count": 219,
   "id": "997f058f",
   "metadata": {},
   "outputs": [],
   "source": [
    "# config = {\n",
    "#     \"type\":\"cosine\",\n",
    "#     \"epochs\":[0,300],\n",
    "#     \"values\":[64,1] # [1,64] work as well\n",
    "# }\n",
    "# # config = {\n",
    "# #     \"type\":\"piecewise\",\n",
    "# #     \"epochs\":[0,150,300],\n",
    "# #     \"values\":[1,64,32] # 0-150:1 ,150-300:64,300-inf:32\n",
    "# # }\n",
    "# # config = {\n",
    "# #     \"type\":\"linear\",\n",
    "# #     \"epochs\":[0,150,300],\n",
    "# #     \"values\":[1,64,32]\n",
    "# # }"
   ]
  },
  {
   "cell_type": "code",
   "execution_count": 220,
   "id": "3154aca0",
   "metadata": {},
   "outputs": [],
   "source": [
    "from matplotlib import pyplot as plt"
   ]
  },
  {
   "cell_type": "code",
   "execution_count": 221,
   "id": "74a80da1",
   "metadata": {},
   "outputs": [],
   "source": [
    "scheduler = build_Scheduler(config)"
   ]
  },
  {
   "cell_type": "code",
   "execution_count": 222,
   "id": "47a1b1b2",
   "metadata": {},
   "outputs": [
    {
     "data": {
      "text/plain": [
       "[<matplotlib.lines.Line2D at 0x7fe2fe52adc0>]"
      ]
     },
     "execution_count": 222,
     "metadata": {},
     "output_type": "execute_result"
    },
    {
     "data": {
      "image/png": "[encoded data removed]",
      "text/plain": [
       "<Figure size 432x288 with 1 Axes>"
      ]
     },
     "metadata": {
      "needs_background": "light"
     },
     "output_type": "display_data"
    }
   ],
   "source": [
    "x = range(-10,310)\n",
    "y = [scheduler.get_num_segments(i) for i in x]\n",
    "plt.plot(x,y)"
   ]
  },
  {
   "cell_type": "code",
   "execution_count": 223,
   "id": "354398b8",
   "metadata": {},
   "outputs": [
    {
     "ename": "AttributeError",
     "evalue": "'CosineScheduler' object has no attribute 'start_slope'",
     "output_type": "error",
     "traceback": [
      "\u001b[0;31m---------------------------------------------------------------------------\u001b[0m",
      "\u001b[0;31mAttributeError\u001b[0m                            Traceback (most recent call last)",
      "Input \u001b[0;32mIn [223]\u001b[0m, in \u001b[0;36m<cell line: 1>\u001b[0;34m()\u001b[0m\n\u001b[0;32m----> 1\u001b[0m \u001b[43mscheduler\u001b[49m\u001b[38;5;241;43m.\u001b[39;49m\u001b[43mstart_slope\u001b[49m\n",
      "\u001b[0;31mAttributeError\u001b[0m: 'CosineScheduler' object has no attribute 'start_slope'"
     ]
    }
   ],
   "source": [
    "scheduler.start_slope"
   ]
  },
  {
   "cell_type": "code",
   "execution_count": null,
   "id": "36ee03fe",
   "metadata": {},
   "outputs": [],
   "source": []
  },
  {
   "cell_type": "code",
   "execution_count": null,
   "id": "1e45a50e",
   "metadata": {},
   "outputs": [],
   "source": []
  }
 ],
 "metadata": {
  "kernelspec": {
   "display_name": "Python 3 (ipykernel)",
   "language": "python",
   "name": "python3"
  },
  "language_info": {
   "codemirror_mode": {
    "name": "ipython",
    "version": 3
   },
   "file_extension": ".py",
   "mimetype": "text/x-python",
   "name": "python",
   "nbconvert_exporter": "python",
   "pygments_lexer": "ipython3",
   "version": "3.9.7"
  }
 },
 "nbformat": 4,
 "nbformat_minor": 5
}
