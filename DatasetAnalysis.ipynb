{
 "cells": [
  {
   "cell_type": "markdown",
   "id": "459fbd81",
   "metadata": {},
   "source": [
    "# Analysis View Transformations using SimCLR Augmentations\n",
    "\n",
    "The popular suite of data augmentations often used in instance-discrimination based self-supervised learning involves random cropping. The SimCLR authors state \"The crop of random size (uniform from 0.08 to 1.0 in area) of the original size and a random aspect ratio (default: of 3/4 to 4/3) of the original aspect ratio is made.\" (Chen et al. 2020, Appendix A). \n",
    "\n",
    "This notebook delves into the question: **Does random cropping preserve semantics, i.e. are the semantic classes (think semantic segmentation) between views consistent?**\n",
    "\n",
    "We experiment with COCO-Stuff (Caesar et al. 2018) to see the overlap between views"
   ]
  },
  {
   "cell_type": "code",
   "execution_count": 144,
   "id": "b6301f43",
   "metadata": {},
   "outputs": [],
   "source": [
    "# Import torch\n",
    "import torch\n",
    "import torchvision\n",
    "import torch.utils.data as data\n",
    "from torchvision.datasets.utils import download_url, check_integrity\n",
    "from torchvision import transforms\n",
    "from torchvision.transforms import functional as F\n",
    "import numpy as np\n",
    "import random\n",
    "import pycocotools\n",
    "import collections\n",
    "import shutil\n",
    "import tarfile\n",
    "import os, sys\n",
    "from PIL import Image\n",
    "import tqdm.notebook\n",
    "import wget"
   ]
  },
  {
   "cell_type": "code",
   "execution_count": 138,
   "id": "49eb2d63",
   "metadata": {},
   "outputs": [],
   "source": [
    "# PASCAL Dataloader (from https://github.com/VainF/DeepLabV3Plus-Pytorch/blob/master/datasets/voc.py)\n",
    "DATASET_YEAR_DICT = {\n",
    "    '2012': {\n",
    "        'url': 'http://host.robots.ox.ac.uk/pascal/VOC/voc2012/VOCtrainval_11-May-2012.tar',\n",
    "        'filename': 'VOCtrainval_11-May-2012.tar',\n",
    "        'md5': '6cd6e144f989b92b3379bac3b3de84fd',\n",
    "        'base_dir': 'VOCdevkit/VOC2012'\n",
    "    },\n",
    "    '2011': {\n",
    "        'url': 'http://host.robots.ox.ac.uk/pascal/VOC/voc2011/VOCtrainval_25-May-2011.tar',\n",
    "        'filename': 'VOCtrainval_25-May-2011.tar',\n",
    "        'md5': '6c3384ef61512963050cb5d687e5bf1e',\n",
    "        'base_dir': 'TrainVal/VOCdevkit/VOC2011'\n",
    "    },\n",
    "    '2010': {\n",
    "        'url': 'http://host.robots.ox.ac.uk/pascal/VOC/voc2010/VOCtrainval_03-May-2010.tar',\n",
    "        'filename': 'VOCtrainval_03-May-2010.tar',\n",
    "        'md5': 'da459979d0c395079b5c75ee67908abb',\n",
    "        'base_dir': 'VOCdevkit/VOC2010'\n",
    "    },\n",
    "    '2009': {\n",
    "        'url': 'http://host.robots.ox.ac.uk/pascal/VOC/voc2009/VOCtrainval_11-May-2009.tar',\n",
    "        'filename': 'VOCtrainval_11-May-2009.tar',\n",
    "        'md5': '59065e4b188729180974ef6572f6a212',\n",
    "        'base_dir': 'VOCdevkit/VOC2009'\n",
    "    },\n",
    "    '2008': {\n",
    "        'url': 'http://host.robots.ox.ac.uk/pascal/VOC/voc2008/VOCtrainval_14-Jul-2008.tar',\n",
    "        'filename': 'VOCtrainval_11-May-2012.tar',\n",
    "        'md5': '2629fa636546599198acfcfbfcf1904a',\n",
    "        'base_dir': 'VOCdevkit/VOC2008'\n",
    "    },\n",
    "    '2007': {\n",
    "        'url': 'http://host.robots.ox.ac.uk/pascal/VOC/voc2007/VOCtrainval_06-Nov-2007.tar',\n",
    "        'filename': 'VOCtrainval_06-Nov-2007.tar',\n",
    "        'md5': 'c52e279531787c972589f7e41ab4ae64',\n",
    "        'base_dir': 'VOCdevkit/VOC2007'\n",
    "    }\n",
    "}\n",
    "\n",
    "\n",
    "def voc_cmap(N=256, normalized=False):\n",
    "    def bitget(byteval, idx):\n",
    "        return ((byteval & (1 << idx)) != 0)\n",
    "\n",
    "    dtype = 'float32' if normalized else 'uint8'\n",
    "    cmap = np.zeros((N, 3), dtype=dtype)\n",
    "    for i in range(N):\n",
    "        r = g = b = 0\n",
    "        c = i\n",
    "        for j in range(8):\n",
    "            r = r | (bitget(c, 0) << 7-j)\n",
    "            g = g | (bitget(c, 1) << 7-j)\n",
    "            b = b | (bitget(c, 2) << 7-j)\n",
    "            c = c >> 3\n",
    "\n",
    "        cmap[i] = np.array([r, g, b])\n",
    "\n",
    "    cmap = cmap/255 if normalized else cmap\n",
    "    return cmap\n",
    "\n",
    "class VOCSegmentation(data.Dataset):\n",
    "    \"\"\"`Pascal VOC <http://host.robots.ox.ac.uk/pascal/VOC/>`_ Segmentation Dataset.\n",
    "    Args:\n",
    "        root (string): Root directory of the VOC Dataset.\n",
    "        year (string, optional): The dataset year, supports years 2007 to 2012.\n",
    "        image_set (string, optional): Select the image_set to use, ``train``, ``trainval`` or ``val``\n",
    "        download (bool, optional): If true, downloads the dataset from the internet and\n",
    "            puts it in root directory. If dataset is already downloaded, it is not\n",
    "            downloaded again.\n",
    "        transform (callable, optional): A function/transform that  takes in an PIL image\n",
    "            and returns a transformed version. E.g, ``transforms.RandomCrop``\n",
    "    \"\"\"\n",
    "    cmap = voc_cmap()\n",
    "    def __init__(self,\n",
    "                 root,\n",
    "                 year='2012',\n",
    "                 image_set='train',\n",
    "                 download=False,\n",
    "                 transform=None):\n",
    "\n",
    "        is_aug=False\n",
    "        if year=='2012_aug':\n",
    "            is_aug = True\n",
    "            year = '2012'\n",
    "        \n",
    "        self.root = os.path.expanduser(root)\n",
    "        self.year = year\n",
    "        self.url = DATASET_YEAR_DICT[year]['url']\n",
    "        self.filename = DATASET_YEAR_DICT[year]['filename']\n",
    "        self.md5 = DATASET_YEAR_DICT[year]['md5']\n",
    "        self.transform = transform\n",
    "        \n",
    "        self.image_set = image_set\n",
    "        base_dir = DATASET_YEAR_DICT[year]['base_dir']\n",
    "        voc_root = os.path.join(self.root, base_dir)\n",
    "        image_dir = os.path.join(voc_root, 'JPEGImages')\n",
    "\n",
    "        if download:\n",
    "            download_extract(self.url, self.root, self.filename, self.md5)\n",
    "\n",
    "        if not os.path.isdir(voc_root):\n",
    "            raise RuntimeError('Dataset not found or corrupted.' +\n",
    "                               ' You can use download=True to download it')\n",
    "        \n",
    "        if is_aug and image_set=='train':\n",
    "            mask_dir = os.path.join(voc_root, 'SegmentationClassAug')\n",
    "            assert os.path.exists(mask_dir), \"SegmentationClassAug not found, please refer to https://github.com/VainF/DeepLabV3Plus-Pytorch/blob/master/README.md and prepare it manually\"\n",
    "            split_f = os.path.join( self.root, 'train_aug.txt')#'./datasets/data/train_aug.txt'\n",
    "        else:\n",
    "            mask_dir = os.path.join(voc_root, 'SegmentationClass')\n",
    "            splits_dir = os.path.join(voc_root, 'ImageSets/Segmentation')\n",
    "            split_f = os.path.join(splits_dir, image_set.rstrip('\\n') + '.txt')\n",
    "\n",
    "        if not os.path.exists(split_f):\n",
    "            raise ValueError(\n",
    "                'Wrong image_set entered! Please use image_set=\"train\" '\n",
    "                'or image_set=\"trainval\" or image_set=\"val\"')\n",
    "\n",
    "        with open(os.path.join(split_f), \"r\") as f:\n",
    "            file_names = [x.strip() for x in f.readlines()]\n",
    "        \n",
    "        self.images = [os.path.join(image_dir, x + \".jpg\") for x in file_names]\n",
    "        self.masks = [os.path.join(mask_dir, x + \".png\") for x in file_names]\n",
    "        assert (len(self.images) == len(self.masks))\n",
    "\n",
    "    def __getitem__(self, index):\n",
    "        \"\"\"\n",
    "        Args:\n",
    "            index (int): Index\n",
    "        Returns:\n",
    "            tuple: (image, target) where target is the image segmentation.\n",
    "        \"\"\"\n",
    "        img = Image.open(self.images[index]).convert('RGB')\n",
    "        target = Image.open(self.masks[index])\n",
    "        if self.transform is not None:\n",
    "            if isinstance(self.transform, list) and len(self.transform) == 2: #To handle multi-crop\n",
    "                img1, target1 = self.transform[0](img, target)\n",
    "                img2, target2 = self.transform[1](img, target)\n",
    "                return img1, target1, img2, target2\n",
    "                \n",
    "            img, target = self.transform(img, target)\n",
    "\n",
    "        return img, target\n",
    "\n",
    "\n",
    "    def __len__(self):\n",
    "        return len(self.images)\n",
    "\n",
    "    @classmethod\n",
    "    def decode_target(cls, mask):\n",
    "        \"\"\"decode semantic mask to RGB image\"\"\"\n",
    "        return cls.cmap[mask]\n",
    "\n",
    "def download_extract(url, root, filename, md5):\n",
    "    download_url(url, root, filename, md5)\n",
    "    with tarfile.open(os.path.join(root, filename), \"r\") as tar:\n",
    "        tar.extractall(path=root)"
   ]
  },
  {
   "cell_type": "code",
   "execution_count": 139,
   "id": "31594415",
   "metadata": {},
   "outputs": [],
   "source": [
    "pascal = VOCSegmentation(\"./datasets/\", year='2012_aug', image_set=\"train\")"
   ]
  },
  {
   "cell_type": "code",
   "execution_count": 215,
   "id": "0b78f43b",
   "metadata": {},
   "outputs": [
    {
     "data": {
      "text/plain": [
       "<matplotlib.image.AxesImage at 0x7f79d1495950>"
      ]
     },
     "execution_count": 215,
     "metadata": {},
     "output_type": "execute_result"
    },
    {
     "data": {
      "text/plain": [
       "<Figure size 432x288 with 0 Axes>"
      ]
     },
     "metadata": {},
     "output_type": "display_data"
    },
    {
     "data": {
      "image/png": "[encoded data removed]",
      "text/plain": [
       "<Figure size 432x288 with 4 Axes>"
      ]
     },
     "metadata": {
      "needs_background": "light"
     },
     "output_type": "display_data"
    }
   ],
   "source": [
    "import matplotlib.pyplot as plt\n",
    "\n",
    "img, mask = pascal.__getitem__(55)\n",
    "\n",
    "img2, mask2 = pascal.__getitem__(5)\n",
    "\n",
    "plt.figure()\n",
    "\n",
    "#subplot(r,c) provide the no. of rows and columns\n",
    "f, arr = plt.subplots(4,1) \n",
    "arr[0].imshow(img)\n",
    "arr[1].imshow(mask)\n",
    "arr[2].imshow(img2)\n",
    "arr[3].imshow(mask2)\n",
    "# plt.imshow(pascal.decode_target(mask2))\n"
   ]
  },
  {
   "cell_type": "code",
   "execution_count": 246,
   "id": "3a32af50",
   "metadata": {},
   "outputs": [],
   "source": [
    "# From https://github.com/yassouali/pytorch-segmentation/blob/master/utils/lovasz_losses.py\n",
    "def batch_intersection_union(mask1, mask2, num_class):\n",
    "    intersection = mask1 * (mask1 == mask2).long()\n",
    "    area_inter = torch.histc(intersection.float(), bins=num_class, max=num_class, min=1)\n",
    "    area_pred = torch.histc(mask1.float(), bins=num_class, max=num_class, min=1)\n",
    "    area_lab = torch.histc(mask2.float(), bins=num_class, max=num_class, min=1)\n",
    "    area_union = area_pred + area_lab - area_inter\n",
    "    assert (area_inter <= area_union).all(), \"Intersection area should be smaller than Union area\"\n",
    "    return area_inter.cpu().numpy(), area_union.cpu().numpy()\n",
    "\n",
    "def eval_metrics(mask1, mask2, num_class):\n",
    "    mask1 = mask1 * ((mask1 > 0) * (mask1 <= num_class)).long()\n",
    "    mask2 = mask2 * ((mask2 > 0) * (mask2 <= num_class)).long()\n",
    "    inter, union = batch_intersection_union(mask1, mask2, num_class)\n",
    "    return [np.round(inter, 5), np.round(union, 5)]"
   ]
  },
  {
   "cell_type": "code",
   "execution_count": 243,
   "id": "a24f1d39",
   "metadata": {},
   "outputs": [
    {
     "name": "stdout",
     "output_type": "stream",
     "text": [
      "torch.Size([1, 500, 375])\n",
      "tensor([ 0,  2, 15]) tensor([184542,   1157,   1801])\n",
      "[   0. 1157.    0.    0.    0.    0.    0.    0.    0.    0.    0.    0.\n",
      "    0.    0. 1801.    0.    0.    0.    0.    0.]\n",
      "[0.         0.39114267 0.         0.         0.         0.\n",
      " 0.         0.         0.         0.         0.         0.\n",
      " 0.         0.         0.60885733 0.         0.         0.\n",
      " 0.         0.        ]\n",
      "--\n",
      "[0. 1. 0. 0. 0. 0. 0. 0. 0. 0. 0. 0. 0. 0. 1. 0. 0. 0. 0. 0.] 0.1\n"
     ]
    }
   ],
   "source": [
    "mask2_torch = torch.as_tensor(np.array(mask2), dtype=torch.int64).unsqueeze(0)\n",
    "print(mask2_torch.shape)\n",
    "inter, union = eval_metrics(mask2_torch, mask2_torch, 20)\n",
    "print(inter)\n",
    "print(inter / inter.sum())\n",
    "print(\"--\")\n",
    "iou = 1.0 * inter / (np.spacing(1) + union)\n",
    "print(iou, iou.mean())\n",
    "\n",
    "# print(inter.sum() / (375*500))"
   ]
  },
  {
   "cell_type": "code",
   "execution_count": 247,
   "id": "4c1cad53",
   "metadata": {},
   "outputs": [],
   "source": [
    "# Transforms\n",
    "class MaskRandomResizedCrop():\n",
    "    def __init__(self, size):\n",
    "        super().__init__()\n",
    "        self.size = size\n",
    "        self.totensor = transforms.ToTensor()\n",
    "        \n",
    "    def __call__(self, image, mask):\n",
    "        \n",
    "        \"\"\"\n",
    "        Args:\n",
    "            image (PIL Image or Tensor): Image to be cropped and resized.\n",
    "            mask (PIL Image): Mask to be cropped and resized.\n",
    "        Returns:\n",
    "            Tensor: Randomly cropped/resized image.\n",
    "            Mask Tensor: Randomly cropped/resized mask.\n",
    "        \"\"\"\n",
    "        mask = torch.as_tensor(np.array(mask), dtype=torch.int64).unsqueeze(0) #Add channel dim\n",
    "\n",
    "        i, j, h, w = transforms.RandomResizedCrop.get_params(image,scale=(0.08, 1.0), ratio=(3.0/4.0,4.0/3.0))\n",
    "        image = transforms.functional.resize(transforms.functional.crop(image, i, j, h, w),(self.size,self.size),interpolation=transforms.functional.InterpolationMode.BICUBIC)\n",
    "        \n",
    "        # CHECK: RESIZE (??)\n",
    "        image = torch.clip(self.totensor(image),min=0, max=255)\n",
    "        mask = transforms.functional.resize(transforms.functional.crop(mask, i, j, h, w),(self.size,self.size),interpolation=transforms.functional.InterpolationMode.NEAREST)\n",
    "        \n",
    "        return [image,mask]\n",
    "\n",
    "def get_iou(intersection, union):\n",
    "    iou = 1.0 * intersection / (np.spacing(1) + union)\n",
    "    return iou, iou.mean() \n",
    "\n",
    "def compute_overlap(root: str, dataset_name: str=\"voc\", epochs: int=100, seed: int=0):\n",
    "    # Set seed\n",
    "    torch.manual_seed(seed)\n",
    "    random.seed(seed)\n",
    "    \n",
    "    # Define Transforms\n",
    "    simclr_transforms = [MaskRandomResizedCrop(224), MaskRandomResizedCrop(224)]\n",
    "    if dataset_name == \"voc\": #Pascal use train_aug 2012\n",
    "        dataset = VOCSegmentation(root, year=\"2012_aug\", image_set=\"train\", transform=simclr_transforms)\n",
    "    else:\n",
    "        raise NotImplementedError()\n",
    "    \n",
    "    dataloader = torch.utils.data.DataLoader(dataset, batch_size=64, shuffle=True, drop_last=False)\n",
    "\n",
    "    inter, union = 0., 0.\n",
    "    for epoch in tqdm.notebook.trange(epochs, desc='computing overlap', unit='epoch'):\n",
    "        for (img1, mask1, img2, mask2) in dataloader:\n",
    "            curr_inter, curr_union = eval_metrics(mask1, mask2, 20)\n",
    "            inter += curr_inter\n",
    "            union += curr_union\n",
    "                \n",
    "    return inter, union, len(dataset)\n"
   ]
  },
  {
   "cell_type": "code",
   "execution_count": 252,
   "id": "d3a0ad43",
   "metadata": {},
   "outputs": [
    {
     "data": {
      "application/vnd.jupyter.widget-view+json": {
       "model_id": "16a5979a2c0d46c393f15690a12f14f0",
       "version_major": 2,
       "version_minor": 0
      },
      "text/plain": [
       "computing overlap:   0%|          | 0/1 [00:00<?, ?epoch/s]"
      ]
     },
     "metadata": {},
     "output_type": "display_data"
    },
    {
     "data": {
      "application/vnd.jupyter.widget-view+json": {
       "model_id": "6d3ffdf7f49a4e34a05c968637bf2a40",
       "version_major": 2,
       "version_minor": 0
      },
      "text/plain": [
       "computing overlap:   0%|          | 0/1 [00:00<?, ?epoch/s]"
      ]
     },
     "metadata": {},
     "output_type": "display_data"
    },
    {
     "data": {
      "application/vnd.jupyter.widget-view+json": {
       "model_id": "38a3f1133e454465b26da6ac5a5591ce",
       "version_major": 2,
       "version_minor": 0
      },
      "text/plain": [
       "computing overlap:   0%|          | 0/1 [00:00<?, ?epoch/s]"
      ]
     },
     "metadata": {},
     "output_type": "display_data"
    },
    {
     "ename": "TypeError",
     "evalue": "'type' object is not subscriptable",
     "output_type": "error",
     "traceback": [
      "\u001b[0;31m---------------------------------------------------------------------------\u001b[0m",
      "\u001b[0;31mTypeError\u001b[0m                                 Traceback (most recent call last)",
      "\u001b[0;32m/tmp/ipykernel_2509858/1983055911.py\u001b[0m in \u001b[0;36m<module>\u001b[0;34m\u001b[0m\n\u001b[1;32m      8\u001b[0m \u001b[0;34m\u001b[0m\u001b[0m\n\u001b[1;32m      9\u001b[0m \u001b[0miou\u001b[0m\u001b[0;34m,\u001b[0m \u001b[0mmiou\u001b[0m \u001b[0;34m=\u001b[0m \u001b[0;36m0.\u001b[0m\u001b[0;34m,\u001b[0m \u001b[0;36m0.\u001b[0m\u001b[0;34m\u001b[0m\u001b[0;34m\u001b[0m\u001b[0m\n\u001b[0;32m---> 10\u001b[0;31m \u001b[0;32mfor\u001b[0m \u001b[0mseed\u001b[0m \u001b[0;32min\u001b[0m \u001b[0mrange\u001b[0m\u001b[0;34m[\u001b[0m\u001b[0;36m0\u001b[0m\u001b[0;34m,\u001b[0m\u001b[0;36m1\u001b[0m\u001b[0;34m,\u001b[0m\u001b[0;36m2\u001b[0m\u001b[0;34m]\u001b[0m\u001b[0;34m:\u001b[0m\u001b[0;34m\u001b[0m\u001b[0;34m\u001b[0m\u001b[0m\n\u001b[0m\u001b[1;32m     11\u001b[0m     \u001b[0mcurr_iou\u001b[0m\u001b[0;34m,\u001b[0m \u001b[0mcurr_miou\u001b[0m \u001b[0;34m=\u001b[0m \u001b[0mget_iou\u001b[0m\u001b[0;34m(\u001b[0m\u001b[0mtotal_inter\u001b[0m\u001b[0;34m[\u001b[0m\u001b[0mseed\u001b[0m\u001b[0;34m]\u001b[0m\u001b[0;34m,\u001b[0m \u001b[0mtotal_union\u001b[0m\u001b[0;34m[\u001b[0m\u001b[0mseed\u001b[0m\u001b[0;34m]\u001b[0m\u001b[0;34m)\u001b[0m\u001b[0;34m\u001b[0m\u001b[0;34m\u001b[0m\u001b[0m\n\u001b[1;32m     12\u001b[0m     \u001b[0miou\u001b[0m \u001b[0;34m+=\u001b[0m \u001b[0mcurr_iou\u001b[0m\u001b[0;34m\u001b[0m\u001b[0;34m\u001b[0m\u001b[0m\n",
      "\u001b[0;31mTypeError\u001b[0m: 'type' object is not subscriptable"
     ]
    }
   ],
   "source": [
    "total_inter, total_union, total_samples = [0.]*3, [0.]*3, [0.]*3\n",
    "epochs = 1\n",
    "for seed in [0, 1, 2]:\n",
    "    inter, union, samples = compute_overlap(\"./datasets/\", \"voc\", epochs, seed)\n",
    "    total_inter[seed] += inter\n",
    "    total_union[seed] += union\n",
    "    total_samples[seed] += samples"
   ]
  },
  {
   "cell_type": "code",
   "execution_count": 255,
   "id": "ab3cad00",
   "metadata": {},
   "outputs": [
    {
     "name": "stdout",
     "output_type": "stream",
     "text": [
      "[0.3600019  0.41209462 0.33366716 0.39492592 0.41370693 0.58266383\n",
      " 0.530947   0.5467031  0.3083383  0.45189166 0.48213133 0.47536185\n",
      " 0.38860163 0.48793817 0.4175427  0.48110893 0.449782   0.42454615\n",
      " 0.48981094 0.43366858]\n",
      "0.4432716369628906\n"
     ]
    }
   ],
   "source": [
    "iou, miou = 0., 0.\n",
    "for seed in [0,1,2]:\n",
    "    curr_iou, curr_miou = get_iou(total_inter[seed], total_union[seed])\n",
    "    iou += curr_iou\n",
    "    miou += curr_miou\n",
    "\n",
    "print(iou / 3)\n",
    "print(miou / 3)"
   ]
  },
  {
   "cell_type": "code",
   "execution_count": null,
   "id": "fe14dfc4",
   "metadata": {},
   "outputs": [],
   "source": []
  }
 ],
 "metadata": {
  "kernelspec": {
   "display_name": "detcon_kernel",
   "language": "python",
   "name": "detcon_kernel"
  },
  "language_info": {
   "codemirror_mode": {
    "name": "ipython",
    "version": 3
   },
   "file_extension": ".py",
   "mimetype": "text/x-python",
   "name": "python",
   "nbconvert_exporter": "python",
   "pygments_lexer": "ipython3",
   "version": "3.7.13"
  }
 },
 "nbformat": 4,
 "nbformat_minor": 5
}
