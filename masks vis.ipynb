{
 "cells": [
  {
   "cell_type": "code",
   "execution_count": null,
   "id": "c018091e",
   "metadata": {},
   "outputs": [],
   "source": [
    "import torch\n",
    "from model import BYOLModel\n",
    "import yaml\n",
    "weights_pth = '/home/kkallidromitis/tdown/05_07_20-33/05_07_20-33_resnet50_300.pth.tar'\n",
    "config = torch.load(weights_pth)['config']\n",
    "config['data']['n_kmeans'] = 4\n",
    "config['data']['subset'] = \"\"\n",
    "model = BYOLModel(config).to('cuda')\n"
   ]
  },
  {
   "cell_type": "code",
   "execution_count": null,
   "id": "05ff6d78",
   "metadata": {},
   "outputs": [],
   "source": [
    "config['data']"
   ]
  },
  {
   "cell_type": "code",
   "execution_count": null,
   "id": "6f0119f5",
   "metadata": {},
   "outputs": [],
   "source": [
    "state_dict = {}\n",
    "checkpoint = torch.load(weights_pth)['model']\n",
    "length = len(model.state_dict())\n",
    "keys=list(checkpoint.keys())[:length]\n",
    "for name, param in zip(model.state_dict(), list(checkpoint.values())[:length]):\n",
    "    state_dict[name] = param\n",
    "\n",
    "model.load_state_dict(state_dict, strict=True)"
   ]
  },
  {
   "cell_type": "code",
   "execution_count": null,
   "id": "d154ed93",
   "metadata": {},
   "outputs": [],
   "source": [
    "model.eval()\n",
    "random_seed = 15 # or any of your favorite number \n",
    "torch.manual_seed(random_seed)\n",
    "torch.cuda.manual_seed(random_seed)"
   ]
  },
  {
   "cell_type": "code",
   "execution_count": null,
   "id": "86e19a4e",
   "metadata": {},
   "outputs": [],
   "source": [
    "import matplotlib.pyplot as plt\n",
    "\n",
    "img_dir = '/home/kkallidromitis/data/imagenet/images/train/n02510455/n02510455_3566.JPEG'\n",
    "img = plt.imread(img_dir)\n",
    "plt.imshow(img)\n",
    "\n",
    "new_img = (img_dir,0)"
   ]
  },
  {
   "cell_type": "code",
   "execution_count": null,
   "id": "5b5da485",
   "metadata": {
    "scrolled": true
   },
   "outputs": [],
   "source": [
    "import torchvision\n",
    "from torchvision import datasets,transforms\n",
    "from data.byol_transform import MultiViewDataInjector, get_transform,SSLMaskDataset\n",
    "image_dir ='/home/kkallidromitis/data/imagenet/images/train'\n",
    "mask_file_path = None\n",
    "mask_file= None\n",
    "transform1 = get_transform('train')\n",
    "transform2 = get_transform('train', gb_prob=0.1, solarize_prob=0.2)\n",
    "transform3 = get_transform('raw')\n",
    "\n",
    "transform = MultiViewDataInjector([transform1, transform2,transform3],config['data']['over_lap_mask'],\n",
    "                                  config['data']['slic_segments'])\n",
    "\n",
    "dataset = SSLMaskDataset(image_dir,mask_file,transform=transform,mask_file_path=mask_file_path,\n",
    "                         subset=config['data'].get(\"subset\", \"\"))#,specific=\"n02510455\")\n",
    "\n",
    "from torch.utils.data import DataLoader\n",
    "\n",
    "train_dataloader = DataLoader(dataset, batch_size=32, shuffle=True)"
   ]
  },
  {
   "cell_type": "code",
   "execution_count": null,
   "id": "3fed61ea",
   "metadata": {
    "scrolled": true
   },
   "outputs": [],
   "source": [
    "import numpy as np\n",
    "\n",
    "def dump_img(imgs,category):\n",
    "    n_imgs = len(imgs)\n",
    "    fig, axes = plt.subplots(1,n_imgs,figsize=(5*n_imgs, 5))\n",
    "    #raw, kmeans on \n",
    "    fig.tight_layout()\n",
    "    for idx,img in enumerate(imgs):\n",
    "        axes[idx].imshow(img)\n",
    "    plt.show()\n",
    "\n",
    "delay = 1\n",
    "for images, masks,diff_transfrom,paths in train_dataloader:\n",
    "    delay -=1\n",
    "    if delay==0:\n",
    "        print(images.shape)\n",
    "        paths = list(paths)\n",
    "        #images,masks,diff_transfrom = images.unsqueeze(0),masks.unsqueeze(0),diff_transfrom.unsqueeze(0)\n",
    "        view1 = images[:, 0, ...].contiguous()\n",
    "        view2 = images[:, 1, ...].contiguous()\n",
    "        view_raw = images[:, 2, ...].contiguous()\n",
    "        slic_labelmap = masks[:,2,1,...].contiguous() # B X 1 X H X W\n",
    "        with torch.no_grad():\n",
    "            converted_idx_b,converted_idx = model.do_kmeans(view_raw.to('cuda'),slic_labelmap.to('cuda'),False)\n",
    "        applied_mask = converted_idx\n",
    "        mask_target = slic_labelmap\n",
    "        break"
   ]
  },
  {
   "cell_type": "code",
   "execution_count": null,
   "id": "32dc18c2",
   "metadata": {
    "scrolled": true
   },
   "outputs": [],
   "source": [
    "paths"
   ]
  },
  {
   "cell_type": "code",
   "execution_count": null,
   "id": "b27cc71f",
   "metadata": {},
   "outputs": [],
   "source": [
    "resize_raw = transforms.Resize((224,224))\n",
    "totensor = transforms.ToTensor()"
   ]
  },
  {
   "cell_type": "code",
   "execution_count": null,
   "id": "3a4e95da",
   "metadata": {
    "scrolled": true
   },
   "outputs": [],
   "source": [
    "from PIL import Image\n",
    "images = []\n",
    "masks = []\n",
    "slics = []\n",
    "for i in range(len(mask_target)):\n",
    "    print(i)\n",
    "    img_mask = mask_target[i].detach().cpu()\n",
    "    applied_masked = applied_mask[i].detach().cpu()\n",
    "    view_rawer = totensor(resize_raw(Image.open(paths[i]))).permute(1,2,0).detach().cpu()\n",
    "    #print(img_mask.shape,applied_mask.shape,view_rawer.shape)\n",
    "    dump_img([view_rawer,img_mask,applied_masked],\"Masks\")\n",
    "    images.append(view_rawer)\n",
    "    slics.append(img_mask)\n",
    "    masks.append(applied_masked)"
   ]
  },
  {
   "cell_type": "code",
   "execution_count": null,
   "id": "6e8e05a3",
   "metadata": {},
   "outputs": [],
   "source": [
    "resize = transforms.Resize((224,224),interpolation=transforms.functional.InterpolationMode.NEAREST)\n",
    "grey = transforms.Grayscale()\n",
    "from matplotlib.pyplot import figure\n",
    "\n",
    "\n",
    "def combine_img_mask(images,masks,slics,i,labels=[],style=None):\n",
    "    views = []\n",
    "    img = grey(images[i].permute(2,0,1)).squeeze().numpy()\n",
    "    mask = resize(masks[i].unsqueeze(0)).squeeze().numpy()\n",
    "    \n",
    "    if len(labels)>0:\n",
    "        mask = np.where(mask==labels[0], mask, -1)\n",
    "    fig, ax = plt.subplots(1,3,figsize=(12,6))\n",
    "    ax[0].axis('off')\n",
    "    ax[1].axis('off')\n",
    "    ax[2].axis('off')\n",
    "    ax[0].imshow(images[i].numpy())\n",
    "    ax[1].imshow(slics[i].numpy())\n",
    "    ax[2].imshow(mask, style, interpolation='none')\n",
    "    ax[2].imshow(img, 'gray', interpolation='none', alpha=0.6)\n",
    "    plt.tight_layout()\n",
    "    plt.show()"
   ]
  },
  {
   "cell_type": "code",
   "execution_count": null,
   "id": "aa36748d",
   "metadata": {
    "scrolled": true
   },
   "outputs": [],
   "source": [
    "index = 10\n",
    "labels = np.unique(masks[index])\n",
    "c=0\n",
    "for i in labels:\n",
    "    print(i,c)\n",
    "    c+=1\n",
    "    combine_img_mask(images,masks,slics,index,[i],'OrRd')"
   ]
  },
  {
   "cell_type": "code",
   "execution_count": null,
   "id": "cd088240",
   "metadata": {
    "scrolled": false
   },
   "outputs": [],
   "source": [
    "img = grey(images[index].permute(2,0,1)).squeeze().numpy()\n",
    "mask = resize(masks[index].unsqueeze(0)).squeeze().numpy()\n",
    "\n",
    "masks_bin =[]\n",
    "for l in labels:\n",
    "        masks_bin.append(np.where(mask==l, mask, -1))\n",
    "    \n",
    "fig, ax = plt.subplots(1,4,figsize=(18,6))\n",
    "\n",
    "ax[0].axis('off')\n",
    "ax[1].axis('off')\n",
    "ax[2].axis('off')\n",
    "ax[3].axis('off')\n",
    "ax[0].imshow(images[index].numpy())\n",
    "ax[1].imshow(masks_bin[0], 'OrRd', interpolation='none')\n",
    "ax[1].imshow(img, 'gray', interpolation='none', alpha=0.6)\n",
    "ax[2].imshow(masks_bin[1], 'OrRd', interpolation='none')\n",
    "ax[2].imshow(img, 'gray', interpolation='none', alpha=0.6)\n",
    "ax[3].imshow(masks_bin[0], 'OrRd', interpolation='none')\n",
    "ax[3].imshow(img, 'gray', interpolation='none', alpha=0.6)\n",
    "plt.tight_layout()\n",
    "\n",
    "plt.show()"
   ]
  },
  {
   "cell_type": "code",
   "execution_count": null,
   "id": "240c48c7",
   "metadata": {
    "scrolled": true
   },
   "outputs": [],
   "source": [
    "img = grey(images[index].permute(2,0,1)).squeeze().numpy()\n",
    "mask = resize(masks[index].unsqueeze(0)).squeeze().numpy()\n",
    "\n",
    "masks_bin =[]\n",
    "for l in labels:\n",
    "        masks_bin.append(np.where(mask==l, mask, -1))\n",
    "    \n",
    "fig, ax = plt.subplots(1,3,figsize=(18,6))\n",
    "\n",
    "ax[0].axis('off')\n",
    "ax[1].axis('off')\n",
    "ax[2].axis('off')\n",
    "ax[0].imshow(masks_bin[2], 'Blues', interpolation='none')\n",
    "ax[0].imshow(img, 'gray', interpolation='none', alpha=0.6)\n",
    "ax[1].imshow(masks_bin[0], 'Blues', interpolation='none')\n",
    "ax[1].imshow(img, 'gray', interpolation='none', alpha=0.6)\n",
    "ax[2].imshow(masks_bin[1], 'Blues', interpolation='none')\n",
    "ax[2].imshow(img, 'gray', interpolation='none', alpha=0.6)\n",
    "plt.tight_layout()\n",
    "\n",
    "plt.show()"
   ]
  },
  {
   "cell_type": "code",
   "execution_count": null,
   "id": "7eba33ac",
   "metadata": {},
   "outputs": [],
   "source": [
    "combine_img_mask(images,masks,slics,index,[12],'OrRd')"
   ]
  },
  {
   "cell_type": "code",
   "execution_count": null,
   "id": "39c1480a",
   "metadata": {
    "scrolled": true
   },
   "outputs": [],
   "source": [
    "for c in ['Accent', 'Accent_r', 'Blues', 'Blues_r', 'BrBG', 'BrBG_r', 'BuGn', 'BuGn_r', 'BuPu', 'BuPu_r', 'CMRmap', 'CMRmap_r', 'Dark2', 'Dark2_r', 'GnBu', 'GnBu_r', 'Greens', 'Greens_r', 'Greys', 'Greys_r', 'OrRd', 'OrRd_r', 'Oranges', 'Oranges_r', 'PRGn', 'PRGn_r', 'Paired', 'Paired_r', 'Pastel1', 'Pastel1_r', 'Pastel2', 'Pastel2_r', 'PiYG', 'PiYG_r', 'PuBu', 'PuBuGn', 'PuBuGn_r', 'PuBu_r', 'PuOr', 'PuOr_r', 'PuRd', 'PuRd_r', 'Purples', 'Purples_r', 'RdBu', 'RdBu_r', 'RdGy', 'RdGy_r', 'RdPu', 'RdPu_r', 'RdYlBu', 'RdYlBu_r', 'RdYlGn', 'RdYlGn_r', 'Reds', 'Reds_r', 'Set1', 'Set1_r', 'Set2', 'Set2_r', 'Set3', 'Set3_r', 'Spectral', 'Spectral_r', 'Wistia', 'Wistia_r', 'YlGn', 'YlGnBu', 'YlGnBu_r', 'YlGn_r', 'YlOrBr', 'YlOrBr_r', 'YlOrRd', 'YlOrRd_r', 'afmhot', 'afmhot_r', 'autumn', 'autumn_r', 'binary', 'binary_r', 'bone', 'bone_r', 'brg', 'brg_r', 'bwr', 'bwr_r', 'cividis', 'cividis_r', 'cool', 'cool_r', 'coolwarm', 'coolwarm_r', 'copper', 'copper_r', 'cubehelix', 'cubehelix_r', 'flag', 'flag_r', 'gist_earth', 'gist_earth_r', 'gist_gray', 'gist_gray_r', 'gist_heat', 'gist_heat_r', 'gist_ncar', 'gist_ncar_r', 'gist_rainbow', 'gist_rainbow_r', 'gist_stern', 'gist_stern_r', 'gist_yarg', 'gist_yarg_r', 'gnuplot', 'gnuplot2', 'gnuplot2_r', 'gnuplot_r', 'gray', 'gray_r', 'hot', 'hot_r', 'hsv', 'hsv_r', 'inferno', 'inferno_r', 'jet', 'jet_r', 'magma', 'magma_r', 'nipy_spectral', 'nipy_spectral_r', 'ocean', 'ocean_r', 'pink', 'pink_r', 'plasma', 'plasma_r', 'prism', 'prism_r', 'rainbow', 'rainbow_r', 'seismic', 'seismic_r', 'spring', 'spring_r', 'summer', 'summer_r', 'tab10', 'tab10_r', 'tab20', 'tab20_r', 'tab20b', 'tab20b_r', 'tab20c', 'tab20c_r', 'terrain', 'terrain_r', 'turbo', 'turbo_r', 'twilight', 'twilight_r', 'twilight_shifted', 'twilight_shifted_r', 'viridis', 'viridis_r', 'winter', 'winter_r']:\n",
    "    combine_img_mask(images,masks,slics,0,[42],c)"
   ]
  },
  {
   "cell_type": "code",
   "execution_count": null,
   "id": "ad5292f6",
   "metadata": {},
   "outputs": [],
   "source": [
    "img = grey(images[i].permute(2,0,1)).squeeze().numpy()\n",
    "mask = resize(masks[i].unsqueeze(0)).squeeze().numpy()"
   ]
  },
  {
   "cell_type": "code",
   "execution_count": null,
   "id": "b1f6161b",
   "metadata": {},
   "outputs": [],
   "source": [
    "i=218\n",
    "plt.rcParams[\"figure.figsize\"] = (8,8)\n",
    "plt.imshow(images[i].numpy())\n",
    "plt.axis('off')\n",
    "plt.savefig('panda.png', bbox_inches='tight',pad_inches = 0)"
   ]
  },
  {
   "cell_type": "code",
   "execution_count": null,
   "id": "2137e77a",
   "metadata": {},
   "outputs": [],
   "source": [
    "plt.imshow(np.exp(view1[i].permute(1,2,0)))\n",
    "plt.axis('off')\n",
    "plt.savefig('panda_v1.png', bbox_inches='tight',pad_inches = 0)"
   ]
  },
  {
   "cell_type": "code",
   "execution_count": null,
   "id": "7dacc28f",
   "metadata": {},
   "outputs": [],
   "source": [
    "plt.imshow(np.exp(view2[i].permute(1,2,0)))\n",
    "plt.axis('off')\n",
    "plt.savefig('panda_v2.png', bbox_inches='tight',pad_inches = 0)"
   ]
  },
  {
   "cell_type": "code",
   "execution_count": null,
   "id": "6643153b",
   "metadata": {},
   "outputs": [],
   "source": [
    "i=218\n",
    "plt.rcParams[\"figure.figsize\"] = (8,8)\n",
    "plt.imshow(slics[i].numpy())\n",
    "plt.axis('off')\n",
    "plt.savefig('panda_slic.png', bbox_inches='tight',pad_inches = 0)"
   ]
  },
  {
   "cell_type": "code",
   "execution_count": null,
   "id": "876d9786",
   "metadata": {},
   "outputs": [],
   "source": [
    "img = grey(images[218].permute(2,0,1)).squeeze().numpy()\n",
    "mask = resize(masks[218].unsqueeze(0)).squeeze().numpy()\n",
    "\n",
    "plt.imshow(mask, 'jet', interpolation='none')\n",
    "plt.imshow(img, 'gray', interpolation='none', alpha=0.6)\n",
    "plt.axis('off')\n",
    "plt.savefig('panda_reg.png', bbox_inches='tight',pad_inches = 0)"
   ]
  },
  {
   "cell_type": "code",
   "execution_count": null,
   "id": "40d4eb02",
   "metadata": {},
   "outputs": [],
   "source": [
    "plt.imshow(mask)\n",
    "plt.axis('off')\n",
    "plt.savefig('panda_mask.png', bbox_inches='tight',pad_inches = 0)"
   ]
  },
  {
   "cell_type": "code",
   "execution_count": null,
   "id": "afaa35e5",
   "metadata": {},
   "outputs": [],
   "source": []
  }
 ],
 "metadata": {
  "kernelspec": {
   "display_name": "Python 3",
   "language": "python",
   "name": "python3"
  },
  "language_info": {
   "codemirror_mode": {
    "name": "ipython",
    "version": 3
   },
   "file_extension": ".py",
   "mimetype": "text/x-python",
   "name": "python",
   "nbconvert_exporter": "python",
   "pygments_lexer": "ipython3",
   "version": "3.6.9"
  }
 },
 "nbformat": 4,
 "nbformat_minor": 5
}
