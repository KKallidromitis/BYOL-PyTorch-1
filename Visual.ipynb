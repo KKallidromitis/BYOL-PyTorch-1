{
 "cells": [
  {
   "cell_type": "code",
   "execution_count": 6,
   "id": "0fa753f8",
   "metadata": {
    "scrolled": false
   },
   "outputs": [
    {
     "name": "stdout",
     "output_type": "stream",
     "text": [
      "total files: 12811\n"
     ]
    }
   ],
   "source": [
    "from data.byol_transform import *\n",
    "import numpy as np\n",
    "anno = '/home/jacklishufan/ByteTrack/datasets/coco/annotations/instances_train2017.json'\n",
    "image_dir=\"/home/jacklishufan/detconb/imagenet\"\n",
    "root = '/home/jacklishufan/ByteTrack/datasets/coco/train2017'\n",
    "stage = 'train'\n",
    "mask_type = 'fh'\n",
    "transform1 = get_transform(stage)\n",
    "transform2 = get_transform(stage, gb_prob=0.1, solarize_prob=0.2)\n",
    "transform = MultiViewDataInjector([transform1, transform2],False)\n",
    "image_dir_t = os.path.join(image_dir,'images', f\"{'train' if stage in ('train', 'ft') else 'val'}\")\n",
    "mask_file = os.path.join(image_dir,'masks',stage+'_tf_img_to_'+mask_type+'.pkl')\n",
    "mask_file_path = os.path.join(image_dir,'masks','train_tf')\n",
    "dataset = SSLMaskDataset(image_dir_t,mask_file,transform=transform,mask_file_path=mask_file_path)\n",
    "\n",
    "#print(img,np.unique(anno))"
   ]
  },
  {
   "cell_type": "code",
   "execution_count": 7,
   "id": "cf4c9d77",
   "metadata": {},
   "outputs": [],
   "source": [
    "import torch.nn.functional as F"
   ]
  },
  {
   "cell_type": "code",
   "execution_count": 8,
   "id": "c91b737e",
   "metadata": {},
   "outputs": [],
   "source": [
    "from torch import nn"
   ]
  },
  {
   "cell_type": "code",
   "execution_count": 9,
   "id": "06fe7f86",
   "metadata": {
    "scrolled": true
   },
   "outputs": [
    {
     "data": {
      "text/plain": [
       "<data.byol_transform.MultiViewDataInjector at 0x7ff0ec67ef70>"
      ]
     },
     "execution_count": 9,
     "metadata": {},
     "output_type": "execute_result"
    }
   ],
   "source": [
    "dataset.transform"
   ]
  },
  {
   "cell_type": "code",
   "execution_count": 10,
   "id": "768ed5d4",
   "metadata": {
    "scrolled": true
   },
   "outputs": [],
   "source": [
    "#|plt.imshow(img[0])"
   ]
  },
  {
   "cell_type": "code",
   "execution_count": 11,
   "id": "f6bd2efe",
   "metadata": {
    "scrolled": true
   },
   "outputs": [
    {
     "name": "stdout",
     "output_type": "stream",
     "text": [
      "/home/jacklishufan/detconb/imagenet/images/train/n01440764/n01440764_12211.JPEG\n",
      "/home/kkallidromitis/data/sample/masks/train_tf/n01440764_n01440764_12211_fh.pkl\n",
      "->/home/jacklishufan/detconb/imagenet/masks/train_tf/n01440764_n01440764_12211_fh.pkl\n"
     ]
    }
   ],
   "source": [
    "index = 1\n",
    "path, _ = sorted(dataset.samples)[index]\n",
    "print(path)\n",
    "print(dataset.img_to_mask[index])\n",
    "mask_file_name = dataset.img_to_mask[index].split('/')[-1]\n",
    "mask_file_path = os.path.join(dataset.mask_file_path,mask_file_name)\n",
    "print(f'->{mask_file_path}')"
   ]
  },
  {
   "cell_type": "code",
   "execution_count": 12,
   "id": "d979e32a",
   "metadata": {},
   "outputs": [],
   "source": [
    "from matplotlib import pyplot as plt"
   ]
  },
  {
   "cell_type": "code",
   "execution_count": 14,
   "id": "b181b2ed",
   "metadata": {},
   "outputs": [
    {
     "data": {
      "text/plain": [
       "torch.Size([2, 3, 224, 224])"
      ]
     },
     "execution_count": 14,
     "metadata": {},
     "output_type": "execute_result"
    }
   ],
   "source": [
    "img.shape"
   ]
  },
  {
   "cell_type": "code",
   "execution_count": 21,
   "id": "58c07908",
   "metadata": {},
   "outputs": [],
   "source": [
    "from model import BYOLModel\n",
    "import yaml"
   ]
  },
  {
   "cell_type": "code",
   "execution_count": 25,
   "id": "4ae230c5",
   "metadata": {},
   "outputs": [],
   "source": [
    "with open('/home/jacklishufan/detconb/config/train_imagenet_300_detcol.yaml') as f:\n",
    "    config = yaml.safe_load(f)"
   ]
  },
  {
   "cell_type": "code",
   "execution_count": 26,
   "id": "b9c68939",
   "metadata": {},
   "outputs": [
    {
     "data": {
      "text/plain": [
       "{'model': {'base_momentum': 0.99,\n",
       "  'backbone': {'type': 'resnet50', 'pretrained': False},\n",
       "  'projection': {'type': 'MLP',\n",
       "   'input_dim': 2048,\n",
       "   'hidden_dim': 4096,\n",
       "   'output_dim': 256},\n",
       "  'predictor': {'type': 'MLP',\n",
       "   'input_dim': 256,\n",
       "   'hidden_dim': 4096,\n",
       "   'output_dim': 256}},\n",
       " 'amp': {'sync_bn': True, 'opt_level': 'O0'},\n",
       " 'data': {'image_dir': '/home/jacklishufan/detconb/imagenet',\n",
       "  'mask_type': 'fh',\n",
       "  'resize_size': 224,\n",
       "  'data_workers': 16,\n",
       "  'train_batch_size': 32,\n",
       "  'val_batch_size': 32,\n",
       "  'dual_views': True,\n",
       "  'over_lap_mask': False,\n",
       "  'num_examples': 12000},\n",
       " 'optimizer': {'type': 'lars',\n",
       "  'base_lr': 0.3,\n",
       "  'lr_type': 'cosine',\n",
       "  'momentum': 0.9,\n",
       "  'weight_decay': 1e-06,\n",
       "  'total_epochs': 301,\n",
       "  'warmup_epochs': 3,\n",
       "  'exclude_bias_and_bn': True},\n",
       " 'loss': {'temperature': 0.1, 'mask_rois': 16},\n",
       " 'checkpoint': {'time_stamp': None,\n",
       "  'resume_path': None,\n",
       "  'save_epoch': 50,\n",
       "  'ckpt_path': 'ckpt/detconb/{}/{}_{}_{}.pth.tar'},\n",
       " 'log': {'log_step': 10, 'log_dir': None, 'log_all': False},\n",
       " 'stage': 'train',\n",
       " 'distributed': True,\n",
       " 'seed': 0}"
      ]
     },
     "execution_count": 26,
     "metadata": {},
     "output_type": "execute_result"
    }
   ],
   "source": [
    "config"
   ]
  },
  {
   "cell_type": "code",
   "execution_count": 27,
   "id": "3dec2a5f",
   "metadata": {},
   "outputs": [],
   "source": [
    "model = BYOLModel(config)"
   ]
  },
  {
   "cell_type": "code",
   "execution_count": 31,
   "id": "a29a0d25",
   "metadata": {},
   "outputs": [],
   "source": [
    "device='cuda:1'"
   ]
  },
  {
   "cell_type": "code",
   "execution_count": 32,
   "id": "3ae83ae8",
   "metadata": {},
   "outputs": [
    {
     "ename": "RuntimeError",
     "evalue": "Error(s) in loading state_dict for BYOLModel:\n\tMissing key(s) in state_dict: \"online_network.encoder.0.weight\", \"online_network.encoder.1.weight\", \"online_network.encoder.1.bias\", \"online_network.encoder.1.running_mean\", \"online_network.encoder.1.running_var\", \"online_network.encoder.4.0.conv1.weight\", \"online_network.encoder.4.0.bn1.weight\", \"online_network.encoder.4.0.bn1.bias\", \"online_network.encoder.4.0.bn1.running_mean\", \"online_network.encoder.4.0.bn1.running_var\", \"online_network.encoder.4.0.conv2.weight\", \"online_network.encoder.4.0.bn2.weight\", \"online_network.encoder.4.0.bn2.bias\", \"online_network.encoder.4.0.bn2.running_mean\", \"online_network.encoder.4.0.bn2.running_var\", \"online_network.encoder.4.0.conv3.weight\", \"online_network.encoder.4.0.bn3.weight\", \"online_network.encoder.4.0.bn3.bias\", \"online_network.encoder.4.0.bn3.running_mean\", \"online_network.encoder.4.0.bn3.running_var\", \"online_network.encoder.4.0.downsample.0.weight\", \"online_network.encoder.4.0.downsample.1.weight\", \"online_network.encoder.4.0.downsample.1.bias\", \"online_network.encoder.4.0.downsample.1.running_mean\", \"online_network.encoder.4.0.downsample.1.running_var\", \"online_network.encoder.4.1.conv1.weight\", \"online_network.encoder.4.1.bn1.weight\", \"online_network.encoder.4.1.bn1.bias\", \"online_network.encoder.4.1.bn1.running_mean\", \"online_network.encoder.4.1.bn1.running_var\", \"online_network.encoder.4.1.conv2.weight\", \"online_network.encoder.4.1.bn2.weight\", \"online_network.encoder.4.1.bn2.bias\", \"online_network.encoder.4.1.bn2.running_mean\", \"online_network.encoder.4.1.bn2.running_var\", \"online_network.encoder.4.1.conv3.weight\", \"online_network.encoder.4.1.bn3.weight\", \"online_network.encoder.4.1.bn3.bias\", \"online_network.encoder.4.1.bn3.running_mean\", \"online_network.encoder.4.1.bn3.running_var\", \"online_network.encoder.4.2.conv1.weight\", \"online_network.encoder.4.2.bn1.weight\", \"online_network.encoder.4.2.bn1.bias\", \"online_network.encoder.4.2.bn1.running_mean\", \"online_network.encoder.4.2.bn1.running_var\", \"online_network.encoder.4.2.conv2.weight\", \"online_network.encoder.4.2.bn2.weight\", \"online_network.encoder.4.2.bn2.bias\", \"online_network.encoder.4.2.bn2.running_mean\", \"online_network.encoder.4.2.bn2.running_var\", \"online_network.encoder.4.2.conv3.weight\", \"online_network.encoder.4.2.bn3.weight\", \"online_network.encoder.4.2.bn3.bias\", \"online_network.encoder.4.2.bn3.running_mean\", \"online_network.encoder.4.2.bn3.running_var\", \"online_network.encoder.5.0.conv1.weight\", \"online_network.encoder.5.0.bn1.weight\", \"online_network.encoder.5.0.bn1.bias\", \"online_network.encoder.5.0.bn1.running_mean\", \"online_network.encoder.5.0.bn1.running_var\", \"online_network.encoder.5.0.conv2.weight\", \"online_network.encoder.5.0.bn2.weight\", \"online_network.encoder.5.0.bn2.bias\", \"online_network.encoder.5.0.bn2.running_mean\", \"online_network.encoder.5.0.bn2.running_var\", \"online_network.encoder.5.0.conv3.weight\", \"online_network.encoder.5.0.bn3.weight\", \"online_network.encoder.5.0.bn3.bias\", \"online_network.encoder.5.0.bn3.running_mean\", \"online_network.encoder.5.0.bn3.running_var\", \"online_network.encoder.5.0.downsample.0.weight\", \"online_network.encoder.5.0.downsample.1.weight\", \"online_network.encoder.5.0.downsample.1.bias\", \"online_network.encoder.5.0.downsample.1.running_mean\", \"online_network.encoder.5.0.downsample.1.running_var\", \"online_network.encoder.5.1.conv1.weight\", \"online_network.encoder.5.1.bn1.weight\", \"online_network.encoder.5.1.bn1.bias\", \"online_network.encoder.5.1.bn1.running_mean\", \"online_network.encoder.5.1.bn1.running_var\", \"online_network.encoder.5.1.conv2.weight\", \"online_network.encoder.5.1.bn2.weight\", \"online_network.encoder.5.1.bn2.bias\", \"online_network.encoder.5.1.bn2.running_mean\", \"online_network.encoder.5.1.bn2.running_var\", \"online_network.encoder.5.1.conv3.weight\", \"online_network.encoder.5.1.bn3.weight\", \"online_network.encoder.5.1.bn3.bias\", \"online_network.encoder.5.1.bn3.running_mean\", \"online_network.encoder.5.1.bn3.running_var\", \"online_network.encoder.5.2.conv1.weight\", \"online_network.encoder.5.2.bn1.weight\", \"online_network.encoder.5.2.bn1.bias\", \"online_network.encoder.5.2.bn1.running_mean\", \"online_network.encoder.5.2.bn1.running_var\", \"online_network.encoder.5.2.conv2.weight\", \"online_network.encoder.5.2.bn2.weight\", \"online_network.encoder.5.2.bn2.bias\", \"online_network.encoder.5.2.bn2.running_mean\", \"online_network.encoder.5.2.bn2.running_var\", \"online_network.encoder.5.2.conv3.weight\", \"online_network.encoder.5.2.bn3.weight\", \"online_network.encoder.5.2.bn3.bias\", \"online_network.encoder.5.2.bn3.running_mean\", \"online_network.encoder.5.2.bn3.running_var\", \"online_network.encoder.5.3.conv1.weight\", \"online_network.encoder.5.3.bn1.weight\", \"online_network.encoder.5.3.bn1.bias\", \"online_network.encoder.5.3.bn1.running_mean\", \"online_network.encoder.5.3.bn1.running_var\", \"online_network.encoder.5.3.conv2.weight\", \"online_network.encoder.5.3.bn2.weight\", \"online_network.encoder.5.3.bn2.bias\", \"online_network.encoder.5.3.bn2.running_mean\", \"online_network.encoder.5.3.bn2.running_var\", \"online_network.encoder.5.3.conv3.weight\", \"online_network.encoder.5.3.bn3.weight\", \"online_network.encoder.5.3.bn3.bias\", \"online_network.encoder.5.3.bn3.running_mean\", \"online_network.encoder.5.3.bn3.running_var\", \"online_network.encoder.6.0.conv1.weight\", \"online_network.encoder.6.0.bn1.weight\", \"online_network.encoder.6.0.bn1.bias\", \"online_network.encoder.6.0.bn1.running_mean\", \"online_network.encoder.6.0.bn1.running_var\", \"online_network.encoder.6.0.conv2.weight\", \"online_network.encoder.6.0.bn2.weight\", \"online_network.encoder.6.0.bn2.bias\", \"online_network.encoder.6.0.bn2.running_mean\", \"online_network.encoder.6.0.bn2.running_var\", \"online_network.encoder.6.0.conv3.weight\", \"online_network.encoder.6.0.bn3.weight\", \"online_network.encoder.6.0.bn3.bias\", \"online_network.encoder.6.0.bn3.running_mean\", \"online_network.encoder.6.0.bn3.running_var\", \"online_network.encoder.6.0.downsample.0.weight\", \"online_network.encoder.6.0.downsample.1.weight\", \"online_network.encoder.6.0.downsample.1.bias\", \"online_network.encoder.6.0.downsample.1.running_mean\", \"online_network.encoder.6.0.downsample.1.running_var\", \"online_network.encoder.6.1.conv1.weight\", \"online_network.encoder.6.1.bn1.weight\", \"online_network.encoder.6.1.bn1.bias\", \"online_network.encoder.6.1.bn1.running_mean\", \"online_network.encoder.6.1.bn1.running_var\", \"online_network.encoder.6.1.conv2.weight\", \"online_network.encoder.6.1.bn2.weight\", \"online_network.encoder.6.1.bn2.bias\", \"online_network.encoder.6.1.bn2.running_mean\", \"online_network.encoder.6.1.bn2.running_var\", \"online_network.encoder.6.1.conv3.weight\", \"online_network.encoder.6.1.bn3.weight\", \"online_network.encoder.6.1.bn3.bias\", \"online_network.encoder.6.1.bn3.running_mean\", \"online_network.encoder.6.1.bn3.running_var\", \"online_network.encoder.6.2.conv1.weight\", \"online_network.encoder.6.2.bn1.weight\", \"online_network.encoder.6.2.bn1.bias\", \"online_network.encoder.6.2.bn1.running_mean\", \"online_network.encoder.6.2.bn1.running_var\", \"online_network.encoder.6.2.conv2.weight\", \"online_network.encoder.6.2.bn2.weight\", \"online_network.encoder.6.2.bn2.bias\", \"online_network.encoder.6.2.bn2.running_mean\", \"online_network.encoder.6.2.bn2.running_var\", \"online_network.encoder.6.2.conv3.weight\", \"online_network.encoder.6.2.bn3.weight\", \"online_network.encoder.6.2.bn3.bias\", \"online_network.encoder.6.2.bn3.running_mean\", \"online_network.encoder.6.2.bn3.running_var\", \"online_network.encoder.6.3.conv1.weight\", \"online_network.encoder.6.3.bn1.weight\", \"online_network.encoder.6.3.bn1.bias\", \"online_network.encoder.6.3.bn1.running_mean\", \"online_network.encoder.6.3.bn1.running_var\", \"online_network.encoder.6.3.conv2.weight\", \"online_network.encoder.6.3.bn2.weight\", \"online_network.encoder.6.3.bn2.bias\", \"online_network.encoder.6.3.bn2.running_mean\", \"online_network.encoder.6.3.bn2.running_var\", \"online_network.encoder.6.3.conv3.weight\", \"online_network.encoder.6.3.bn3.weight\", \"online_network.encoder.6.3.bn3.bias\", \"online_network.encoder.6.3.bn3.running_mean\", \"online_network.encoder.6.3.bn3.running_var\", \"online_network.encoder.6.4.conv1.weight\", \"online_network.encoder.6.4.bn1.weight\", \"online_network.encoder.6.4.bn1.bias\", \"online_network.encoder.6.4.bn1.running_mean\", \"online_network.encoder.6.4.bn1.running_var\", \"online_network.encoder.6.4.conv2.weight\", \"online_network.encoder.6.4.bn2.weight\", \"online_network.encoder.6.4.bn2.bias\", \"online_network.encoder.6.4.bn2.running_mean\", \"online_network.encoder.6.4.bn2.running_var\", \"online_network.encoder.6.4.conv3.weight\", \"online_network.encoder.6.4.bn3.weight\", \"online_network.encoder.6.4.bn3.bias\", \"online_network.encoder.6.4.bn3.running_mean\", \"online_network.encoder.6.4.bn3.running_var\", \"online_network.encoder.6.5.conv1.weight\", \"online_network.encoder.6.5.bn1.weight\", \"online_network.encoder.6.5.bn1.bias\", \"online_network.encoder.6.5.bn1.running_mean\", \"online_network.encoder.6.5.bn1.running_var\", \"online_network.encoder.6.5.conv2.weight\", \"online_network.encoder.6.5.bn2.weight\", \"online_network.encoder.6.5.bn2.bias\", \"online_network.encoder.6.5.bn2.running_mean\", \"online_network.encoder.6.5.bn2.running_var\", \"online_network.encoder.6.5.conv3.weight\", \"online_network.encoder.6.5.bn3.weight\", \"online_network.encoder.6.5.bn3.bias\", \"online_network.encoder.6.5.bn3.running_mean\", \"online_network.encoder.6.5.bn3.running_var\", \"online_network.encoder.7.0.conv1.weight\", \"online_network.encoder.7.0.bn1.weight\", \"online_network.encoder.7.0.bn1.bias\", \"online_network.encoder.7.0.bn1.running_mean\", \"online_network.encoder.7.0.bn1.running_var\", \"online_network.encoder.7.0.conv2.weight\", \"online_network.encoder.7.0.bn2.weight\", \"online_network.encoder.7.0.bn2.bias\", \"online_network.encoder.7.0.bn2.running_mean\", \"online_network.encoder.7.0.bn2.running_var\", \"online_network.encoder.7.0.conv3.weight\", \"online_network.encoder.7.0.bn3.weight\", \"online_network.encoder.7.0.bn3.bias\", \"online_network.encoder.7.0.bn3.running_mean\", \"online_network.encoder.7.0.bn3.running_var\", \"online_network.encoder.7.0.downsample.0.weight\", \"online_network.encoder.7.0.downsample.1.weight\", \"online_network.encoder.7.0.downsample.1.bias\", \"online_network.encoder.7.0.downsample.1.running_mean\", \"online_network.encoder.7.0.downsample.1.running_var\", \"online_network.encoder.7.1.conv1.weight\", \"online_network.encoder.7.1.bn1.weight\", \"online_network.encoder.7.1.bn1.bias\", \"online_network.encoder.7.1.bn1.running_mean\", \"online_network.encoder.7.1.bn1.running_var\", \"online_network.encoder.7.1.conv2.weight\", \"online_network.encoder.7.1.bn2.weight\", \"online_network.encoder.7.1.bn2.bias\", \"online_network.encoder.7.1.bn2.running_mean\", \"online_network.encoder.7.1.bn2.running_var\", \"online_network.encoder.7.1.conv3.weight\", \"online_network.encoder.7.1.bn3.weight\", \"online_network.encoder.7.1.bn3.bias\", \"online_network.encoder.7.1.bn3.running_mean\", \"online_network.encoder.7.1.bn3.running_var\", \"online_network.encoder.7.2.conv1.weight\", \"online_network.encoder.7.2.bn1.weight\", \"online_network.encoder.7.2.bn1.bias\", \"online_network.encoder.7.2.bn1.running_mean\", \"online_network.encoder.7.2.bn1.running_var\", \"online_network.encoder.7.2.conv2.weight\", \"online_network.encoder.7.2.bn2.weight\", \"online_network.encoder.7.2.bn2.bias\", \"online_network.encoder.7.2.bn2.running_mean\", \"online_network.encoder.7.2.bn2.running_var\", \"online_network.encoder.7.2.conv3.weight\", \"online_network.encoder.7.2.bn3.weight\", \"online_network.encoder.7.2.bn3.bias\", \"online_network.encoder.7.2.bn3.running_mean\", \"online_network.encoder.7.2.bn3.running_var\", \"online_network.projetion.l1.weight\", \"online_network.projetion.l1.bias\", \"online_network.projetion.bn1.weight\", \"online_network.projetion.bn1.bias\", \"online_network.projetion.bn1.running_mean\", \"online_network.projetion.bn1.running_var\", \"online_network.projetion.l2.weight\", \"online_network.projetion.l2.bias\", \"target_network.encoder.0.weight\", \"target_network.encoder.1.weight\", \"target_network.encoder.1.bias\", \"target_network.encoder.1.running_mean\", \"target_network.encoder.1.running_var\", \"target_network.encoder.4.0.conv1.weight\", \"target_network.encoder.4.0.bn1.weight\", \"target_network.encoder.4.0.bn1.bias\", \"target_network.encoder.4.0.bn1.running_mean\", \"target_network.encoder.4.0.bn1.running_var\", \"target_network.encoder.4.0.conv2.weight\", \"target_network.encoder.4.0.bn2.weight\", \"target_network.encoder.4.0.bn2.bias\", \"target_network.encoder.4.0.bn2.running_mean\", \"target_network.encoder.4.0.bn2.running_var\", \"target_network.encoder.4.0.conv3.weight\", \"target_network.encoder.4.0.bn3.weight\", \"target_network.encoder.4.0.bn3.bias\", \"target_network.encoder.4.0.bn3.running_mean\", \"target_network.encoder.4.0.bn3.running_var\", \"target_network.encoder.4.0.downsample.0.weight\", \"target_network.encoder.4.0.downsample.1.weight\", \"target_network.encoder.4.0.downsample.1.bias\", \"target_network.encoder.4.0.downsample.1.running_mean\", \"target_network.encoder.4.0.downsample.1.running_var\", \"target_network.encoder.4.1.conv1.weight\", \"target_network.encoder.4.1.bn1.weight\", \"target_network.encoder.4.1.bn1.bias\", \"target_network.encoder.4.1.bn1.running_mean\", \"target_network.encoder.4.1.bn1.running_var\", \"target_network.encoder.4.1.conv2.weight\", \"target_network.encoder.4.1.bn2.weight\", \"target_network.encoder.4.1.bn2.bias\", \"target_network.encoder.4.1.bn2.running_mean\", \"target_network.encoder.4.1.bn2.running_var\", \"target_network.encoder.4.1.conv3.weight\", \"target_network.encoder.4.1.bn3.weight\", \"target_network.encoder.4.1.bn3.bias\", \"target_network.encoder.4.1.bn3.running_mean\", \"target_network.encoder.4.1.bn3.running_var\", \"target_network.encoder.4.2.conv1.weight\", \"target_network.encoder.4.2.bn1.weight\", \"target_network.encoder.4.2.bn1.bias\", \"target_network.encoder.4.2.bn1.running_mean\", \"target_network.encoder.4.2.bn1.running_var\", \"target_network.encoder.4.2.conv2.weight\", \"target_network.encoder.4.2.bn2.weight\", \"target_network.encoder.4.2.bn2.bias\", \"target_network.encoder.4.2.bn2.running_mean\", \"target_network.encoder.4.2.bn2.running_var\", \"target_network.encoder.4.2.conv3.weight\", \"target_network.encoder.4.2.bn3.weight\", \"target_network.encoder.4.2.bn3.bias\", \"target_network.encoder.4.2.bn3.running_mean\", \"target_network.encoder.4.2.bn3.running_var\", \"target_network.encoder.5.0.conv1.weight\", \"target_network.encoder.5.0.bn1.weight\", \"target_network.encoder.5.0.bn1.bias\", \"target_network.encoder.5.0.bn1.running_mean\", \"target_network.encoder.5.0.bn1.running_var\", \"target_network.encoder.5.0.conv2.weight\", \"target_network.encoder.5.0.bn2.weight\", \"target_network.encoder.5.0.bn2.bias\", \"target_network.encoder.5.0.bn2.running_mean\", \"target_network.encoder.5.0.bn2.running_var\", \"target_network.encoder.5.0.conv3.weight\", \"target_network.encoder.5.0.bn3.weight\", \"target_network.encoder.5.0.bn3.bias\", \"target_network.encoder.5.0.bn3.running_mean\", \"target_network.encoder.5.0.bn3.running_var\", \"target_network.encoder.5.0.downsample.0.weight\", \"target_network.encoder.5.0.downsample.1.weight\", \"target_network.encoder.5.0.downsample.1.bias\", \"target_network.encoder.5.0.downsample.1.running_mean\", \"target_network.encoder.5.0.downsample.1.running_var\", \"target_network.encoder.5.1.conv1.weight\", \"target_network.encoder.5.1.bn1.weight\", \"target_network.encoder.5.1.bn1.bias\", \"target_network.encoder.5.1.bn1.running_mean\", \"target_network.encoder.5.1.bn1.running_var\", \"target_network.encoder.5.1.conv2.weight\", \"target_network.encoder.5.1.bn2.weight\", \"target_network.encoder.5.1.bn2.bias\", \"target_network.encoder.5.1.bn2.running_mean\", \"target_network.encoder.5.1.bn2.running_var\", \"target_network.encoder.5.1.conv3.weight\", \"target_network.encoder.5.1.bn3.weight\", \"target_network.encoder.5.1.bn3.bias\", \"target_network.encoder.5.1.bn3.running_mean\", \"target_network.encoder.5.1.bn3.running_var\", \"target_network.encoder.5.2.conv1.weight\", \"target_network.encoder.5.2.bn1.weight\", \"target_network.encoder.5.2.bn1.bias\", \"target_network.encoder.5.2.bn1.running_mean\", \"target_network.encoder.5.2.bn1.running_var\", \"target_network.encoder.5.2.conv2.weight\", \"target_network.encoder.5.2.bn2.weight\", \"target_network.encoder.5.2.bn2.bias\", \"target_network.encoder.5.2.bn2.running_mean\", \"target_network.encoder.5.2.bn2.running_var\", \"target_network.encoder.5.2.conv3.weight\", \"target_network.encoder.5.2.bn3.weight\", \"target_network.encoder.5.2.bn3.bias\", \"target_network.encoder.5.2.bn3.running_mean\", \"target_network.encoder.5.2.bn3.running_var\", \"target_network.encoder.5.3.conv1.weight\", \"target_network.encoder.5.3.bn1.weight\", \"target_network.encoder.5.3.bn1.bias\", \"target_network.encoder.5.3.bn1.running_mean\", \"target_network.encoder.5.3.bn1.running_var\", \"target_network.encoder.5.3.conv2.weight\", \"target_network.encoder.5.3.bn2.weight\", \"target_network.encoder.5.3.bn2.bias\", \"target_network.encoder.5.3.bn2.running_mean\", \"target_network.encoder.5.3.bn2.running_var\", \"target_network.encoder.5.3.conv3.weight\", \"target_network.encoder.5.3.bn3.weight\", \"target_network.encoder.5.3.bn3.bias\", \"target_network.encoder.5.3.bn3.running_mean\", \"target_network.encoder.5.3.bn3.running_var\", \"target_network.encoder.6.0.conv1.weight\", \"target_network.encoder.6.0.bn1.weight\", \"target_network.encoder.6.0.bn1.bias\", \"target_network.encoder.6.0.bn1.running_mean\", \"target_network.encoder.6.0.bn1.running_var\", \"target_network.encoder.6.0.conv2.weight\", \"target_network.encoder.6.0.bn2.weight\", \"target_network.encoder.6.0.bn2.bias\", \"target_network.encoder.6.0.bn2.running_mean\", \"target_network.encoder.6.0.bn2.running_var\", \"target_network.encoder.6.0.conv3.weight\", \"target_network.encoder.6.0.bn3.weight\", \"target_network.encoder.6.0.bn3.bias\", \"target_network.encoder.6.0.bn3.running_mean\", \"target_network.encoder.6.0.bn3.running_var\", \"target_network.encoder.6.0.downsample.0.weight\", \"target_network.encoder.6.0.downsample.1.weight\", \"target_network.encoder.6.0.downsample.1.bias\", \"target_network.encoder.6.0.downsample.1.running_mean\", \"target_network.encoder.6.0.downsample.1.running_var\", \"target_network.encoder.6.1.conv1.weight\", \"target_network.encoder.6.1.bn1.weight\", \"target_network.encoder.6.1.bn1.bias\", \"target_network.encoder.6.1.bn1.running_mean\", \"target_network.encoder.6.1.bn1.running_var\", \"target_network.encoder.6.1.conv2.weight\", \"target_network.encoder.6.1.bn2.weight\", \"target_network.encoder.6.1.bn2.bias\", \"target_network.encoder.6.1.bn2.running_mean\", \"target_network.encoder.6.1.bn2.running_var\", \"target_network.encoder.6.1.conv3.weight\", \"target_network.encoder.6.1.bn3.weight\", \"target_network.encoder.6.1.bn3.bias\", \"target_network.encoder.6.1.bn3.running_mean\", \"target_network.encoder.6.1.bn3.running_var\", \"target_network.encoder.6.2.conv1.weight\", \"target_network.encoder.6.2.bn1.weight\", \"target_network.encoder.6.2.bn1.bias\", \"target_network.encoder.6.2.bn1.running_mean\", \"target_network.encoder.6.2.bn1.running_var\", \"target_network.encoder.6.2.conv2.weight\", \"target_network.encoder.6.2.bn2.weight\", \"target_network.encoder.6.2.bn2.bias\", \"target_network.encoder.6.2.bn2.running_mean\", \"target_network.encoder.6.2.bn2.running_var\", \"target_network.encoder.6.2.conv3.weight\", \"target_network.encoder.6.2.bn3.weight\", \"target_network.encoder.6.2.bn3.bias\", \"target_network.encoder.6.2.bn3.running_mean\", \"target_network.encoder.6.2.bn3.running_var\", \"target_network.encoder.6.3.conv1.weight\", \"target_network.encoder.6.3.bn1.weight\", \"target_network.encoder.6.3.bn1.bias\", \"target_network.encoder.6.3.bn1.running_mean\", \"target_network.encoder.6.3.bn1.running_var\", \"target_network.encoder.6.3.conv2.weight\", \"target_network.encoder.6.3.bn2.weight\", \"target_network.encoder.6.3.bn2.bias\", \"target_network.encoder.6.3.bn2.running_mean\", \"target_network.encoder.6.3.bn2.running_var\", \"target_network.encoder.6.3.conv3.weight\", \"target_network.encoder.6.3.bn3.weight\", \"target_network.encoder.6.3.bn3.bias\", \"target_network.encoder.6.3.bn3.running_mean\", \"target_network.encoder.6.3.bn3.running_var\", \"target_network.encoder.6.4.conv1.weight\", \"target_network.encoder.6.4.bn1.weight\", \"target_network.encoder.6.4.bn1.bias\", \"target_network.encoder.6.4.bn1.running_mean\", \"target_network.encoder.6.4.bn1.running_var\", \"target_network.encoder.6.4.conv2.weight\", \"target_network.encoder.6.4.bn2.weight\", \"target_network.encoder.6.4.bn2.bias\", \"target_network.encoder.6.4.bn2.running_mean\", \"target_network.encoder.6.4.bn2.running_var\", \"target_network.encoder.6.4.conv3.weight\", \"target_network.encoder.6.4.bn3.weight\", \"target_network.encoder.6.4.bn3.bias\", \"target_network.encoder.6.4.bn3.running_mean\", \"target_network.encoder.6.4.bn3.running_var\", \"target_network.encoder.6.5.conv1.weight\", \"target_network.encoder.6.5.bn1.weight\", \"target_network.encoder.6.5.bn1.bias\", \"target_network.encoder.6.5.bn1.running_mean\", \"target_network.encoder.6.5.bn1.running_var\", \"target_network.encoder.6.5.conv2.weight\", \"target_network.encoder.6.5.bn2.weight\", \"target_network.encoder.6.5.bn2.bias\", \"target_network.encoder.6.5.bn2.running_mean\", \"target_network.encoder.6.5.bn2.running_var\", \"target_network.encoder.6.5.conv3.weight\", \"target_network.encoder.6.5.bn3.weight\", \"target_network.encoder.6.5.bn3.bias\", \"target_network.encoder.6.5.bn3.running_mean\", \"target_network.encoder.6.5.bn3.running_var\", \"target_network.encoder.7.0.conv1.weight\", \"target_network.encoder.7.0.bn1.weight\", \"target_network.encoder.7.0.bn1.bias\", \"target_network.encoder.7.0.bn1.running_mean\", \"target_network.encoder.7.0.bn1.running_var\", \"target_network.encoder.7.0.conv2.weight\", \"target_network.encoder.7.0.bn2.weight\", \"target_network.encoder.7.0.bn2.bias\", \"target_network.encoder.7.0.bn2.running_mean\", \"target_network.encoder.7.0.bn2.running_var\", \"target_network.encoder.7.0.conv3.weight\", \"target_network.encoder.7.0.bn3.weight\", \"target_network.encoder.7.0.bn3.bias\", \"target_network.encoder.7.0.bn3.running_mean\", \"target_network.encoder.7.0.bn3.running_var\", \"target_network.encoder.7.0.downsample.0.weight\", \"target_network.encoder.7.0.downsample.1.weight\", \"target_network.encoder.7.0.downsample.1.bias\", \"target_network.encoder.7.0.downsample.1.running_mean\", \"target_network.encoder.7.0.downsample.1.running_var\", \"target_network.encoder.7.1.conv1.weight\", \"target_network.encoder.7.1.bn1.weight\", \"target_network.encoder.7.1.bn1.bias\", \"target_network.encoder.7.1.bn1.running_mean\", \"target_network.encoder.7.1.bn1.running_var\", \"target_network.encoder.7.1.conv2.weight\", \"target_network.encoder.7.1.bn2.weight\", \"target_network.encoder.7.1.bn2.bias\", \"target_network.encoder.7.1.bn2.running_mean\", \"target_network.encoder.7.1.bn2.running_var\", \"target_network.encoder.7.1.conv3.weight\", \"target_network.encoder.7.1.bn3.weight\", \"target_network.encoder.7.1.bn3.bias\", \"target_network.encoder.7.1.bn3.running_mean\", \"target_network.encoder.7.1.bn3.running_var\", \"target_network.encoder.7.2.conv1.weight\", \"target_network.encoder.7.2.bn1.weight\", \"target_network.encoder.7.2.bn1.bias\", \"target_network.encoder.7.2.bn1.running_mean\", \"target_network.encoder.7.2.bn1.running_var\", \"target_network.encoder.7.2.conv2.weight\", \"target_network.encoder.7.2.bn2.weight\", \"target_network.encoder.7.2.bn2.bias\", \"target_network.encoder.7.2.bn2.running_mean\", \"target_network.encoder.7.2.bn2.running_var\", \"target_network.encoder.7.2.conv3.weight\", \"target_network.encoder.7.2.bn3.weight\", \"target_network.encoder.7.2.bn3.bias\", \"target_network.encoder.7.2.bn3.running_mean\", \"target_network.encoder.7.2.bn3.running_var\", \"target_network.projetion.l1.weight\", \"target_network.projetion.l1.bias\", \"target_network.projetion.bn1.weight\", \"target_network.projetion.bn1.bias\", \"target_network.projetion.bn1.running_mean\", \"target_network.projetion.bn1.running_var\", \"target_network.projetion.l2.weight\", \"target_network.projetion.l2.bias\", \"masknet.conv1.weight\", \"masknet.conv1.bias\", \"masknet.conv2.weight\", \"masknet.conv2.bias\", \"masknet.atten.k_map.weight\", \"masknet.atten.k_map.bias\", \"masknet.atten.q_map.weight\", \"masknet.atten.q_map.bias\", \"masknet.atten.v_map.weight\", \"masknet.atten.v_map.bias\", \"masknet.conv3.weight\", \"masknet.conv3.bias\", \"predictor.predictor.l1.weight\", \"predictor.predictor.l1.bias\", \"predictor.predictor.bn1.weight\", \"predictor.predictor.bn1.bias\", \"predictor.predictor.bn1.running_mean\", \"predictor.predictor.bn1.running_var\", \"predictor.predictor.l2.weight\", \"predictor.predictor.l2.bias\". \n\tUnexpected key(s) in state_dict: \"config\", \"epoch\", \"steps\", \"model\", \"optimizer\", \"amp\". ",
     "output_type": "error",
     "traceback": [
      "\u001b[0;31m---------------------------------------------------------------------------\u001b[0m",
      "\u001b[0;31mRuntimeError\u001b[0m                              Traceback (most recent call last)",
      "Input \u001b[0;32mIn [32]\u001b[0m, in \u001b[0;36m<cell line: 1>\u001b[0;34m()\u001b[0m\n\u001b[0;32m----> 1\u001b[0m \u001b[43mmodel\u001b[49m\u001b[38;5;241;43m.\u001b[39;49m\u001b[43mload_state_dict\u001b[49m\u001b[43m(\u001b[49m\u001b[43mtorch\u001b[49m\u001b[38;5;241;43m.\u001b[39;49m\u001b[43mload\u001b[49m\u001b[43m(\u001b[49m\u001b[38;5;124;43m'\u001b[39;49m\u001b[38;5;124;43mckpt/detconb/04_22_16-47/04_22_16-47_resnet50_300.pth.tar\u001b[39;49m\u001b[38;5;124;43m'\u001b[39;49m\u001b[43m)\u001b[49m\u001b[43m)\u001b[49m\n",
      "File \u001b[0;32m~/miniconda3/envs/mae/lib/python3.9/site-packages/torch/nn/modules/module.py:1482\u001b[0m, in \u001b[0;36mModule.load_state_dict\u001b[0;34m(self, state_dict, strict)\u001b[0m\n\u001b[1;32m   1477\u001b[0m         error_msgs\u001b[38;5;241m.\u001b[39minsert(\n\u001b[1;32m   1478\u001b[0m             \u001b[38;5;241m0\u001b[39m, \u001b[38;5;124m'\u001b[39m\u001b[38;5;124mMissing key(s) in state_dict: \u001b[39m\u001b[38;5;132;01m{}\u001b[39;00m\u001b[38;5;124m. \u001b[39m\u001b[38;5;124m'\u001b[39m\u001b[38;5;241m.\u001b[39mformat(\n\u001b[1;32m   1479\u001b[0m                 \u001b[38;5;124m'\u001b[39m\u001b[38;5;124m, \u001b[39m\u001b[38;5;124m'\u001b[39m\u001b[38;5;241m.\u001b[39mjoin(\u001b[38;5;124m'\u001b[39m\u001b[38;5;124m\"\u001b[39m\u001b[38;5;132;01m{}\u001b[39;00m\u001b[38;5;124m\"\u001b[39m\u001b[38;5;124m'\u001b[39m\u001b[38;5;241m.\u001b[39mformat(k) \u001b[38;5;28;01mfor\u001b[39;00m k \u001b[38;5;129;01min\u001b[39;00m missing_keys)))\n\u001b[1;32m   1481\u001b[0m \u001b[38;5;28;01mif\u001b[39;00m \u001b[38;5;28mlen\u001b[39m(error_msgs) \u001b[38;5;241m>\u001b[39m \u001b[38;5;241m0\u001b[39m:\n\u001b[0;32m-> 1482\u001b[0m     \u001b[38;5;28;01mraise\u001b[39;00m \u001b[38;5;167;01mRuntimeError\u001b[39;00m(\u001b[38;5;124m'\u001b[39m\u001b[38;5;124mError(s) in loading state_dict for \u001b[39m\u001b[38;5;132;01m{}\u001b[39;00m\u001b[38;5;124m:\u001b[39m\u001b[38;5;130;01m\\n\u001b[39;00m\u001b[38;5;130;01m\\t\u001b[39;00m\u001b[38;5;132;01m{}\u001b[39;00m\u001b[38;5;124m'\u001b[39m\u001b[38;5;241m.\u001b[39mformat(\n\u001b[1;32m   1483\u001b[0m                        \u001b[38;5;28mself\u001b[39m\u001b[38;5;241m.\u001b[39m\u001b[38;5;18m__class__\u001b[39m\u001b[38;5;241m.\u001b[39m\u001b[38;5;18m__name__\u001b[39m, \u001b[38;5;124m\"\u001b[39m\u001b[38;5;130;01m\\n\u001b[39;00m\u001b[38;5;130;01m\\t\u001b[39;00m\u001b[38;5;124m\"\u001b[39m\u001b[38;5;241m.\u001b[39mjoin(error_msgs)))\n\u001b[1;32m   1484\u001b[0m \u001b[38;5;28;01mreturn\u001b[39;00m _IncompatibleKeys(missing_keys, unexpected_keys)\n",
      "\u001b[0;31mRuntimeError\u001b[0m: Error(s) in loading state_dict for BYOLModel:\n\tMissing key(s) in state_dict: \"online_network.encoder.0.weight\", \"online_network.encoder.1.weight\", \"online_network.encoder.1.bias\", \"online_network.encoder.1.running_mean\", \"online_network.encoder.1.running_var\", \"online_network.encoder.4.0.conv1.weight\", \"online_network.encoder.4.0.bn1.weight\", \"online_network.encoder.4.0.bn1.bias\", \"online_network.encoder.4.0.bn1.running_mean\", \"online_network.encoder.4.0.bn1.running_var\", \"online_network.encoder.4.0.conv2.weight\", \"online_network.encoder.4.0.bn2.weight\", \"online_network.encoder.4.0.bn2.bias\", \"online_network.encoder.4.0.bn2.running_mean\", \"online_network.encoder.4.0.bn2.running_var\", \"online_network.encoder.4.0.conv3.weight\", \"online_network.encoder.4.0.bn3.weight\", \"online_network.encoder.4.0.bn3.bias\", \"online_network.encoder.4.0.bn3.running_mean\", \"online_network.encoder.4.0.bn3.running_var\", \"online_network.encoder.4.0.downsample.0.weight\", \"online_network.encoder.4.0.downsample.1.weight\", \"online_network.encoder.4.0.downsample.1.bias\", \"online_network.encoder.4.0.downsample.1.running_mean\", \"online_network.encoder.4.0.downsample.1.running_var\", \"online_network.encoder.4.1.conv1.weight\", \"online_network.encoder.4.1.bn1.weight\", \"online_network.encoder.4.1.bn1.bias\", \"online_network.encoder.4.1.bn1.running_mean\", \"online_network.encoder.4.1.bn1.running_var\", \"online_network.encoder.4.1.conv2.weight\", \"online_network.encoder.4.1.bn2.weight\", \"online_network.encoder.4.1.bn2.bias\", \"online_network.encoder.4.1.bn2.running_mean\", \"online_network.encoder.4.1.bn2.running_var\", \"online_network.encoder.4.1.conv3.weight\", \"online_network.encoder.4.1.bn3.weight\", \"online_network.encoder.4.1.bn3.bias\", \"online_network.encoder.4.1.bn3.running_mean\", \"online_network.encoder.4.1.bn3.running_var\", \"online_network.encoder.4.2.conv1.weight\", \"online_network.encoder.4.2.bn1.weight\", \"online_network.encoder.4.2.bn1.bias\", \"online_network.encoder.4.2.bn1.running_mean\", \"online_network.encoder.4.2.bn1.running_var\", \"online_network.encoder.4.2.conv2.weight\", \"online_network.encoder.4.2.bn2.weight\", \"online_network.encoder.4.2.bn2.bias\", \"online_network.encoder.4.2.bn2.running_mean\", \"online_network.encoder.4.2.bn2.running_var\", \"online_network.encoder.4.2.conv3.weight\", \"online_network.encoder.4.2.bn3.weight\", \"online_network.encoder.4.2.bn3.bias\", \"online_network.encoder.4.2.bn3.running_mean\", \"online_network.encoder.4.2.bn3.running_var\", \"online_network.encoder.5.0.conv1.weight\", \"online_network.encoder.5.0.bn1.weight\", \"online_network.encoder.5.0.bn1.bias\", \"online_network.encoder.5.0.bn1.running_mean\", \"online_network.encoder.5.0.bn1.running_var\", \"online_network.encoder.5.0.conv2.weight\", \"online_network.encoder.5.0.bn2.weight\", \"online_network.encoder.5.0.bn2.bias\", \"online_network.encoder.5.0.bn2.running_mean\", \"online_network.encoder.5.0.bn2.running_var\", \"online_network.encoder.5.0.conv3.weight\", \"online_network.encoder.5.0.bn3.weight\", \"online_network.encoder.5.0.bn3.bias\", \"online_network.encoder.5.0.bn3.running_mean\", \"online_network.encoder.5.0.bn3.running_var\", \"online_network.encoder.5.0.downsample.0.weight\", \"online_network.encoder.5.0.downsample.1.weight\", \"online_network.encoder.5.0.downsample.1.bias\", \"online_network.encoder.5.0.downsample.1.running_mean\", \"online_network.encoder.5.0.downsample.1.running_var\", \"online_network.encoder.5.1.conv1.weight\", \"online_network.encoder.5.1.bn1.weight\", \"online_network.encoder.5.1.bn1.bias\", \"online_network.encoder.5.1.bn1.running_mean\", \"online_network.encoder.5.1.bn1.running_var\", \"online_network.encoder.5.1.conv2.weight\", \"online_network.encoder.5.1.bn2.weight\", \"online_network.encoder.5.1.bn2.bias\", \"online_network.encoder.5.1.bn2.running_mean\", \"online_network.encoder.5.1.bn2.running_var\", \"online_network.encoder.5.1.conv3.weight\", \"online_network.encoder.5.1.bn3.weight\", \"online_network.encoder.5.1.bn3.bias\", \"online_network.encoder.5.1.bn3.running_mean\", \"online_network.encoder.5.1.bn3.running_var\", \"online_network.encoder.5.2.conv1.weight\", \"online_network.encoder.5.2.bn1.weight\", \"online_network.encoder.5.2.bn1.bias\", \"online_network.encoder.5.2.bn1.running_mean\", \"online_network.encoder.5.2.bn1.running_var\", \"online_network.encoder.5.2.conv2.weight\", \"online_network.encoder.5.2.bn2.weight\", \"online_network.encoder.5.2.bn2.bias\", \"online_network.encoder.5.2.bn2.running_mean\", \"online_network.encoder.5.2.bn2.running_var\", \"online_network.encoder.5.2.conv3.weight\", \"online_network.encoder.5.2.bn3.weight\", \"online_network.encoder.5.2.bn3.bias\", \"online_network.encoder.5.2.bn3.running_mean\", \"online_network.encoder.5.2.bn3.running_var\", \"online_network.encoder.5.3.conv1.weight\", \"online_network.encoder.5.3.bn1.weight\", \"online_network.encoder.5.3.bn1.bias\", \"online_network.encoder.5.3.bn1.running_mean\", \"online_network.encoder.5.3.bn1.running_var\", \"online_network.encoder.5.3.conv2.weight\", \"online_network.encoder.5.3.bn2.weight\", \"online_network.encoder.5.3.bn2.bias\", \"online_network.encoder.5.3.bn2.running_mean\", \"online_network.encoder.5.3.bn2.running_var\", \"online_network.encoder.5.3.conv3.weight\", \"online_network.encoder.5.3.bn3.weight\", \"online_network.encoder.5.3.bn3.bias\", \"online_network.encoder.5.3.bn3.running_mean\", \"online_network.encoder.5.3.bn3.running_var\", \"online_network.encoder.6.0.conv1.weight\", \"online_network.encoder.6.0.bn1.weight\", \"online_network.encoder.6.0.bn1.bias\", \"online_network.encoder.6.0.bn1.running_mean\", \"online_network.encoder.6.0.bn1.running_var\", \"online_network.encoder.6.0.conv2.weight\", \"online_network.encoder.6.0.bn2.weight\", \"online_network.encoder.6.0.bn2.bias\", \"online_network.encoder.6.0.bn2.running_mean\", \"online_network.encoder.6.0.bn2.running_var\", \"online_network.encoder.6.0.conv3.weight\", \"online_network.encoder.6.0.bn3.weight\", \"online_network.encoder.6.0.bn3.bias\", \"online_network.encoder.6.0.bn3.running_mean\", \"online_network.encoder.6.0.bn3.running_var\", \"online_network.encoder.6.0.downsample.0.weight\", \"online_network.encoder.6.0.downsample.1.weight\", \"online_network.encoder.6.0.downsample.1.bias\", \"online_network.encoder.6.0.downsample.1.running_mean\", \"online_network.encoder.6.0.downsample.1.running_var\", \"online_network.encoder.6.1.conv1.weight\", \"online_network.encoder.6.1.bn1.weight\", \"online_network.encoder.6.1.bn1.bias\", \"online_network.encoder.6.1.bn1.running_mean\", \"online_network.encoder.6.1.bn1.running_var\", \"online_network.encoder.6.1.conv2.weight\", \"online_network.encoder.6.1.bn2.weight\", \"online_network.encoder.6.1.bn2.bias\", \"online_network.encoder.6.1.bn2.running_mean\", \"online_network.encoder.6.1.bn2.running_var\", \"online_network.encoder.6.1.conv3.weight\", \"online_network.encoder.6.1.bn3.weight\", \"online_network.encoder.6.1.bn3.bias\", \"online_network.encoder.6.1.bn3.running_mean\", \"online_network.encoder.6.1.bn3.running_var\", \"online_network.encoder.6.2.conv1.weight\", \"online_network.encoder.6.2.bn1.weight\", \"online_network.encoder.6.2.bn1.bias\", \"online_network.encoder.6.2.bn1.running_mean\", \"online_network.encoder.6.2.bn1.running_var\", \"online_network.encoder.6.2.conv2.weight\", \"online_network.encoder.6.2.bn2.weight\", \"online_network.encoder.6.2.bn2.bias\", \"online_network.encoder.6.2.bn2.running_mean\", \"online_network.encoder.6.2.bn2.running_var\", \"online_network.encoder.6.2.conv3.weight\", \"online_network.encoder.6.2.bn3.weight\", \"online_network.encoder.6.2.bn3.bias\", \"online_network.encoder.6.2.bn3.running_mean\", \"online_network.encoder.6.2.bn3.running_var\", \"online_network.encoder.6.3.conv1.weight\", \"online_network.encoder.6.3.bn1.weight\", \"online_network.encoder.6.3.bn1.bias\", \"online_network.encoder.6.3.bn1.running_mean\", \"online_network.encoder.6.3.bn1.running_var\", \"online_network.encoder.6.3.conv2.weight\", \"online_network.encoder.6.3.bn2.weight\", \"online_network.encoder.6.3.bn2.bias\", \"online_network.encoder.6.3.bn2.running_mean\", \"online_network.encoder.6.3.bn2.running_var\", \"online_network.encoder.6.3.conv3.weight\", \"online_network.encoder.6.3.bn3.weight\", \"online_network.encoder.6.3.bn3.bias\", \"online_network.encoder.6.3.bn3.running_mean\", \"online_network.encoder.6.3.bn3.running_var\", \"online_network.encoder.6.4.conv1.weight\", \"online_network.encoder.6.4.bn1.weight\", \"online_network.encoder.6.4.bn1.bias\", \"online_network.encoder.6.4.bn1.running_mean\", \"online_network.encoder.6.4.bn1.running_var\", \"online_network.encoder.6.4.conv2.weight\", \"online_network.encoder.6.4.bn2.weight\", \"online_network.encoder.6.4.bn2.bias\", \"online_network.encoder.6.4.bn2.running_mean\", \"online_network.encoder.6.4.bn2.running_var\", \"online_network.encoder.6.4.conv3.weight\", \"online_network.encoder.6.4.bn3.weight\", \"online_network.encoder.6.4.bn3.bias\", \"online_network.encoder.6.4.bn3.running_mean\", \"online_network.encoder.6.4.bn3.running_var\", \"online_network.encoder.6.5.conv1.weight\", \"online_network.encoder.6.5.bn1.weight\", \"online_network.encoder.6.5.bn1.bias\", \"online_network.encoder.6.5.bn1.running_mean\", \"online_network.encoder.6.5.bn1.running_var\", \"online_network.encoder.6.5.conv2.weight\", \"online_network.encoder.6.5.bn2.weight\", \"online_network.encoder.6.5.bn2.bias\", \"online_network.encoder.6.5.bn2.running_mean\", \"online_network.encoder.6.5.bn2.running_var\", \"online_network.encoder.6.5.conv3.weight\", \"online_network.encoder.6.5.bn3.weight\", \"online_network.encoder.6.5.bn3.bias\", \"online_network.encoder.6.5.bn3.running_mean\", \"online_network.encoder.6.5.bn3.running_var\", \"online_network.encoder.7.0.conv1.weight\", \"online_network.encoder.7.0.bn1.weight\", \"online_network.encoder.7.0.bn1.bias\", \"online_network.encoder.7.0.bn1.running_mean\", \"online_network.encoder.7.0.bn1.running_var\", \"online_network.encoder.7.0.conv2.weight\", \"online_network.encoder.7.0.bn2.weight\", \"online_network.encoder.7.0.bn2.bias\", \"online_network.encoder.7.0.bn2.running_mean\", \"online_network.encoder.7.0.bn2.running_var\", \"online_network.encoder.7.0.conv3.weight\", \"online_network.encoder.7.0.bn3.weight\", \"online_network.encoder.7.0.bn3.bias\", \"online_network.encoder.7.0.bn3.running_mean\", \"online_network.encoder.7.0.bn3.running_var\", \"online_network.encoder.7.0.downsample.0.weight\", \"online_network.encoder.7.0.downsample.1.weight\", \"online_network.encoder.7.0.downsample.1.bias\", \"online_network.encoder.7.0.downsample.1.running_mean\", \"online_network.encoder.7.0.downsample.1.running_var\", \"online_network.encoder.7.1.conv1.weight\", \"online_network.encoder.7.1.bn1.weight\", \"online_network.encoder.7.1.bn1.bias\", \"online_network.encoder.7.1.bn1.running_mean\", \"online_network.encoder.7.1.bn1.running_var\", \"online_network.encoder.7.1.conv2.weight\", \"online_network.encoder.7.1.bn2.weight\", \"online_network.encoder.7.1.bn2.bias\", \"online_network.encoder.7.1.bn2.running_mean\", \"online_network.encoder.7.1.bn2.running_var\", \"online_network.encoder.7.1.conv3.weight\", \"online_network.encoder.7.1.bn3.weight\", \"online_network.encoder.7.1.bn3.bias\", \"online_network.encoder.7.1.bn3.running_mean\", \"online_network.encoder.7.1.bn3.running_var\", \"online_network.encoder.7.2.conv1.weight\", \"online_network.encoder.7.2.bn1.weight\", \"online_network.encoder.7.2.bn1.bias\", \"online_network.encoder.7.2.bn1.running_mean\", \"online_network.encoder.7.2.bn1.running_var\", \"online_network.encoder.7.2.conv2.weight\", \"online_network.encoder.7.2.bn2.weight\", \"online_network.encoder.7.2.bn2.bias\", \"online_network.encoder.7.2.bn2.running_mean\", \"online_network.encoder.7.2.bn2.running_var\", \"online_network.encoder.7.2.conv3.weight\", \"online_network.encoder.7.2.bn3.weight\", \"online_network.encoder.7.2.bn3.bias\", \"online_network.encoder.7.2.bn3.running_mean\", \"online_network.encoder.7.2.bn3.running_var\", \"online_network.projetion.l1.weight\", \"online_network.projetion.l1.bias\", \"online_network.projetion.bn1.weight\", \"online_network.projetion.bn1.bias\", \"online_network.projetion.bn1.running_mean\", \"online_network.projetion.bn1.running_var\", \"online_network.projetion.l2.weight\", \"online_network.projetion.l2.bias\", \"target_network.encoder.0.weight\", \"target_network.encoder.1.weight\", \"target_network.encoder.1.bias\", \"target_network.encoder.1.running_mean\", \"target_network.encoder.1.running_var\", \"target_network.encoder.4.0.conv1.weight\", \"target_network.encoder.4.0.bn1.weight\", \"target_network.encoder.4.0.bn1.bias\", \"target_network.encoder.4.0.bn1.running_mean\", \"target_network.encoder.4.0.bn1.running_var\", \"target_network.encoder.4.0.conv2.weight\", \"target_network.encoder.4.0.bn2.weight\", \"target_network.encoder.4.0.bn2.bias\", \"target_network.encoder.4.0.bn2.running_mean\", \"target_network.encoder.4.0.bn2.running_var\", \"target_network.encoder.4.0.conv3.weight\", \"target_network.encoder.4.0.bn3.weight\", \"target_network.encoder.4.0.bn3.bias\", \"target_network.encoder.4.0.bn3.running_mean\", \"target_network.encoder.4.0.bn3.running_var\", \"target_network.encoder.4.0.downsample.0.weight\", \"target_network.encoder.4.0.downsample.1.weight\", \"target_network.encoder.4.0.downsample.1.bias\", \"target_network.encoder.4.0.downsample.1.running_mean\", \"target_network.encoder.4.0.downsample.1.running_var\", \"target_network.encoder.4.1.conv1.weight\", \"target_network.encoder.4.1.bn1.weight\", \"target_network.encoder.4.1.bn1.bias\", \"target_network.encoder.4.1.bn1.running_mean\", \"target_network.encoder.4.1.bn1.running_var\", \"target_network.encoder.4.1.conv2.weight\", \"target_network.encoder.4.1.bn2.weight\", \"target_network.encoder.4.1.bn2.bias\", \"target_network.encoder.4.1.bn2.running_mean\", \"target_network.encoder.4.1.bn2.running_var\", \"target_network.encoder.4.1.conv3.weight\", \"target_network.encoder.4.1.bn3.weight\", \"target_network.encoder.4.1.bn3.bias\", \"target_network.encoder.4.1.bn3.running_mean\", \"target_network.encoder.4.1.bn3.running_var\", \"target_network.encoder.4.2.conv1.weight\", \"target_network.encoder.4.2.bn1.weight\", \"target_network.encoder.4.2.bn1.bias\", \"target_network.encoder.4.2.bn1.running_mean\", \"target_network.encoder.4.2.bn1.running_var\", \"target_network.encoder.4.2.conv2.weight\", \"target_network.encoder.4.2.bn2.weight\", \"target_network.encoder.4.2.bn2.bias\", \"target_network.encoder.4.2.bn2.running_mean\", \"target_network.encoder.4.2.bn2.running_var\", \"target_network.encoder.4.2.conv3.weight\", \"target_network.encoder.4.2.bn3.weight\", \"target_network.encoder.4.2.bn3.bias\", \"target_network.encoder.4.2.bn3.running_mean\", \"target_network.encoder.4.2.bn3.running_var\", \"target_network.encoder.5.0.conv1.weight\", \"target_network.encoder.5.0.bn1.weight\", \"target_network.encoder.5.0.bn1.bias\", \"target_network.encoder.5.0.bn1.running_mean\", \"target_network.encoder.5.0.bn1.running_var\", \"target_network.encoder.5.0.conv2.weight\", \"target_network.encoder.5.0.bn2.weight\", \"target_network.encoder.5.0.bn2.bias\", \"target_network.encoder.5.0.bn2.running_mean\", \"target_network.encoder.5.0.bn2.running_var\", \"target_network.encoder.5.0.conv3.weight\", \"target_network.encoder.5.0.bn3.weight\", \"target_network.encoder.5.0.bn3.bias\", \"target_network.encoder.5.0.bn3.running_mean\", \"target_network.encoder.5.0.bn3.running_var\", \"target_network.encoder.5.0.downsample.0.weight\", \"target_network.encoder.5.0.downsample.1.weight\", \"target_network.encoder.5.0.downsample.1.bias\", \"target_network.encoder.5.0.downsample.1.running_mean\", \"target_network.encoder.5.0.downsample.1.running_var\", \"target_network.encoder.5.1.conv1.weight\", \"target_network.encoder.5.1.bn1.weight\", \"target_network.encoder.5.1.bn1.bias\", \"target_network.encoder.5.1.bn1.running_mean\", \"target_network.encoder.5.1.bn1.running_var\", \"target_network.encoder.5.1.conv2.weight\", \"target_network.encoder.5.1.bn2.weight\", \"target_network.encoder.5.1.bn2.bias\", \"target_network.encoder.5.1.bn2.running_mean\", \"target_network.encoder.5.1.bn2.running_var\", \"target_network.encoder.5.1.conv3.weight\", \"target_network.encoder.5.1.bn3.weight\", \"target_network.encoder.5.1.bn3.bias\", \"target_network.encoder.5.1.bn3.running_mean\", \"target_network.encoder.5.1.bn3.running_var\", \"target_network.encoder.5.2.conv1.weight\", \"target_network.encoder.5.2.bn1.weight\", \"target_network.encoder.5.2.bn1.bias\", \"target_network.encoder.5.2.bn1.running_mean\", \"target_network.encoder.5.2.bn1.running_var\", \"target_network.encoder.5.2.conv2.weight\", \"target_network.encoder.5.2.bn2.weight\", \"target_network.encoder.5.2.bn2.bias\", \"target_network.encoder.5.2.bn2.running_mean\", \"target_network.encoder.5.2.bn2.running_var\", \"target_network.encoder.5.2.conv3.weight\", \"target_network.encoder.5.2.bn3.weight\", \"target_network.encoder.5.2.bn3.bias\", \"target_network.encoder.5.2.bn3.running_mean\", \"target_network.encoder.5.2.bn3.running_var\", \"target_network.encoder.5.3.conv1.weight\", \"target_network.encoder.5.3.bn1.weight\", \"target_network.encoder.5.3.bn1.bias\", \"target_network.encoder.5.3.bn1.running_mean\", \"target_network.encoder.5.3.bn1.running_var\", \"target_network.encoder.5.3.conv2.weight\", \"target_network.encoder.5.3.bn2.weight\", \"target_network.encoder.5.3.bn2.bias\", \"target_network.encoder.5.3.bn2.running_mean\", \"target_network.encoder.5.3.bn2.running_var\", \"target_network.encoder.5.3.conv3.weight\", \"target_network.encoder.5.3.bn3.weight\", \"target_network.encoder.5.3.bn3.bias\", \"target_network.encoder.5.3.bn3.running_mean\", \"target_network.encoder.5.3.bn3.running_var\", \"target_network.encoder.6.0.conv1.weight\", \"target_network.encoder.6.0.bn1.weight\", \"target_network.encoder.6.0.bn1.bias\", \"target_network.encoder.6.0.bn1.running_mean\", \"target_network.encoder.6.0.bn1.running_var\", \"target_network.encoder.6.0.conv2.weight\", \"target_network.encoder.6.0.bn2.weight\", \"target_network.encoder.6.0.bn2.bias\", \"target_network.encoder.6.0.bn2.running_mean\", \"target_network.encoder.6.0.bn2.running_var\", \"target_network.encoder.6.0.conv3.weight\", \"target_network.encoder.6.0.bn3.weight\", \"target_network.encoder.6.0.bn3.bias\", \"target_network.encoder.6.0.bn3.running_mean\", \"target_network.encoder.6.0.bn3.running_var\", \"target_network.encoder.6.0.downsample.0.weight\", \"target_network.encoder.6.0.downsample.1.weight\", \"target_network.encoder.6.0.downsample.1.bias\", \"target_network.encoder.6.0.downsample.1.running_mean\", \"target_network.encoder.6.0.downsample.1.running_var\", \"target_network.encoder.6.1.conv1.weight\", \"target_network.encoder.6.1.bn1.weight\", \"target_network.encoder.6.1.bn1.bias\", \"target_network.encoder.6.1.bn1.running_mean\", \"target_network.encoder.6.1.bn1.running_var\", \"target_network.encoder.6.1.conv2.weight\", \"target_network.encoder.6.1.bn2.weight\", \"target_network.encoder.6.1.bn2.bias\", \"target_network.encoder.6.1.bn2.running_mean\", \"target_network.encoder.6.1.bn2.running_var\", \"target_network.encoder.6.1.conv3.weight\", \"target_network.encoder.6.1.bn3.weight\", \"target_network.encoder.6.1.bn3.bias\", \"target_network.encoder.6.1.bn3.running_mean\", \"target_network.encoder.6.1.bn3.running_var\", \"target_network.encoder.6.2.conv1.weight\", \"target_network.encoder.6.2.bn1.weight\", \"target_network.encoder.6.2.bn1.bias\", \"target_network.encoder.6.2.bn1.running_mean\", \"target_network.encoder.6.2.bn1.running_var\", \"target_network.encoder.6.2.conv2.weight\", \"target_network.encoder.6.2.bn2.weight\", \"target_network.encoder.6.2.bn2.bias\", \"target_network.encoder.6.2.bn2.running_mean\", \"target_network.encoder.6.2.bn2.running_var\", \"target_network.encoder.6.2.conv3.weight\", \"target_network.encoder.6.2.bn3.weight\", \"target_network.encoder.6.2.bn3.bias\", \"target_network.encoder.6.2.bn3.running_mean\", \"target_network.encoder.6.2.bn3.running_var\", \"target_network.encoder.6.3.conv1.weight\", \"target_network.encoder.6.3.bn1.weight\", \"target_network.encoder.6.3.bn1.bias\", \"target_network.encoder.6.3.bn1.running_mean\", \"target_network.encoder.6.3.bn1.running_var\", \"target_network.encoder.6.3.conv2.weight\", \"target_network.encoder.6.3.bn2.weight\", \"target_network.encoder.6.3.bn2.bias\", \"target_network.encoder.6.3.bn2.running_mean\", \"target_network.encoder.6.3.bn2.running_var\", \"target_network.encoder.6.3.conv3.weight\", \"target_network.encoder.6.3.bn3.weight\", \"target_network.encoder.6.3.bn3.bias\", \"target_network.encoder.6.3.bn3.running_mean\", \"target_network.encoder.6.3.bn3.running_var\", \"target_network.encoder.6.4.conv1.weight\", \"target_network.encoder.6.4.bn1.weight\", \"target_network.encoder.6.4.bn1.bias\", \"target_network.encoder.6.4.bn1.running_mean\", \"target_network.encoder.6.4.bn1.running_var\", \"target_network.encoder.6.4.conv2.weight\", \"target_network.encoder.6.4.bn2.weight\", \"target_network.encoder.6.4.bn2.bias\", \"target_network.encoder.6.4.bn2.running_mean\", \"target_network.encoder.6.4.bn2.running_var\", \"target_network.encoder.6.4.conv3.weight\", \"target_network.encoder.6.4.bn3.weight\", \"target_network.encoder.6.4.bn3.bias\", \"target_network.encoder.6.4.bn3.running_mean\", \"target_network.encoder.6.4.bn3.running_var\", \"target_network.encoder.6.5.conv1.weight\", \"target_network.encoder.6.5.bn1.weight\", \"target_network.encoder.6.5.bn1.bias\", \"target_network.encoder.6.5.bn1.running_mean\", \"target_network.encoder.6.5.bn1.running_var\", \"target_network.encoder.6.5.conv2.weight\", \"target_network.encoder.6.5.bn2.weight\", \"target_network.encoder.6.5.bn2.bias\", \"target_network.encoder.6.5.bn2.running_mean\", \"target_network.encoder.6.5.bn2.running_var\", \"target_network.encoder.6.5.conv3.weight\", \"target_network.encoder.6.5.bn3.weight\", \"target_network.encoder.6.5.bn3.bias\", \"target_network.encoder.6.5.bn3.running_mean\", \"target_network.encoder.6.5.bn3.running_var\", \"target_network.encoder.7.0.conv1.weight\", \"target_network.encoder.7.0.bn1.weight\", \"target_network.encoder.7.0.bn1.bias\", \"target_network.encoder.7.0.bn1.running_mean\", \"target_network.encoder.7.0.bn1.running_var\", \"target_network.encoder.7.0.conv2.weight\", \"target_network.encoder.7.0.bn2.weight\", \"target_network.encoder.7.0.bn2.bias\", \"target_network.encoder.7.0.bn2.running_mean\", \"target_network.encoder.7.0.bn2.running_var\", \"target_network.encoder.7.0.conv3.weight\", \"target_network.encoder.7.0.bn3.weight\", \"target_network.encoder.7.0.bn3.bias\", \"target_network.encoder.7.0.bn3.running_mean\", \"target_network.encoder.7.0.bn3.running_var\", \"target_network.encoder.7.0.downsample.0.weight\", \"target_network.encoder.7.0.downsample.1.weight\", \"target_network.encoder.7.0.downsample.1.bias\", \"target_network.encoder.7.0.downsample.1.running_mean\", \"target_network.encoder.7.0.downsample.1.running_var\", \"target_network.encoder.7.1.conv1.weight\", \"target_network.encoder.7.1.bn1.weight\", \"target_network.encoder.7.1.bn1.bias\", \"target_network.encoder.7.1.bn1.running_mean\", \"target_network.encoder.7.1.bn1.running_var\", \"target_network.encoder.7.1.conv2.weight\", \"target_network.encoder.7.1.bn2.weight\", \"target_network.encoder.7.1.bn2.bias\", \"target_network.encoder.7.1.bn2.running_mean\", \"target_network.encoder.7.1.bn2.running_var\", \"target_network.encoder.7.1.conv3.weight\", \"target_network.encoder.7.1.bn3.weight\", \"target_network.encoder.7.1.bn3.bias\", \"target_network.encoder.7.1.bn3.running_mean\", \"target_network.encoder.7.1.bn3.running_var\", \"target_network.encoder.7.2.conv1.weight\", \"target_network.encoder.7.2.bn1.weight\", \"target_network.encoder.7.2.bn1.bias\", \"target_network.encoder.7.2.bn1.running_mean\", \"target_network.encoder.7.2.bn1.running_var\", \"target_network.encoder.7.2.conv2.weight\", \"target_network.encoder.7.2.bn2.weight\", \"target_network.encoder.7.2.bn2.bias\", \"target_network.encoder.7.2.bn2.running_mean\", \"target_network.encoder.7.2.bn2.running_var\", \"target_network.encoder.7.2.conv3.weight\", \"target_network.encoder.7.2.bn3.weight\", \"target_network.encoder.7.2.bn3.bias\", \"target_network.encoder.7.2.bn3.running_mean\", \"target_network.encoder.7.2.bn3.running_var\", \"target_network.projetion.l1.weight\", \"target_network.projetion.l1.bias\", \"target_network.projetion.bn1.weight\", \"target_network.projetion.bn1.bias\", \"target_network.projetion.bn1.running_mean\", \"target_network.projetion.bn1.running_var\", \"target_network.projetion.l2.weight\", \"target_network.projetion.l2.bias\", \"masknet.conv1.weight\", \"masknet.conv1.bias\", \"masknet.conv2.weight\", \"masknet.conv2.bias\", \"masknet.atten.k_map.weight\", \"masknet.atten.k_map.bias\", \"masknet.atten.q_map.weight\", \"masknet.atten.q_map.bias\", \"masknet.atten.v_map.weight\", \"masknet.atten.v_map.bias\", \"masknet.conv3.weight\", \"masknet.conv3.bias\", \"predictor.predictor.l1.weight\", \"predictor.predictor.l1.bias\", \"predictor.predictor.bn1.weight\", \"predictor.predictor.bn1.bias\", \"predictor.predictor.bn1.running_mean\", \"predictor.predictor.bn1.running_var\", \"predictor.predictor.l2.weight\", \"predictor.predictor.l2.bias\". \n\tUnexpected key(s) in state_dict: \"config\", \"epoch\", \"steps\", \"model\", \"optimizer\", \"amp\". "
     ]
    }
   ],
   "source": [
    "model.load_state_dict(torch.load('ckpt/detconb/04_22_16-47/04_22_16-47_resnet50_300.pth.tar'))"
   ]
  },
  {
   "cell_type": "code",
   "execution_count": 33,
   "id": "db00c642",
   "metadata": {},
   "outputs": [],
   "source": [
    "model = model.to(device)"
   ]
  },
  {
   "cell_type": "code",
   "execution_count": 37,
   "id": "10b92503",
   "metadata": {},
   "outputs": [
    {
     "data": {
      "text/plain": [
       "BYOLModel(\n",
       "  (online_network): EncoderwithProjection(\n",
       "    (encoder): Sequential(\n",
       "      (0): Conv2d(3, 64, kernel_size=(7, 7), stride=(2, 2), padding=(3, 3), bias=False)\n",
       "      (1): BatchNorm2d(64, eps=1e-05, momentum=0.1, affine=True, track_running_stats=True)\n",
       "      (2): ReLU(inplace=True)\n",
       "      (3): MaxPool2d(kernel_size=3, stride=2, padding=1, dilation=1, ceil_mode=False)\n",
       "      (4): Sequential(\n",
       "        (0): Bottleneck(\n",
       "          (conv1): Conv2d(64, 64, kernel_size=(1, 1), stride=(1, 1), bias=False)\n",
       "          (bn1): BatchNorm2d(64, eps=1e-05, momentum=0.1, affine=True, track_running_stats=True)\n",
       "          (conv2): Conv2d(64, 64, kernel_size=(3, 3), stride=(1, 1), padding=(1, 1), bias=False)\n",
       "          (bn2): BatchNorm2d(64, eps=1e-05, momentum=0.1, affine=True, track_running_stats=True)\n",
       "          (conv3): Conv2d(64, 256, kernel_size=(1, 1), stride=(1, 1), bias=False)\n",
       "          (bn3): BatchNorm2d(256, eps=1e-05, momentum=0.1, affine=True, track_running_stats=True)\n",
       "          (relu): ReLU(inplace=True)\n",
       "          (downsample): Sequential(\n",
       "            (0): Conv2d(64, 256, kernel_size=(1, 1), stride=(1, 1), bias=False)\n",
       "            (1): BatchNorm2d(256, eps=1e-05, momentum=0.1, affine=True, track_running_stats=True)\n",
       "          )\n",
       "        )\n",
       "        (1): Bottleneck(\n",
       "          (conv1): Conv2d(256, 64, kernel_size=(1, 1), stride=(1, 1), bias=False)\n",
       "          (bn1): BatchNorm2d(64, eps=1e-05, momentum=0.1, affine=True, track_running_stats=True)\n",
       "          (conv2): Conv2d(64, 64, kernel_size=(3, 3), stride=(1, 1), padding=(1, 1), bias=False)\n",
       "          (bn2): BatchNorm2d(64, eps=1e-05, momentum=0.1, affine=True, track_running_stats=True)\n",
       "          (conv3): Conv2d(64, 256, kernel_size=(1, 1), stride=(1, 1), bias=False)\n",
       "          (bn3): BatchNorm2d(256, eps=1e-05, momentum=0.1, affine=True, track_running_stats=True)\n",
       "          (relu): ReLU(inplace=True)\n",
       "        )\n",
       "        (2): Bottleneck(\n",
       "          (conv1): Conv2d(256, 64, kernel_size=(1, 1), stride=(1, 1), bias=False)\n",
       "          (bn1): BatchNorm2d(64, eps=1e-05, momentum=0.1, affine=True, track_running_stats=True)\n",
       "          (conv2): Conv2d(64, 64, kernel_size=(3, 3), stride=(1, 1), padding=(1, 1), bias=False)\n",
       "          (bn2): BatchNorm2d(64, eps=1e-05, momentum=0.1, affine=True, track_running_stats=True)\n",
       "          (conv3): Conv2d(64, 256, kernel_size=(1, 1), stride=(1, 1), bias=False)\n",
       "          (bn3): BatchNorm2d(256, eps=1e-05, momentum=0.1, affine=True, track_running_stats=True)\n",
       "          (relu): ReLU(inplace=True)\n",
       "        )\n",
       "      )\n",
       "      (5): Sequential(\n",
       "        (0): Bottleneck(\n",
       "          (conv1): Conv2d(256, 128, kernel_size=(1, 1), stride=(1, 1), bias=False)\n",
       "          (bn1): BatchNorm2d(128, eps=1e-05, momentum=0.1, affine=True, track_running_stats=True)\n",
       "          (conv2): Conv2d(128, 128, kernel_size=(3, 3), stride=(2, 2), padding=(1, 1), bias=False)\n",
       "          (bn2): BatchNorm2d(128, eps=1e-05, momentum=0.1, affine=True, track_running_stats=True)\n",
       "          (conv3): Conv2d(128, 512, kernel_size=(1, 1), stride=(1, 1), bias=False)\n",
       "          (bn3): BatchNorm2d(512, eps=1e-05, momentum=0.1, affine=True, track_running_stats=True)\n",
       "          (relu): ReLU(inplace=True)\n",
       "          (downsample): Sequential(\n",
       "            (0): Conv2d(256, 512, kernel_size=(1, 1), stride=(2, 2), bias=False)\n",
       "            (1): BatchNorm2d(512, eps=1e-05, momentum=0.1, affine=True, track_running_stats=True)\n",
       "          )\n",
       "        )\n",
       "        (1): Bottleneck(\n",
       "          (conv1): Conv2d(512, 128, kernel_size=(1, 1), stride=(1, 1), bias=False)\n",
       "          (bn1): BatchNorm2d(128, eps=1e-05, momentum=0.1, affine=True, track_running_stats=True)\n",
       "          (conv2): Conv2d(128, 128, kernel_size=(3, 3), stride=(1, 1), padding=(1, 1), bias=False)\n",
       "          (bn2): BatchNorm2d(128, eps=1e-05, momentum=0.1, affine=True, track_running_stats=True)\n",
       "          (conv3): Conv2d(128, 512, kernel_size=(1, 1), stride=(1, 1), bias=False)\n",
       "          (bn3): BatchNorm2d(512, eps=1e-05, momentum=0.1, affine=True, track_running_stats=True)\n",
       "          (relu): ReLU(inplace=True)\n",
       "        )\n",
       "        (2): Bottleneck(\n",
       "          (conv1): Conv2d(512, 128, kernel_size=(1, 1), stride=(1, 1), bias=False)\n",
       "          (bn1): BatchNorm2d(128, eps=1e-05, momentum=0.1, affine=True, track_running_stats=True)\n",
       "          (conv2): Conv2d(128, 128, kernel_size=(3, 3), stride=(1, 1), padding=(1, 1), bias=False)\n",
       "          (bn2): BatchNorm2d(128, eps=1e-05, momentum=0.1, affine=True, track_running_stats=True)\n",
       "          (conv3): Conv2d(128, 512, kernel_size=(1, 1), stride=(1, 1), bias=False)\n",
       "          (bn3): BatchNorm2d(512, eps=1e-05, momentum=0.1, affine=True, track_running_stats=True)\n",
       "          (relu): ReLU(inplace=True)\n",
       "        )\n",
       "        (3): Bottleneck(\n",
       "          (conv1): Conv2d(512, 128, kernel_size=(1, 1), stride=(1, 1), bias=False)\n",
       "          (bn1): BatchNorm2d(128, eps=1e-05, momentum=0.1, affine=True, track_running_stats=True)\n",
       "          (conv2): Conv2d(128, 128, kernel_size=(3, 3), stride=(1, 1), padding=(1, 1), bias=False)\n",
       "          (bn2): BatchNorm2d(128, eps=1e-05, momentum=0.1, affine=True, track_running_stats=True)\n",
       "          (conv3): Conv2d(128, 512, kernel_size=(1, 1), stride=(1, 1), bias=False)\n",
       "          (bn3): BatchNorm2d(512, eps=1e-05, momentum=0.1, affine=True, track_running_stats=True)\n",
       "          (relu): ReLU(inplace=True)\n",
       "        )\n",
       "      )\n",
       "      (6): Sequential(\n",
       "        (0): Bottleneck(\n",
       "          (conv1): Conv2d(512, 256, kernel_size=(1, 1), stride=(1, 1), bias=False)\n",
       "          (bn1): BatchNorm2d(256, eps=1e-05, momentum=0.1, affine=True, track_running_stats=True)\n",
       "          (conv2): Conv2d(256, 256, kernel_size=(3, 3), stride=(2, 2), padding=(1, 1), bias=False)\n",
       "          (bn2): BatchNorm2d(256, eps=1e-05, momentum=0.1, affine=True, track_running_stats=True)\n",
       "          (conv3): Conv2d(256, 1024, kernel_size=(1, 1), stride=(1, 1), bias=False)\n",
       "          (bn3): BatchNorm2d(1024, eps=1e-05, momentum=0.1, affine=True, track_running_stats=True)\n",
       "          (relu): ReLU(inplace=True)\n",
       "          (downsample): Sequential(\n",
       "            (0): Conv2d(512, 1024, kernel_size=(1, 1), stride=(2, 2), bias=False)\n",
       "            (1): BatchNorm2d(1024, eps=1e-05, momentum=0.1, affine=True, track_running_stats=True)\n",
       "          )\n",
       "        )\n",
       "        (1): Bottleneck(\n",
       "          (conv1): Conv2d(1024, 256, kernel_size=(1, 1), stride=(1, 1), bias=False)\n",
       "          (bn1): BatchNorm2d(256, eps=1e-05, momentum=0.1, affine=True, track_running_stats=True)\n",
       "          (conv2): Conv2d(256, 256, kernel_size=(3, 3), stride=(1, 1), padding=(1, 1), bias=False)\n",
       "          (bn2): BatchNorm2d(256, eps=1e-05, momentum=0.1, affine=True, track_running_stats=True)\n",
       "          (conv3): Conv2d(256, 1024, kernel_size=(1, 1), stride=(1, 1), bias=False)\n",
       "          (bn3): BatchNorm2d(1024, eps=1e-05, momentum=0.1, affine=True, track_running_stats=True)\n",
       "          (relu): ReLU(inplace=True)\n",
       "        )\n",
       "        (2): Bottleneck(\n",
       "          (conv1): Conv2d(1024, 256, kernel_size=(1, 1), stride=(1, 1), bias=False)\n",
       "          (bn1): BatchNorm2d(256, eps=1e-05, momentum=0.1, affine=True, track_running_stats=True)\n",
       "          (conv2): Conv2d(256, 256, kernel_size=(3, 3), stride=(1, 1), padding=(1, 1), bias=False)\n",
       "          (bn2): BatchNorm2d(256, eps=1e-05, momentum=0.1, affine=True, track_running_stats=True)\n",
       "          (conv3): Conv2d(256, 1024, kernel_size=(1, 1), stride=(1, 1), bias=False)\n",
       "          (bn3): BatchNorm2d(1024, eps=1e-05, momentum=0.1, affine=True, track_running_stats=True)\n",
       "          (relu): ReLU(inplace=True)\n",
       "        )\n",
       "        (3): Bottleneck(\n",
       "          (conv1): Conv2d(1024, 256, kernel_size=(1, 1), stride=(1, 1), bias=False)\n",
       "          (bn1): BatchNorm2d(256, eps=1e-05, momentum=0.1, affine=True, track_running_stats=True)\n",
       "          (conv2): Conv2d(256, 256, kernel_size=(3, 3), stride=(1, 1), padding=(1, 1), bias=False)\n",
       "          (bn2): BatchNorm2d(256, eps=1e-05, momentum=0.1, affine=True, track_running_stats=True)\n",
       "          (conv3): Conv2d(256, 1024, kernel_size=(1, 1), stride=(1, 1), bias=False)\n",
       "          (bn3): BatchNorm2d(1024, eps=1e-05, momentum=0.1, affine=True, track_running_stats=True)\n",
       "          (relu): ReLU(inplace=True)\n",
       "        )\n",
       "        (4): Bottleneck(\n",
       "          (conv1): Conv2d(1024, 256, kernel_size=(1, 1), stride=(1, 1), bias=False)\n",
       "          (bn1): BatchNorm2d(256, eps=1e-05, momentum=0.1, affine=True, track_running_stats=True)\n",
       "          (conv2): Conv2d(256, 256, kernel_size=(3, 3), stride=(1, 1), padding=(1, 1), bias=False)\n",
       "          (bn2): BatchNorm2d(256, eps=1e-05, momentum=0.1, affine=True, track_running_stats=True)\n",
       "          (conv3): Conv2d(256, 1024, kernel_size=(1, 1), stride=(1, 1), bias=False)\n",
       "          (bn3): BatchNorm2d(1024, eps=1e-05, momentum=0.1, affine=True, track_running_stats=True)\n",
       "          (relu): ReLU(inplace=True)\n",
       "        )\n",
       "        (5): Bottleneck(\n",
       "          (conv1): Conv2d(1024, 256, kernel_size=(1, 1), stride=(1, 1), bias=False)\n",
       "          (bn1): BatchNorm2d(256, eps=1e-05, momentum=0.1, affine=True, track_running_stats=True)\n",
       "          (conv2): Conv2d(256, 256, kernel_size=(3, 3), stride=(1, 1), padding=(1, 1), bias=False)\n",
       "          (bn2): BatchNorm2d(256, eps=1e-05, momentum=0.1, affine=True, track_running_stats=True)\n",
       "          (conv3): Conv2d(256, 1024, kernel_size=(1, 1), stride=(1, 1), bias=False)\n",
       "          (bn3): BatchNorm2d(1024, eps=1e-05, momentum=0.1, affine=True, track_running_stats=True)\n",
       "          (relu): ReLU(inplace=True)\n",
       "        )\n",
       "      )\n",
       "      (7): Sequential(\n",
       "        (0): Bottleneck(\n",
       "          (conv1): Conv2d(1024, 512, kernel_size=(1, 1), stride=(1, 1), bias=False)\n",
       "          (bn1): BatchNorm2d(512, eps=1e-05, momentum=0.1, affine=True, track_running_stats=True)\n",
       "          (conv2): Conv2d(512, 512, kernel_size=(3, 3), stride=(2, 2), padding=(1, 1), bias=False)\n",
       "          (bn2): BatchNorm2d(512, eps=1e-05, momentum=0.1, affine=True, track_running_stats=True)\n",
       "          (conv3): Conv2d(512, 2048, kernel_size=(1, 1), stride=(1, 1), bias=False)\n",
       "          (bn3): BatchNorm2d(2048, eps=1e-05, momentum=0.1, affine=True, track_running_stats=True)\n",
       "          (relu): ReLU(inplace=True)\n",
       "          (downsample): Sequential(\n",
       "            (0): Conv2d(1024, 2048, kernel_size=(1, 1), stride=(2, 2), bias=False)\n",
       "            (1): BatchNorm2d(2048, eps=1e-05, momentum=0.1, affine=True, track_running_stats=True)\n",
       "          )\n",
       "        )\n",
       "        (1): Bottleneck(\n",
       "          (conv1): Conv2d(2048, 512, kernel_size=(1, 1), stride=(1, 1), bias=False)\n",
       "          (bn1): BatchNorm2d(512, eps=1e-05, momentum=0.1, affine=True, track_running_stats=True)\n",
       "          (conv2): Conv2d(512, 512, kernel_size=(3, 3), stride=(1, 1), padding=(1, 1), bias=False)\n",
       "          (bn2): BatchNorm2d(512, eps=1e-05, momentum=0.1, affine=True, track_running_stats=True)\n",
       "          (conv3): Conv2d(512, 2048, kernel_size=(1, 1), stride=(1, 1), bias=False)\n",
       "          (bn3): BatchNorm2d(2048, eps=1e-05, momentum=0.1, affine=True, track_running_stats=True)\n",
       "          (relu): ReLU(inplace=True)\n",
       "        )\n",
       "        (2): Bottleneck(\n",
       "          (conv1): Conv2d(2048, 512, kernel_size=(1, 1), stride=(1, 1), bias=False)\n",
       "          (bn1): BatchNorm2d(512, eps=1e-05, momentum=0.1, affine=True, track_running_stats=True)\n",
       "          (conv2): Conv2d(512, 512, kernel_size=(3, 3), stride=(1, 1), padding=(1, 1), bias=False)\n",
       "          (bn2): BatchNorm2d(512, eps=1e-05, momentum=0.1, affine=True, track_running_stats=True)\n",
       "          (conv3): Conv2d(512, 2048, kernel_size=(1, 1), stride=(1, 1), bias=False)\n",
       "          (bn3): BatchNorm2d(2048, eps=1e-05, momentum=0.1, affine=True, track_running_stats=True)\n",
       "          (relu): ReLU(inplace=True)\n",
       "        )\n",
       "      )\n",
       "    )\n",
       "    (projetion): MLP(\n",
       "      (l1): Linear(in_features=2048, out_features=4096, bias=True)\n",
       "      (bn1): BatchNorm1d(4096, eps=1e-05, momentum=0.1, affine=True, track_running_stats=True)\n",
       "      (relu1): ReLU(inplace=True)\n",
       "      (l2): Linear(in_features=4096, out_features=256, bias=True)\n",
       "    )\n",
       "  )\n",
       "  (target_network): EncoderwithProjection(\n",
       "    (encoder): Sequential(\n",
       "      (0): Conv2d(3, 64, kernel_size=(7, 7), stride=(2, 2), padding=(3, 3), bias=False)\n",
       "      (1): BatchNorm2d(64, eps=1e-05, momentum=0.1, affine=True, track_running_stats=True)\n",
       "      (2): ReLU(inplace=True)\n",
       "      (3): MaxPool2d(kernel_size=3, stride=2, padding=1, dilation=1, ceil_mode=False)\n",
       "      (4): Sequential(\n",
       "        (0): Bottleneck(\n",
       "          (conv1): Conv2d(64, 64, kernel_size=(1, 1), stride=(1, 1), bias=False)\n",
       "          (bn1): BatchNorm2d(64, eps=1e-05, momentum=0.1, affine=True, track_running_stats=True)\n",
       "          (conv2): Conv2d(64, 64, kernel_size=(3, 3), stride=(1, 1), padding=(1, 1), bias=False)\n",
       "          (bn2): BatchNorm2d(64, eps=1e-05, momentum=0.1, affine=True, track_running_stats=True)\n",
       "          (conv3): Conv2d(64, 256, kernel_size=(1, 1), stride=(1, 1), bias=False)\n",
       "          (bn3): BatchNorm2d(256, eps=1e-05, momentum=0.1, affine=True, track_running_stats=True)\n",
       "          (relu): ReLU(inplace=True)\n",
       "          (downsample): Sequential(\n",
       "            (0): Conv2d(64, 256, kernel_size=(1, 1), stride=(1, 1), bias=False)\n",
       "            (1): BatchNorm2d(256, eps=1e-05, momentum=0.1, affine=True, track_running_stats=True)\n",
       "          )\n",
       "        )\n",
       "        (1): Bottleneck(\n",
       "          (conv1): Conv2d(256, 64, kernel_size=(1, 1), stride=(1, 1), bias=False)\n",
       "          (bn1): BatchNorm2d(64, eps=1e-05, momentum=0.1, affine=True, track_running_stats=True)\n",
       "          (conv2): Conv2d(64, 64, kernel_size=(3, 3), stride=(1, 1), padding=(1, 1), bias=False)\n",
       "          (bn2): BatchNorm2d(64, eps=1e-05, momentum=0.1, affine=True, track_running_stats=True)\n",
       "          (conv3): Conv2d(64, 256, kernel_size=(1, 1), stride=(1, 1), bias=False)\n",
       "          (bn3): BatchNorm2d(256, eps=1e-05, momentum=0.1, affine=True, track_running_stats=True)\n",
       "          (relu): ReLU(inplace=True)\n",
       "        )\n",
       "        (2): Bottleneck(\n",
       "          (conv1): Conv2d(256, 64, kernel_size=(1, 1), stride=(1, 1), bias=False)\n",
       "          (bn1): BatchNorm2d(64, eps=1e-05, momentum=0.1, affine=True, track_running_stats=True)\n",
       "          (conv2): Conv2d(64, 64, kernel_size=(3, 3), stride=(1, 1), padding=(1, 1), bias=False)\n",
       "          (bn2): BatchNorm2d(64, eps=1e-05, momentum=0.1, affine=True, track_running_stats=True)\n",
       "          (conv3): Conv2d(64, 256, kernel_size=(1, 1), stride=(1, 1), bias=False)\n",
       "          (bn3): BatchNorm2d(256, eps=1e-05, momentum=0.1, affine=True, track_running_stats=True)\n",
       "          (relu): ReLU(inplace=True)\n",
       "        )\n",
       "      )\n",
       "      (5): Sequential(\n",
       "        (0): Bottleneck(\n",
       "          (conv1): Conv2d(256, 128, kernel_size=(1, 1), stride=(1, 1), bias=False)\n",
       "          (bn1): BatchNorm2d(128, eps=1e-05, momentum=0.1, affine=True, track_running_stats=True)\n",
       "          (conv2): Conv2d(128, 128, kernel_size=(3, 3), stride=(2, 2), padding=(1, 1), bias=False)\n",
       "          (bn2): BatchNorm2d(128, eps=1e-05, momentum=0.1, affine=True, track_running_stats=True)\n",
       "          (conv3): Conv2d(128, 512, kernel_size=(1, 1), stride=(1, 1), bias=False)\n",
       "          (bn3): BatchNorm2d(512, eps=1e-05, momentum=0.1, affine=True, track_running_stats=True)\n",
       "          (relu): ReLU(inplace=True)\n",
       "          (downsample): Sequential(\n",
       "            (0): Conv2d(256, 512, kernel_size=(1, 1), stride=(2, 2), bias=False)\n",
       "            (1): BatchNorm2d(512, eps=1e-05, momentum=0.1, affine=True, track_running_stats=True)\n",
       "          )\n",
       "        )\n",
       "        (1): Bottleneck(\n",
       "          (conv1): Conv2d(512, 128, kernel_size=(1, 1), stride=(1, 1), bias=False)\n",
       "          (bn1): BatchNorm2d(128, eps=1e-05, momentum=0.1, affine=True, track_running_stats=True)\n",
       "          (conv2): Conv2d(128, 128, kernel_size=(3, 3), stride=(1, 1), padding=(1, 1), bias=False)\n",
       "          (bn2): BatchNorm2d(128, eps=1e-05, momentum=0.1, affine=True, track_running_stats=True)\n",
       "          (conv3): Conv2d(128, 512, kernel_size=(1, 1), stride=(1, 1), bias=False)\n",
       "          (bn3): BatchNorm2d(512, eps=1e-05, momentum=0.1, affine=True, track_running_stats=True)\n",
       "          (relu): ReLU(inplace=True)\n",
       "        )\n",
       "        (2): Bottleneck(\n",
       "          (conv1): Conv2d(512, 128, kernel_size=(1, 1), stride=(1, 1), bias=False)\n",
       "          (bn1): BatchNorm2d(128, eps=1e-05, momentum=0.1, affine=True, track_running_stats=True)\n",
       "          (conv2): Conv2d(128, 128, kernel_size=(3, 3), stride=(1, 1), padding=(1, 1), bias=False)\n",
       "          (bn2): BatchNorm2d(128, eps=1e-05, momentum=0.1, affine=True, track_running_stats=True)\n",
       "          (conv3): Conv2d(128, 512, kernel_size=(1, 1), stride=(1, 1), bias=False)\n",
       "          (bn3): BatchNorm2d(512, eps=1e-05, momentum=0.1, affine=True, track_running_stats=True)\n",
       "          (relu): ReLU(inplace=True)\n",
       "        )\n",
       "        (3): Bottleneck(\n",
       "          (conv1): Conv2d(512, 128, kernel_size=(1, 1), stride=(1, 1), bias=False)\n",
       "          (bn1): BatchNorm2d(128, eps=1e-05, momentum=0.1, affine=True, track_running_stats=True)\n",
       "          (conv2): Conv2d(128, 128, kernel_size=(3, 3), stride=(1, 1), padding=(1, 1), bias=False)\n",
       "          (bn2): BatchNorm2d(128, eps=1e-05, momentum=0.1, affine=True, track_running_stats=True)\n",
       "          (conv3): Conv2d(128, 512, kernel_size=(1, 1), stride=(1, 1), bias=False)\n",
       "          (bn3): BatchNorm2d(512, eps=1e-05, momentum=0.1, affine=True, track_running_stats=True)\n",
       "          (relu): ReLU(inplace=True)\n",
       "        )\n",
       "      )\n",
       "      (6): Sequential(\n",
       "        (0): Bottleneck(\n",
       "          (conv1): Conv2d(512, 256, kernel_size=(1, 1), stride=(1, 1), bias=False)\n",
       "          (bn1): BatchNorm2d(256, eps=1e-05, momentum=0.1, affine=True, track_running_stats=True)\n",
       "          (conv2): Conv2d(256, 256, kernel_size=(3, 3), stride=(2, 2), padding=(1, 1), bias=False)\n",
       "          (bn2): BatchNorm2d(256, eps=1e-05, momentum=0.1, affine=True, track_running_stats=True)\n",
       "          (conv3): Conv2d(256, 1024, kernel_size=(1, 1), stride=(1, 1), bias=False)\n",
       "          (bn3): BatchNorm2d(1024, eps=1e-05, momentum=0.1, affine=True, track_running_stats=True)\n",
       "          (relu): ReLU(inplace=True)\n",
       "          (downsample): Sequential(\n",
       "            (0): Conv2d(512, 1024, kernel_size=(1, 1), stride=(2, 2), bias=False)\n",
       "            (1): BatchNorm2d(1024, eps=1e-05, momentum=0.1, affine=True, track_running_stats=True)\n",
       "          )\n",
       "        )\n",
       "        (1): Bottleneck(\n",
       "          (conv1): Conv2d(1024, 256, kernel_size=(1, 1), stride=(1, 1), bias=False)\n",
       "          (bn1): BatchNorm2d(256, eps=1e-05, momentum=0.1, affine=True, track_running_stats=True)\n",
       "          (conv2): Conv2d(256, 256, kernel_size=(3, 3), stride=(1, 1), padding=(1, 1), bias=False)\n",
       "          (bn2): BatchNorm2d(256, eps=1e-05, momentum=0.1, affine=True, track_running_stats=True)\n",
       "          (conv3): Conv2d(256, 1024, kernel_size=(1, 1), stride=(1, 1), bias=False)\n",
       "          (bn3): BatchNorm2d(1024, eps=1e-05, momentum=0.1, affine=True, track_running_stats=True)\n",
       "          (relu): ReLU(inplace=True)\n",
       "        )\n",
       "        (2): Bottleneck(\n",
       "          (conv1): Conv2d(1024, 256, kernel_size=(1, 1), stride=(1, 1), bias=False)\n",
       "          (bn1): BatchNorm2d(256, eps=1e-05, momentum=0.1, affine=True, track_running_stats=True)\n",
       "          (conv2): Conv2d(256, 256, kernel_size=(3, 3), stride=(1, 1), padding=(1, 1), bias=False)\n",
       "          (bn2): BatchNorm2d(256, eps=1e-05, momentum=0.1, affine=True, track_running_stats=True)\n",
       "          (conv3): Conv2d(256, 1024, kernel_size=(1, 1), stride=(1, 1), bias=False)\n",
       "          (bn3): BatchNorm2d(1024, eps=1e-05, momentum=0.1, affine=True, track_running_stats=True)\n",
       "          (relu): ReLU(inplace=True)\n",
       "        )\n",
       "        (3): Bottleneck(\n",
       "          (conv1): Conv2d(1024, 256, kernel_size=(1, 1), stride=(1, 1), bias=False)\n",
       "          (bn1): BatchNorm2d(256, eps=1e-05, momentum=0.1, affine=True, track_running_stats=True)\n",
       "          (conv2): Conv2d(256, 256, kernel_size=(3, 3), stride=(1, 1), padding=(1, 1), bias=False)\n",
       "          (bn2): BatchNorm2d(256, eps=1e-05, momentum=0.1, affine=True, track_running_stats=True)\n",
       "          (conv3): Conv2d(256, 1024, kernel_size=(1, 1), stride=(1, 1), bias=False)\n",
       "          (bn3): BatchNorm2d(1024, eps=1e-05, momentum=0.1, affine=True, track_running_stats=True)\n",
       "          (relu): ReLU(inplace=True)\n",
       "        )\n",
       "        (4): Bottleneck(\n",
       "          (conv1): Conv2d(1024, 256, kernel_size=(1, 1), stride=(1, 1), bias=False)\n",
       "          (bn1): BatchNorm2d(256, eps=1e-05, momentum=0.1, affine=True, track_running_stats=True)\n",
       "          (conv2): Conv2d(256, 256, kernel_size=(3, 3), stride=(1, 1), padding=(1, 1), bias=False)\n",
       "          (bn2): BatchNorm2d(256, eps=1e-05, momentum=0.1, affine=True, track_running_stats=True)\n",
       "          (conv3): Conv2d(256, 1024, kernel_size=(1, 1), stride=(1, 1), bias=False)\n",
       "          (bn3): BatchNorm2d(1024, eps=1e-05, momentum=0.1, affine=True, track_running_stats=True)\n",
       "          (relu): ReLU(inplace=True)\n",
       "        )\n",
       "        (5): Bottleneck(\n",
       "          (conv1): Conv2d(1024, 256, kernel_size=(1, 1), stride=(1, 1), bias=False)\n",
       "          (bn1): BatchNorm2d(256, eps=1e-05, momentum=0.1, affine=True, track_running_stats=True)\n",
       "          (conv2): Conv2d(256, 256, kernel_size=(3, 3), stride=(1, 1), padding=(1, 1), bias=False)\n",
       "          (bn2): BatchNorm2d(256, eps=1e-05, momentum=0.1, affine=True, track_running_stats=True)\n",
       "          (conv3): Conv2d(256, 1024, kernel_size=(1, 1), stride=(1, 1), bias=False)\n",
       "          (bn3): BatchNorm2d(1024, eps=1e-05, momentum=0.1, affine=True, track_running_stats=True)\n",
       "          (relu): ReLU(inplace=True)\n",
       "        )\n",
       "      )\n",
       "      (7): Sequential(\n",
       "        (0): Bottleneck(\n",
       "          (conv1): Conv2d(1024, 512, kernel_size=(1, 1), stride=(1, 1), bias=False)\n",
       "          (bn1): BatchNorm2d(512, eps=1e-05, momentum=0.1, affine=True, track_running_stats=True)\n",
       "          (conv2): Conv2d(512, 512, kernel_size=(3, 3), stride=(2, 2), padding=(1, 1), bias=False)\n",
       "          (bn2): BatchNorm2d(512, eps=1e-05, momentum=0.1, affine=True, track_running_stats=True)\n",
       "          (conv3): Conv2d(512, 2048, kernel_size=(1, 1), stride=(1, 1), bias=False)\n",
       "          (bn3): BatchNorm2d(2048, eps=1e-05, momentum=0.1, affine=True, track_running_stats=True)\n",
       "          (relu): ReLU(inplace=True)\n",
       "          (downsample): Sequential(\n",
       "            (0): Conv2d(1024, 2048, kernel_size=(1, 1), stride=(2, 2), bias=False)\n",
       "            (1): BatchNorm2d(2048, eps=1e-05, momentum=0.1, affine=True, track_running_stats=True)\n",
       "          )\n",
       "        )\n",
       "        (1): Bottleneck(\n",
       "          (conv1): Conv2d(2048, 512, kernel_size=(1, 1), stride=(1, 1), bias=False)\n",
       "          (bn1): BatchNorm2d(512, eps=1e-05, momentum=0.1, affine=True, track_running_stats=True)\n",
       "          (conv2): Conv2d(512, 512, kernel_size=(3, 3), stride=(1, 1), padding=(1, 1), bias=False)\n",
       "          (bn2): BatchNorm2d(512, eps=1e-05, momentum=0.1, affine=True, track_running_stats=True)\n",
       "          (conv3): Conv2d(512, 2048, kernel_size=(1, 1), stride=(1, 1), bias=False)\n",
       "          (bn3): BatchNorm2d(2048, eps=1e-05, momentum=0.1, affine=True, track_running_stats=True)\n",
       "          (relu): ReLU(inplace=True)\n",
       "        )\n",
       "        (2): Bottleneck(\n",
       "          (conv1): Conv2d(2048, 512, kernel_size=(1, 1), stride=(1, 1), bias=False)\n",
       "          (bn1): BatchNorm2d(512, eps=1e-05, momentum=0.1, affine=True, track_running_stats=True)\n",
       "          (conv2): Conv2d(512, 512, kernel_size=(3, 3), stride=(1, 1), padding=(1, 1), bias=False)\n",
       "          (bn2): BatchNorm2d(512, eps=1e-05, momentum=0.1, affine=True, track_running_stats=True)\n",
       "          (conv3): Conv2d(512, 2048, kernel_size=(1, 1), stride=(1, 1), bias=False)\n",
       "          (bn3): BatchNorm2d(2048, eps=1e-05, momentum=0.1, affine=True, track_running_stats=True)\n",
       "          (relu): ReLU(inplace=True)\n",
       "        )\n",
       "      )\n",
       "    )\n",
       "    (projetion): MLP(\n",
       "      (l1): Linear(in_features=2048, out_features=4096, bias=True)\n",
       "      (bn1): BatchNorm1d(4096, eps=1e-05, momentum=0.1, affine=True, track_running_stats=True)\n",
       "      (relu1): ReLU(inplace=True)\n",
       "      (l2): Linear(in_features=4096, out_features=256, bias=True)\n",
       "    )\n",
       "  )\n",
       "  (masknet): SpatialAttentionMasknet(\n",
       "    (conv1): Conv2d(2048, 2048, kernel_size=(1, 1), stride=(1, 1))\n",
       "    (conv2): Conv2d(2048, 2048, kernel_size=(1, 1), stride=(1, 1))\n",
       "    (atten): SpatialAttentionBlock(\n",
       "      (k_map): Conv2d(2048, 64, kernel_size=(1, 1), stride=(1, 1))\n",
       "      (q_map): Conv2d(2048, 64, kernel_size=(1, 1), stride=(1, 1))\n",
       "      (v_map): Conv2d(2048, 16, kernel_size=(1, 1), stride=(1, 1))\n",
       "    )\n",
       "    (conv3): Conv2d(2048, 16, kernel_size=(1, 1), stride=(1, 1))\n",
       "  )\n",
       "  (predictor): Predictor(\n",
       "    (predictor): MLP(\n",
       "      (l1): Linear(in_features=256, out_features=4096, bias=True)\n",
       "      (bn1): BatchNorm1d(4096, eps=1e-05, momentum=0.1, affine=True, track_running_stats=True)\n",
       "      (relu1): ReLU(inplace=True)\n",
       "      (l2): Linear(in_features=4096, out_features=256, bias=True)\n",
       "    )\n",
       "  )\n",
       ")"
      ]
     },
     "execution_count": 37,
     "metadata": {},
     "output_type": "execute_result"
    }
   ],
   "source": [
    "model.eval()"
   ]
  },
  {
   "cell_type": "code",
   "execution_count": 44,
   "id": "ccf53eea",
   "metadata": {},
   "outputs": [],
   "source": [
    "torch.cuda.set_device(1)"
   ]
  },
  {
   "cell_type": "code",
   "execution_count": 105,
   "id": "d4705b6a",
   "metadata": {},
   "outputs": [],
   "source": [
    "def get_masks(img,src='online'):\n",
    "    with torch.no_grad():\n",
    "        if src == 'online':\n",
    "            x = model.online_network.encoder(img.to(device))\n",
    "        else:\n",
    "            x = model.target_network.encoder(img.to(device))\n",
    "        masks = model.masknet(x)\n",
    "    return masks.cpu()"
   ]
  },
  {
   "cell_type": "code",
   "execution_count": 58,
   "id": "8a81e3e6",
   "metadata": {
    "scrolled": false
   },
   "outputs": [
    {
     "data": {
      "image/png": "[encoded data removed]",
      "text/plain": [
       "<Figure size 432x288 with 10 Axes>"
      ]
     },
     "metadata": {
      "needs_background": "light"
     },
     "output_type": "display_data"
    },
    {
     "data": {
      "text/plain": [
       "<Figure size 432x288 with 0 Axes>"
      ]
     },
     "metadata": {},
     "output_type": "display_data"
    },
    {
     "data": {
      "text/plain": [
       "<Figure size 432x288 with 0 Axes>"
      ]
     },
     "metadata": {},
     "output_type": "display_data"
    },
    {
     "data": {
      "text/plain": [
       "<Figure size 432x288 with 0 Axes>"
      ]
     },
     "metadata": {},
     "output_type": "display_data"
    },
    {
     "data": {
      "text/plain": [
       "<Figure size 432x288 with 0 Axes>"
      ]
     },
     "metadata": {},
     "output_type": "display_data"
    }
   ],
   "source": [
    "fig, axs = plt.subplots(2, 5)\n",
    "masks = masks.cpu()\n",
    "for i in range(4):\n",
    "    plt.figure()\n",
    "    axs[0][i+1].imshow(masks[0][i])"
   ]
  },
  {
   "cell_type": "code",
   "execution_count": 36,
   "id": "e4e53c04",
   "metadata": {},
   "outputs": [
    {
     "data": {
      "text/plain": [
       "torch.Size([2, 1, 224, 224])"
      ]
     },
     "execution_count": 36,
     "metadata": {},
     "output_type": "execute_result"
    }
   ],
   "source": [
    "anno.shape"
   ]
  },
  {
   "cell_type": "code",
   "execution_count": 118,
   "id": "33dca0f3",
   "metadata": {},
   "outputs": [],
   "source": [
    "from random import randint"
   ]
  },
  {
   "cell_type": "code",
   "execution_count": 121,
   "id": "196652be",
   "metadata": {},
   "outputs": [],
   "source": []
  },
  {
   "cell_type": "code",
   "execution_count": 122,
   "id": "8daa07e2",
   "metadata": {},
   "outputs": [
    {
     "data": {
      "text/plain": [
       "<Figure size 432x288 with 0 Axes>"
      ]
     },
     "metadata": {},
     "output_type": "display_data"
    }
   ],
   "source": [
    "n = randint(0,1000)\n",
    "img,anno = dataset[n]\n",
    "#img,anno = transform1(img,anno)\n",
    "plt.figure()\n",
    "# plt.imshow(img[1].permute(1,2,0))\n",
    "# plt.figure()\n",
    "# plt.imshow(anno[1].permute(1,2,0))\n",
    "totensor = transforms.ToTensor()\n",
    "normalize = transforms.Normalize(mean=[0.485, 0.456, 0.406],\n",
    "                                     std=[0.229, 0.224, 0.225])\n",
    "\n",
    "\n",
    "view1,view2 = img[:1],img[1:]\n",
    "mask1,mask2 = get_masks(view1,'online'),get_masks(view2,'offline')\n"
   ]
  },
  {
   "cell_type": "code",
   "execution_count": 124,
   "id": "ca3fef81",
   "metadata": {},
   "outputs": [
    {
     "name": "stderr",
     "output_type": "stream",
     "text": [
      "Clipping input data to the valid range for imshow with RGB data ([0..1] for floats or [0..255] for integers).\n",
      "Clipping input data to the valid range for imshow with RGB data ([0..1] for floats or [0..255] for integers).\n",
      "/tmp/ipykernel_714777/323137109.py:8: RuntimeWarning: More than 20 figures have been opened. Figures created through the pyplot interface (`matplotlib.pyplot.figure`) are retained until explicitly closed and may consume too much memory. (To control this warning, see the rcParam `figure.max_open_warning`).\n",
      "  plt.figure()\n"
     ]
    },
    {
     "name": "stdout",
     "output_type": "stream",
     "text": [
      "\n"
     ]
    },
    {
     "data": {
      "image/png": "[encoded data removed]",
      "text/plain": [
       "<Figure size 2160x360 with 34 Axes>"
      ]
     },
     "metadata": {
      "needs_background": "light"
     },
     "output_type": "display_data"
    },
    {
     "data": {
      "text/plain": [
       "<Figure size 432x288 with 0 Axes>"
      ]
     },
     "metadata": {},
     "output_type": "display_data"
    },
    {
     "data": {
      "text/plain": [
       "<Figure size 432x288 with 0 Axes>"
      ]
     },
     "metadata": {},
     "output_type": "display_data"
    },
    {
     "data": {
      "text/plain": [
       "<Figure size 432x288 with 0 Axes>"
      ]
     },
     "metadata": {},
     "output_type": "display_data"
    },
    {
     "data": {
      "text/plain": [
       "<Figure size 432x288 with 0 Axes>"
      ]
     },
     "metadata": {},
     "output_type": "display_data"
    },
    {
     "data": {
      "text/plain": [
       "<Figure size 432x288 with 0 Axes>"
      ]
     },
     "metadata": {},
     "output_type": "display_data"
    },
    {
     "data": {
      "text/plain": [
       "<Figure size 432x288 with 0 Axes>"
      ]
     },
     "metadata": {},
     "output_type": "display_data"
    },
    {
     "data": {
      "text/plain": [
       "<Figure size 432x288 with 0 Axes>"
      ]
     },
     "metadata": {},
     "output_type": "display_data"
    },
    {
     "data": {
      "text/plain": [
       "<Figure size 432x288 with 0 Axes>"
      ]
     },
     "metadata": {},
     "output_type": "display_data"
    },
    {
     "data": {
      "text/plain": [
       "<Figure size 432x288 with 0 Axes>"
      ]
     },
     "metadata": {},
     "output_type": "display_data"
    },
    {
     "data": {
      "text/plain": [
       "<Figure size 432x288 with 0 Axes>"
      ]
     },
     "metadata": {},
     "output_type": "display_data"
    },
    {
     "data": {
      "text/plain": [
       "<Figure size 432x288 with 0 Axes>"
      ]
     },
     "metadata": {},
     "output_type": "display_data"
    },
    {
     "data": {
      "text/plain": [
       "<Figure size 432x288 with 0 Axes>"
      ]
     },
     "metadata": {},
     "output_type": "display_data"
    },
    {
     "data": {
      "text/plain": [
       "<Figure size 432x288 with 0 Axes>"
      ]
     },
     "metadata": {},
     "output_type": "display_data"
    },
    {
     "data": {
      "text/plain": [
       "<Figure size 432x288 with 0 Axes>"
      ]
     },
     "metadata": {},
     "output_type": "display_data"
    },
    {
     "data": {
      "text/plain": [
       "<Figure size 432x288 with 0 Axes>"
      ]
     },
     "metadata": {},
     "output_type": "display_data"
    },
    {
     "data": {
      "text/plain": [
       "<Figure size 432x288 with 0 Axes>"
      ]
     },
     "metadata": {},
     "output_type": "display_data"
    },
    {
     "data": {
      "text/plain": [
       "<Figure size 432x288 with 0 Axes>"
      ]
     },
     "metadata": {},
     "output_type": "display_data"
    },
    {
     "data": {
      "text/plain": [
       "<Figure size 432x288 with 0 Axes>"
      ]
     },
     "metadata": {},
     "output_type": "display_data"
    },
    {
     "data": {
      "text/plain": [
       "<Figure size 432x288 with 0 Axes>"
      ]
     },
     "metadata": {},
     "output_type": "display_data"
    },
    {
     "data": {
      "text/plain": [
       "<Figure size 432x288 with 0 Axes>"
      ]
     },
     "metadata": {},
     "output_type": "display_data"
    },
    {
     "data": {
      "text/plain": [
       "<Figure size 432x288 with 0 Axes>"
      ]
     },
     "metadata": {},
     "output_type": "display_data"
    },
    {
     "data": {
      "text/plain": [
       "<Figure size 432x288 with 0 Axes>"
      ]
     },
     "metadata": {},
     "output_type": "display_data"
    },
    {
     "data": {
      "text/plain": [
       "<Figure size 432x288 with 0 Axes>"
      ]
     },
     "metadata": {},
     "output_type": "display_data"
    },
    {
     "data": {
      "text/plain": [
       "<Figure size 432x288 with 0 Axes>"
      ]
     },
     "metadata": {},
     "output_type": "display_data"
    },
    {
     "data": {
      "text/plain": [
       "<Figure size 432x288 with 0 Axes>"
      ]
     },
     "metadata": {},
     "output_type": "display_data"
    },
    {
     "data": {
      "text/plain": [
       "<Figure size 432x288 with 0 Axes>"
      ]
     },
     "metadata": {},
     "output_type": "display_data"
    },
    {
     "data": {
      "text/plain": [
       "<Figure size 432x288 with 0 Axes>"
      ]
     },
     "metadata": {},
     "output_type": "display_data"
    },
    {
     "data": {
      "text/plain": [
       "<Figure size 432x288 with 0 Axes>"
      ]
     },
     "metadata": {},
     "output_type": "display_data"
    },
    {
     "data": {
      "text/plain": [
       "<Figure size 432x288 with 0 Axes>"
      ]
     },
     "metadata": {},
     "output_type": "display_data"
    },
    {
     "data": {
      "text/plain": [
       "<Figure size 432x288 with 0 Axes>"
      ]
     },
     "metadata": {},
     "output_type": "display_data"
    },
    {
     "data": {
      "text/plain": [
       "<Figure size 432x288 with 0 Axes>"
      ]
     },
     "metadata": {},
     "output_type": "display_data"
    },
    {
     "data": {
      "text/plain": [
       "<Figure size 432x288 with 0 Axes>"
      ]
     },
     "metadata": {},
     "output_type": "display_data"
    }
   ],
   "source": [
    "fig, axs = plt.subplots(2, 17,figsize=(30,5))\n",
    "axs[0][0].imshow(np.exp(view1[0].permute(1,2,0)))\n",
    "axs[1][0].imshow(np.exp(view2[0].permute(1,2,0)))\n",
    "for i in range(16):\n",
    "    plt.figure()\n",
    "    axs[0][i+1].imshow(mask1[0][i])\n",
    "for i in range(16):\n",
    "    plt.figure()\n",
    "    axs[1][i+1].imshow(mask2[0][i])\n",
    "print()"
   ]
  },
  {
   "cell_type": "code",
   "execution_count": 103,
   "id": "3f48d7b3",
   "metadata": {
    "scrolled": false
   },
   "outputs": [
    {
     "ename": "TypeError",
     "evalue": "Invalid shape (2, 3, 224, 224) for image data",
     "output_type": "error",
     "traceback": [
      "\u001b[0;31m---------------------------------------------------------------------------\u001b[0m",
      "\u001b[0;31mTypeError\u001b[0m                                 Traceback (most recent call last)",
      "Input \u001b[0;32mIn [103]\u001b[0m, in \u001b[0;36m<cell line: 4>\u001b[0;34m()\u001b[0m\n\u001b[1;32m      2\u001b[0m \u001b[38;5;66;03m#img,anno = transform1(img,anno)\u001b[39;00m\n\u001b[1;32m      3\u001b[0m plt\u001b[38;5;241m.\u001b[39mfigure()\n\u001b[0;32m----> 4\u001b[0m \u001b[43mplt\u001b[49m\u001b[38;5;241;43m.\u001b[39;49m\u001b[43mimshow\u001b[49m\u001b[43m(\u001b[49m\u001b[43mimg\u001b[49m\u001b[43m)\u001b[49m\n\u001b[1;32m      5\u001b[0m plt\u001b[38;5;241m.\u001b[39mfigure()\n\u001b[1;32m      6\u001b[0m plt\u001b[38;5;241m.\u001b[39mimshow(anno)\n",
      "File \u001b[0;32m~/miniconda3/envs/mae/lib/python3.9/site-packages/matplotlib/_api/deprecation.py:456\u001b[0m, in \u001b[0;36mmake_keyword_only.<locals>.wrapper\u001b[0;34m(*args, **kwargs)\u001b[0m\n\u001b[1;32m    450\u001b[0m \u001b[38;5;28;01mif\u001b[39;00m \u001b[38;5;28mlen\u001b[39m(args) \u001b[38;5;241m>\u001b[39m name_idx:\n\u001b[1;32m    451\u001b[0m     warn_deprecated(\n\u001b[1;32m    452\u001b[0m         since, message\u001b[38;5;241m=\u001b[39m\u001b[38;5;124m\"\u001b[39m\u001b[38;5;124mPassing the \u001b[39m\u001b[38;5;132;01m%(name)s\u001b[39;00m\u001b[38;5;124m \u001b[39m\u001b[38;5;132;01m%(obj_type)s\u001b[39;00m\u001b[38;5;124m \u001b[39m\u001b[38;5;124m\"\u001b[39m\n\u001b[1;32m    453\u001b[0m         \u001b[38;5;124m\"\u001b[39m\u001b[38;5;124mpositionally is deprecated since Matplotlib \u001b[39m\u001b[38;5;132;01m%(since)s\u001b[39;00m\u001b[38;5;124m; the \u001b[39m\u001b[38;5;124m\"\u001b[39m\n\u001b[1;32m    454\u001b[0m         \u001b[38;5;124m\"\u001b[39m\u001b[38;5;124mparameter will become keyword-only \u001b[39m\u001b[38;5;132;01m%(removal)s\u001b[39;00m\u001b[38;5;124m.\u001b[39m\u001b[38;5;124m\"\u001b[39m,\n\u001b[1;32m    455\u001b[0m         name\u001b[38;5;241m=\u001b[39mname, obj_type\u001b[38;5;241m=\u001b[39m\u001b[38;5;124mf\u001b[39m\u001b[38;5;124m\"\u001b[39m\u001b[38;5;124mparameter of \u001b[39m\u001b[38;5;132;01m{\u001b[39;00mfunc\u001b[38;5;241m.\u001b[39m\u001b[38;5;18m__name__\u001b[39m\u001b[38;5;132;01m}\u001b[39;00m\u001b[38;5;124m()\u001b[39m\u001b[38;5;124m\"\u001b[39m)\n\u001b[0;32m--> 456\u001b[0m \u001b[38;5;28;01mreturn\u001b[39;00m \u001b[43mfunc\u001b[49m\u001b[43m(\u001b[49m\u001b[38;5;241;43m*\u001b[39;49m\u001b[43margs\u001b[49m\u001b[43m,\u001b[49m\u001b[43m \u001b[49m\u001b[38;5;241;43m*\u001b[39;49m\u001b[38;5;241;43m*\u001b[39;49m\u001b[43mkwargs\u001b[49m\u001b[43m)\u001b[49m\n",
      "File \u001b[0;32m~/miniconda3/envs/mae/lib/python3.9/site-packages/matplotlib/pyplot.py:2640\u001b[0m, in \u001b[0;36mimshow\u001b[0;34m(X, cmap, norm, aspect, interpolation, alpha, vmin, vmax, origin, extent, interpolation_stage, filternorm, filterrad, resample, url, data, **kwargs)\u001b[0m\n\u001b[1;32m   2634\u001b[0m \u001b[38;5;129m@_copy_docstring_and_deprecators\u001b[39m(Axes\u001b[38;5;241m.\u001b[39mimshow)\n\u001b[1;32m   2635\u001b[0m \u001b[38;5;28;01mdef\u001b[39;00m \u001b[38;5;21mimshow\u001b[39m(\n\u001b[1;32m   2636\u001b[0m         X, cmap\u001b[38;5;241m=\u001b[39m\u001b[38;5;28;01mNone\u001b[39;00m, norm\u001b[38;5;241m=\u001b[39m\u001b[38;5;28;01mNone\u001b[39;00m, aspect\u001b[38;5;241m=\u001b[39m\u001b[38;5;28;01mNone\u001b[39;00m, interpolation\u001b[38;5;241m=\u001b[39m\u001b[38;5;28;01mNone\u001b[39;00m,\n\u001b[1;32m   2637\u001b[0m         alpha\u001b[38;5;241m=\u001b[39m\u001b[38;5;28;01mNone\u001b[39;00m, vmin\u001b[38;5;241m=\u001b[39m\u001b[38;5;28;01mNone\u001b[39;00m, vmax\u001b[38;5;241m=\u001b[39m\u001b[38;5;28;01mNone\u001b[39;00m, origin\u001b[38;5;241m=\u001b[39m\u001b[38;5;28;01mNone\u001b[39;00m, extent\u001b[38;5;241m=\u001b[39m\u001b[38;5;28;01mNone\u001b[39;00m, \u001b[38;5;241m*\u001b[39m,\n\u001b[1;32m   2638\u001b[0m         interpolation_stage\u001b[38;5;241m=\u001b[39m\u001b[38;5;28;01mNone\u001b[39;00m, filternorm\u001b[38;5;241m=\u001b[39m\u001b[38;5;28;01mTrue\u001b[39;00m, filterrad\u001b[38;5;241m=\u001b[39m\u001b[38;5;241m4.0\u001b[39m,\n\u001b[1;32m   2639\u001b[0m         resample\u001b[38;5;241m=\u001b[39m\u001b[38;5;28;01mNone\u001b[39;00m, url\u001b[38;5;241m=\u001b[39m\u001b[38;5;28;01mNone\u001b[39;00m, data\u001b[38;5;241m=\u001b[39m\u001b[38;5;28;01mNone\u001b[39;00m, \u001b[38;5;241m*\u001b[39m\u001b[38;5;241m*\u001b[39mkwargs):\n\u001b[0;32m-> 2640\u001b[0m     __ret \u001b[38;5;241m=\u001b[39m \u001b[43mgca\u001b[49m\u001b[43m(\u001b[49m\u001b[43m)\u001b[49m\u001b[38;5;241;43m.\u001b[39;49m\u001b[43mimshow\u001b[49m\u001b[43m(\u001b[49m\n\u001b[1;32m   2641\u001b[0m \u001b[43m        \u001b[49m\u001b[43mX\u001b[49m\u001b[43m,\u001b[49m\u001b[43m \u001b[49m\u001b[43mcmap\u001b[49m\u001b[38;5;241;43m=\u001b[39;49m\u001b[43mcmap\u001b[49m\u001b[43m,\u001b[49m\u001b[43m \u001b[49m\u001b[43mnorm\u001b[49m\u001b[38;5;241;43m=\u001b[39;49m\u001b[43mnorm\u001b[49m\u001b[43m,\u001b[49m\u001b[43m \u001b[49m\u001b[43maspect\u001b[49m\u001b[38;5;241;43m=\u001b[39;49m\u001b[43maspect\u001b[49m\u001b[43m,\u001b[49m\n\u001b[1;32m   2642\u001b[0m \u001b[43m        \u001b[49m\u001b[43minterpolation\u001b[49m\u001b[38;5;241;43m=\u001b[39;49m\u001b[43minterpolation\u001b[49m\u001b[43m,\u001b[49m\u001b[43m \u001b[49m\u001b[43malpha\u001b[49m\u001b[38;5;241;43m=\u001b[39;49m\u001b[43malpha\u001b[49m\u001b[43m,\u001b[49m\u001b[43m \u001b[49m\u001b[43mvmin\u001b[49m\u001b[38;5;241;43m=\u001b[39;49m\u001b[43mvmin\u001b[49m\u001b[43m,\u001b[49m\n\u001b[1;32m   2643\u001b[0m \u001b[43m        \u001b[49m\u001b[43mvmax\u001b[49m\u001b[38;5;241;43m=\u001b[39;49m\u001b[43mvmax\u001b[49m\u001b[43m,\u001b[49m\u001b[43m \u001b[49m\u001b[43morigin\u001b[49m\u001b[38;5;241;43m=\u001b[39;49m\u001b[43morigin\u001b[49m\u001b[43m,\u001b[49m\u001b[43m \u001b[49m\u001b[43mextent\u001b[49m\u001b[38;5;241;43m=\u001b[39;49m\u001b[43mextent\u001b[49m\u001b[43m,\u001b[49m\n\u001b[1;32m   2644\u001b[0m \u001b[43m        \u001b[49m\u001b[43minterpolation_stage\u001b[49m\u001b[38;5;241;43m=\u001b[39;49m\u001b[43minterpolation_stage\u001b[49m\u001b[43m,\u001b[49m\n\u001b[1;32m   2645\u001b[0m \u001b[43m        \u001b[49m\u001b[43mfilternorm\u001b[49m\u001b[38;5;241;43m=\u001b[39;49m\u001b[43mfilternorm\u001b[49m\u001b[43m,\u001b[49m\u001b[43m \u001b[49m\u001b[43mfilterrad\u001b[49m\u001b[38;5;241;43m=\u001b[39;49m\u001b[43mfilterrad\u001b[49m\u001b[43m,\u001b[49m\u001b[43m \u001b[49m\u001b[43mresample\u001b[49m\u001b[38;5;241;43m=\u001b[39;49m\u001b[43mresample\u001b[49m\u001b[43m,\u001b[49m\n\u001b[1;32m   2646\u001b[0m \u001b[43m        \u001b[49m\u001b[43murl\u001b[49m\u001b[38;5;241;43m=\u001b[39;49m\u001b[43murl\u001b[49m\u001b[43m,\u001b[49m\u001b[43m \u001b[49m\u001b[38;5;241;43m*\u001b[39;49m\u001b[38;5;241;43m*\u001b[39;49m\u001b[43m(\u001b[49m\u001b[43m{\u001b[49m\u001b[38;5;124;43m\"\u001b[39;49m\u001b[38;5;124;43mdata\u001b[39;49m\u001b[38;5;124;43m\"\u001b[39;49m\u001b[43m:\u001b[49m\u001b[43m \u001b[49m\u001b[43mdata\u001b[49m\u001b[43m}\u001b[49m\u001b[43m \u001b[49m\u001b[38;5;28;43;01mif\u001b[39;49;00m\u001b[43m \u001b[49m\u001b[43mdata\u001b[49m\u001b[43m \u001b[49m\u001b[38;5;129;43;01mis\u001b[39;49;00m\u001b[43m \u001b[49m\u001b[38;5;129;43;01mnot\u001b[39;49;00m\u001b[43m \u001b[49m\u001b[38;5;28;43;01mNone\u001b[39;49;00m\u001b[43m \u001b[49m\u001b[38;5;28;43;01melse\u001b[39;49;00m\u001b[43m \u001b[49m\u001b[43m{\u001b[49m\u001b[43m}\u001b[49m\u001b[43m)\u001b[49m\u001b[43m,\u001b[49m\n\u001b[1;32m   2647\u001b[0m \u001b[43m        \u001b[49m\u001b[38;5;241;43m*\u001b[39;49m\u001b[38;5;241;43m*\u001b[39;49m\u001b[43mkwargs\u001b[49m\u001b[43m)\u001b[49m\n\u001b[1;32m   2648\u001b[0m     sci(__ret)\n\u001b[1;32m   2649\u001b[0m     \u001b[38;5;28;01mreturn\u001b[39;00m __ret\n",
      "File \u001b[0;32m~/miniconda3/envs/mae/lib/python3.9/site-packages/matplotlib/_api/deprecation.py:456\u001b[0m, in \u001b[0;36mmake_keyword_only.<locals>.wrapper\u001b[0;34m(*args, **kwargs)\u001b[0m\n\u001b[1;32m    450\u001b[0m \u001b[38;5;28;01mif\u001b[39;00m \u001b[38;5;28mlen\u001b[39m(args) \u001b[38;5;241m>\u001b[39m name_idx:\n\u001b[1;32m    451\u001b[0m     warn_deprecated(\n\u001b[1;32m    452\u001b[0m         since, message\u001b[38;5;241m=\u001b[39m\u001b[38;5;124m\"\u001b[39m\u001b[38;5;124mPassing the \u001b[39m\u001b[38;5;132;01m%(name)s\u001b[39;00m\u001b[38;5;124m \u001b[39m\u001b[38;5;132;01m%(obj_type)s\u001b[39;00m\u001b[38;5;124m \u001b[39m\u001b[38;5;124m\"\u001b[39m\n\u001b[1;32m    453\u001b[0m         \u001b[38;5;124m\"\u001b[39m\u001b[38;5;124mpositionally is deprecated since Matplotlib \u001b[39m\u001b[38;5;132;01m%(since)s\u001b[39;00m\u001b[38;5;124m; the \u001b[39m\u001b[38;5;124m\"\u001b[39m\n\u001b[1;32m    454\u001b[0m         \u001b[38;5;124m\"\u001b[39m\u001b[38;5;124mparameter will become keyword-only \u001b[39m\u001b[38;5;132;01m%(removal)s\u001b[39;00m\u001b[38;5;124m.\u001b[39m\u001b[38;5;124m\"\u001b[39m,\n\u001b[1;32m    455\u001b[0m         name\u001b[38;5;241m=\u001b[39mname, obj_type\u001b[38;5;241m=\u001b[39m\u001b[38;5;124mf\u001b[39m\u001b[38;5;124m\"\u001b[39m\u001b[38;5;124mparameter of \u001b[39m\u001b[38;5;132;01m{\u001b[39;00mfunc\u001b[38;5;241m.\u001b[39m\u001b[38;5;18m__name__\u001b[39m\u001b[38;5;132;01m}\u001b[39;00m\u001b[38;5;124m()\u001b[39m\u001b[38;5;124m\"\u001b[39m)\n\u001b[0;32m--> 456\u001b[0m \u001b[38;5;28;01mreturn\u001b[39;00m \u001b[43mfunc\u001b[49m\u001b[43m(\u001b[49m\u001b[38;5;241;43m*\u001b[39;49m\u001b[43margs\u001b[49m\u001b[43m,\u001b[49m\u001b[43m \u001b[49m\u001b[38;5;241;43m*\u001b[39;49m\u001b[38;5;241;43m*\u001b[39;49m\u001b[43mkwargs\u001b[49m\u001b[43m)\u001b[49m\n",
      "File \u001b[0;32m~/miniconda3/envs/mae/lib/python3.9/site-packages/matplotlib/__init__.py:1412\u001b[0m, in \u001b[0;36m_preprocess_data.<locals>.inner\u001b[0;34m(ax, data, *args, **kwargs)\u001b[0m\n\u001b[1;32m   1409\u001b[0m \u001b[38;5;129m@functools\u001b[39m\u001b[38;5;241m.\u001b[39mwraps(func)\n\u001b[1;32m   1410\u001b[0m \u001b[38;5;28;01mdef\u001b[39;00m \u001b[38;5;21minner\u001b[39m(ax, \u001b[38;5;241m*\u001b[39margs, data\u001b[38;5;241m=\u001b[39m\u001b[38;5;28;01mNone\u001b[39;00m, \u001b[38;5;241m*\u001b[39m\u001b[38;5;241m*\u001b[39mkwargs):\n\u001b[1;32m   1411\u001b[0m     \u001b[38;5;28;01mif\u001b[39;00m data \u001b[38;5;129;01mis\u001b[39;00m \u001b[38;5;28;01mNone\u001b[39;00m:\n\u001b[0;32m-> 1412\u001b[0m         \u001b[38;5;28;01mreturn\u001b[39;00m \u001b[43mfunc\u001b[49m\u001b[43m(\u001b[49m\u001b[43max\u001b[49m\u001b[43m,\u001b[49m\u001b[43m \u001b[49m\u001b[38;5;241;43m*\u001b[39;49m\u001b[38;5;28;43mmap\u001b[39;49m\u001b[43m(\u001b[49m\u001b[43msanitize_sequence\u001b[49m\u001b[43m,\u001b[49m\u001b[43m \u001b[49m\u001b[43margs\u001b[49m\u001b[43m)\u001b[49m\u001b[43m,\u001b[49m\u001b[43m \u001b[49m\u001b[38;5;241;43m*\u001b[39;49m\u001b[38;5;241;43m*\u001b[39;49m\u001b[43mkwargs\u001b[49m\u001b[43m)\u001b[49m\n\u001b[1;32m   1414\u001b[0m     bound \u001b[38;5;241m=\u001b[39m new_sig\u001b[38;5;241m.\u001b[39mbind(ax, \u001b[38;5;241m*\u001b[39margs, \u001b[38;5;241m*\u001b[39m\u001b[38;5;241m*\u001b[39mkwargs)\n\u001b[1;32m   1415\u001b[0m     auto_label \u001b[38;5;241m=\u001b[39m (bound\u001b[38;5;241m.\u001b[39marguments\u001b[38;5;241m.\u001b[39mget(label_namer)\n\u001b[1;32m   1416\u001b[0m                   \u001b[38;5;129;01mor\u001b[39;00m bound\u001b[38;5;241m.\u001b[39mkwargs\u001b[38;5;241m.\u001b[39mget(label_namer))\n",
      "File \u001b[0;32m~/miniconda3/envs/mae/lib/python3.9/site-packages/matplotlib/axes/_axes.py:5488\u001b[0m, in \u001b[0;36mAxes.imshow\u001b[0;34m(self, X, cmap, norm, aspect, interpolation, alpha, vmin, vmax, origin, extent, interpolation_stage, filternorm, filterrad, resample, url, **kwargs)\u001b[0m\n\u001b[1;32m   5481\u001b[0m \u001b[38;5;28mself\u001b[39m\u001b[38;5;241m.\u001b[39mset_aspect(aspect)\n\u001b[1;32m   5482\u001b[0m im \u001b[38;5;241m=\u001b[39m mimage\u001b[38;5;241m.\u001b[39mAxesImage(\u001b[38;5;28mself\u001b[39m, cmap, norm, interpolation,\n\u001b[1;32m   5483\u001b[0m                       origin, extent, filternorm\u001b[38;5;241m=\u001b[39mfilternorm,\n\u001b[1;32m   5484\u001b[0m                       filterrad\u001b[38;5;241m=\u001b[39mfilterrad, resample\u001b[38;5;241m=\u001b[39mresample,\n\u001b[1;32m   5485\u001b[0m                       interpolation_stage\u001b[38;5;241m=\u001b[39minterpolation_stage,\n\u001b[1;32m   5486\u001b[0m                       \u001b[38;5;241m*\u001b[39m\u001b[38;5;241m*\u001b[39mkwargs)\n\u001b[0;32m-> 5488\u001b[0m \u001b[43mim\u001b[49m\u001b[38;5;241;43m.\u001b[39;49m\u001b[43mset_data\u001b[49m\u001b[43m(\u001b[49m\u001b[43mX\u001b[49m\u001b[43m)\u001b[49m\n\u001b[1;32m   5489\u001b[0m im\u001b[38;5;241m.\u001b[39mset_alpha(alpha)\n\u001b[1;32m   5490\u001b[0m \u001b[38;5;28;01mif\u001b[39;00m im\u001b[38;5;241m.\u001b[39mget_clip_path() \u001b[38;5;129;01mis\u001b[39;00m \u001b[38;5;28;01mNone\u001b[39;00m:\n\u001b[1;32m   5491\u001b[0m     \u001b[38;5;66;03m# image does not already have clipping set, clip to axes patch\u001b[39;00m\n",
      "File \u001b[0;32m~/miniconda3/envs/mae/lib/python3.9/site-packages/matplotlib/image.py:715\u001b[0m, in \u001b[0;36m_ImageBase.set_data\u001b[0;34m(self, A)\u001b[0m\n\u001b[1;32m    711\u001b[0m     \u001b[38;5;28mself\u001b[39m\u001b[38;5;241m.\u001b[39m_A \u001b[38;5;241m=\u001b[39m \u001b[38;5;28mself\u001b[39m\u001b[38;5;241m.\u001b[39m_A[:, :, \u001b[38;5;241m0\u001b[39m]\n\u001b[1;32m    713\u001b[0m \u001b[38;5;28;01mif\u001b[39;00m \u001b[38;5;129;01mnot\u001b[39;00m (\u001b[38;5;28mself\u001b[39m\u001b[38;5;241m.\u001b[39m_A\u001b[38;5;241m.\u001b[39mndim \u001b[38;5;241m==\u001b[39m \u001b[38;5;241m2\u001b[39m\n\u001b[1;32m    714\u001b[0m         \u001b[38;5;129;01mor\u001b[39;00m \u001b[38;5;28mself\u001b[39m\u001b[38;5;241m.\u001b[39m_A\u001b[38;5;241m.\u001b[39mndim \u001b[38;5;241m==\u001b[39m \u001b[38;5;241m3\u001b[39m \u001b[38;5;129;01mand\u001b[39;00m \u001b[38;5;28mself\u001b[39m\u001b[38;5;241m.\u001b[39m_A\u001b[38;5;241m.\u001b[39mshape[\u001b[38;5;241m-\u001b[39m\u001b[38;5;241m1\u001b[39m] \u001b[38;5;129;01min\u001b[39;00m [\u001b[38;5;241m3\u001b[39m, \u001b[38;5;241m4\u001b[39m]):\n\u001b[0;32m--> 715\u001b[0m     \u001b[38;5;28;01mraise\u001b[39;00m \u001b[38;5;167;01mTypeError\u001b[39;00m(\u001b[38;5;124m\"\u001b[39m\u001b[38;5;124mInvalid shape \u001b[39m\u001b[38;5;132;01m{}\u001b[39;00m\u001b[38;5;124m for image data\u001b[39m\u001b[38;5;124m\"\u001b[39m\n\u001b[1;32m    716\u001b[0m                     \u001b[38;5;241m.\u001b[39mformat(\u001b[38;5;28mself\u001b[39m\u001b[38;5;241m.\u001b[39m_A\u001b[38;5;241m.\u001b[39mshape))\n\u001b[1;32m    718\u001b[0m \u001b[38;5;28;01mif\u001b[39;00m \u001b[38;5;28mself\u001b[39m\u001b[38;5;241m.\u001b[39m_A\u001b[38;5;241m.\u001b[39mndim \u001b[38;5;241m==\u001b[39m \u001b[38;5;241m3\u001b[39m:\n\u001b[1;32m    719\u001b[0m     \u001b[38;5;66;03m# If the input data has values outside the valid range (after\u001b[39;00m\n\u001b[1;32m    720\u001b[0m     \u001b[38;5;66;03m# normalisation), we issue a warning and then clip X to the bounds\u001b[39;00m\n\u001b[1;32m    721\u001b[0m     \u001b[38;5;66;03m# - otherwise casting wraps extreme values, hiding outliers and\u001b[39;00m\n\u001b[1;32m    722\u001b[0m     \u001b[38;5;66;03m# making reliable interpretation impossible.\u001b[39;00m\n\u001b[1;32m    723\u001b[0m     high \u001b[38;5;241m=\u001b[39m \u001b[38;5;241m255\u001b[39m \u001b[38;5;28;01mif\u001b[39;00m np\u001b[38;5;241m.\u001b[39missubdtype(\u001b[38;5;28mself\u001b[39m\u001b[38;5;241m.\u001b[39m_A\u001b[38;5;241m.\u001b[39mdtype, np\u001b[38;5;241m.\u001b[39minteger) \u001b[38;5;28;01melse\u001b[39;00m \u001b[38;5;241m1\u001b[39m\n",
      "\u001b[0;31mTypeError\u001b[0m: Invalid shape (2, 3, 224, 224) for image data"
     ]
    },
    {
     "data": {
      "image/png": "[encoded data removed]",
      "text/plain": [
       "<Figure size 432x288 with 1 Axes>"
      ]
     },
     "metadata": {
      "needs_background": "light"
     },
     "output_type": "display_data"
    }
   ],
   "source": [
    "img,anno = dataset[7]\n",
    "#img,anno = transform1(img,anno)\n",
    "plt.figure()\n",
    "plt.imshow(img)\n",
    "plt.figure()\n",
    "plt.imshow(anno)\n",
    "totensor = transforms.ToTensor()\n",
    "normalize = transforms.Normalize(mean=[0.485, 0.456, 0.406],\n",
    "                                     std=[0.229, 0.224, 0.225])"
   ]
  },
  {
   "cell_type": "code",
   "execution_count": 7,
   "id": "6640d7d6",
   "metadata": {},
   "outputs": [],
   "source": [
    "img_normalized = normalize(totensor(img))"
   ]
  },
  {
   "cell_type": "code",
   "execution_count": 8,
   "id": "05efa771",
   "metadata": {},
   "outputs": [],
   "source": [
    "import torch\n",
    "import torch.nn as nn\n",
    "import torch.nn.functional as F"
   ]
  },
  {
   "cell_type": "code",
   "execution_count": 271,
   "id": "41fa668a",
   "metadata": {},
   "outputs": [],
   "source": [
    "class RandomFeatureExtractor(nn.Module):\n",
    "    def __init__(self):\n",
    "        super().__init__()\n",
    "        self.conv1 = nn.Conv2d(3, 256, 5)\n",
    "        self.conv2 = nn.Conv2d(256, 512, 3)\n",
    "        self.conv3 = nn.Conv2d(512, 1024,3,dilation=6, )\n",
    "        self.conv4 = nn.Conv2d(1024, 256,3,dilation=6 )\n",
    "    def forward(self,x):\n",
    "        x = self.conv1(x)\n",
    "        x = F.relu(x)\n",
    "        x = self.conv2(x)\n",
    "        x = F.relu(x)\n",
    "        x = self.conv3(x)\n",
    "        x = F.relu(x)\n",
    "        x = self.conv4(x)\n",
    "        x = F.interpolate(x,(49,49))\n",
    "        #x = nn.AdaptiveAvgPool2d(h,w,)\n",
    "        return x"
   ]
  },
  {
   "cell_type": "code",
   "execution_count": 272,
   "id": "c165668e",
   "metadata": {},
   "outputs": [],
   "source": [
    "model = RandomFeatureExtractor()"
   ]
  },
  {
   "cell_type": "code",
   "execution_count": 273,
   "id": "31c6f976",
   "metadata": {},
   "outputs": [],
   "source": [
    "device='cuda:0'"
   ]
  },
  {
   "cell_type": "code",
   "execution_count": 274,
   "id": "28c9ef79",
   "metadata": {},
   "outputs": [],
   "source": [
    "model = model.to(device)"
   ]
  },
  {
   "cell_type": "code",
   "execution_count": 275,
   "id": "0dc18691",
   "metadata": {
    "scrolled": true
   },
   "outputs": [],
   "source": [
    "x = model(img_normalized.unsqueeze(0).to(device))"
   ]
  },
  {
   "cell_type": "code",
   "execution_count": 276,
   "id": "4c40279a",
   "metadata": {},
   "outputs": [],
   "source": [
    "_,h,w = img_normalized.shape"
   ]
  },
  {
   "cell_type": "code",
   "execution_count": 277,
   "id": "0ffbcc97",
   "metadata": {},
   "outputs": [],
   "source": [
    "features = x.detach().cpu()\n",
    "_,dim,hf,wf = features.shape"
   ]
  },
  {
   "cell_type": "code",
   "execution_count": 278,
   "id": "47f46394",
   "metadata": {},
   "outputs": [
    {
     "data": {
      "text/plain": [
       "torch.Size([1, 256, 49, 49])"
      ]
     },
     "execution_count": 278,
     "metadata": {},
     "output_type": "execute_result"
    }
   ],
   "source": [
    "features.shape"
   ]
  },
  {
   "cell_type": "code",
   "execution_count": 279,
   "id": "d5402eb5",
   "metadata": {},
   "outputs": [
    {
     "data": {
      "text/plain": [
       "torch.Size([3, 375, 500])"
      ]
     },
     "execution_count": 279,
     "metadata": {},
     "output_type": "execute_result"
    }
   ],
   "source": [
    "img_normalized.shape"
   ]
  },
  {
   "cell_type": "code",
   "execution_count": 280,
   "id": "a33b76f4",
   "metadata": {},
   "outputs": [],
   "source": [
    " from sklearn.cluster import KMeans"
   ]
  },
  {
   "cell_type": "code",
   "execution_count": 281,
   "id": "c1296e10",
   "metadata": {},
   "outputs": [],
   "source": [
    "label_map = torch.argmax(features,dim=1)\n",
    "_t = F.one_hot(label_map,dim)"
   ]
  },
  {
   "cell_type": "code",
   "execution_count": 282,
   "id": "b3baa365",
   "metadata": {},
   "outputs": [
    {
     "data": {
      "text/plain": [
       "torch.Size([2401, 256])"
      ]
     },
     "execution_count": 282,
     "metadata": {},
     "output_type": "execute_result"
    }
   ],
   "source": [
    "features.reshape(dim,-1).T.shape"
   ]
  },
  {
   "cell_type": "code",
   "execution_count": 283,
   "id": "7fc5fca2",
   "metadata": {},
   "outputs": [],
   "source": [
    "kmeans = KMeans(n_clusters=16, random_state=0).fit(features.reshape(dim,-1).T)\n",
    "_t = F.one_hot(torch.LongTensor(kmeans.labels_.reshape(hf,wf)),dim).permute(2,0,1).unsqueeze(0)"
   ]
  },
  {
   "cell_type": "code",
   "execution_count": 284,
   "id": "5c941ab9",
   "metadata": {},
   "outputs": [],
   "source": [
    "_t = F.interpolate(_t.float(),(h,w))\n",
    "_t = torch.argmax(_t,dim=1)"
   ]
  },
  {
   "cell_type": "code",
   "execution_count": 285,
   "id": "3e076c16",
   "metadata": {},
   "outputs": [
    {
     "data": {
      "text/plain": [
       "<matplotlib.image.AxesImage at 0x7f87f9073880>"
      ]
     },
     "execution_count": 285,
     "metadata": {},
     "output_type": "execute_result"
    },
    {
     "data": {
      "image/png": "[encoded data removed]",
      "text/plain": [
       "<Figure size 432x288 with 1 Axes>"
      ]
     },
     "metadata": {
      "needs_background": "light"
     },
     "output_type": "display_data"
    }
   ],
   "source": [
    "plt.imshow(_t[0].detach().cpu())"
   ]
  },
  {
   "cell_type": "code",
   "execution_count": 262,
   "id": "fa60743b",
   "metadata": {},
   "outputs": [
    {
     "data": {
      "text/plain": [
       "torch.Size([1, 256, 49, 49])"
      ]
     },
     "execution_count": 262,
     "metadata": {},
     "output_type": "execute_result"
    }
   ],
   "source": [
    "F.one_hot(torch.LongTensor(kmeans.labels_.reshape(49,49)),256).permute(2,0,1).unsqueeze(0).shape"
   ]
  },
  {
   "cell_type": "code",
   "execution_count": 134,
   "id": "e7698e3c",
   "metadata": {},
   "outputs": [
    {
     "data": {
      "text/plain": [
       "(375, 500)"
      ]
     },
     "execution_count": 134,
     "metadata": {},
     "output_type": "execute_result"
    }
   ],
   "source": [
    "h,w"
   ]
  },
  {
   "cell_type": "code",
   "execution_count": null,
   "id": "7de4dd7b",
   "metadata": {},
   "outputs": [],
   "source": []
  }
 ],
 "metadata": {
  "kernelspec": {
   "display_name": "Python 3 (ipykernel)",
   "language": "python",
   "name": "python3"
  },
  "language_info": {
   "codemirror_mode": {
    "name": "ipython",
    "version": 3
   },
   "file_extension": ".py",
   "mimetype": "text/x-python",
   "name": "python",
   "nbconvert_exporter": "python",
   "pygments_lexer": "ipython3",
   "version": "3.9.7"
  }
 },
 "nbformat": 4,
 "nbformat_minor": 5
}
